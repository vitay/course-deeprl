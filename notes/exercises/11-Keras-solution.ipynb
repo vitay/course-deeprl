{
 "cells": [
  {
   "cell_type": "markdown",
   "metadata": {},
   "source": [
    "# Keras tutorial"
   ]
  },
  {
   "cell_type": "markdown",
   "metadata": {},
   "source": [
    "The goal of this tutorial is to very quickly present keras, the high-level API of tensorflow, as it has already been seen in the Neurocomputing exercises. We will train a small fully-connected network on MNIST and observe what happens when the inputs or outputs are correlated, by training successively on the 0 digits, then the 1, etc. "
   ]
  },
  {
   "cell_type": "code",
   "execution_count": 14,
   "metadata": {},
   "outputs": [],
   "source": [
    "import numpy as np\n",
    "import matplotlib.pyplot as plt"
   ]
  },
  {
   "cell_type": "markdown",
   "metadata": {},
   "source": [
    "## Keras\n",
    "\n",
    "The first step is to install tensorflow. The easiest way is to use pip:\n",
    "    \n",
    "```bash\n",
    "pip install tensorflow\n",
    "```\n",
    "\n",
    "`keras` is now available as a submodule of tensorflow (you can also install it as a separate package):\n",
    "\n",
    "```python\n",
    "import tensorflow as tf\n",
    "```\n",
    "\n",
    "Keras provides a lot of ready-made layer types, activation functions, optimizers and so on. Do not hesitate to read its documentation on <https://keras.io>."
   ]
  },
  {
   "cell_type": "code",
   "execution_count": 15,
   "metadata": {},
   "outputs": [],
   "source": [
    "import tensorflow as tf"
   ]
  },
  {
   "cell_type": "markdown",
   "metadata": {},
   "source": [
    "The most important object in keras is `Sequential`. It is a container where you sequentially add layers of neurons (fully-connected, convolutional, recurrent, etc) and other stuff. It represents your model, i.e. the neural network itself.\n",
    "\n",
    "```python\n",
    "model = tf.keras.models.Sequential()\n",
    "```\n",
    "\n",
    "You can then `add()` layers to the model. A fully-connected layer is called `Dense` in keras. \n",
    "\n",
    "Let's create a MLP with 10 input neurons, two hidden layers with 100 hidden neurons each and 3 output neurons. \n",
    "\n",
    "The input layer is represented by the `Input` layer:\n",
    "\n",
    "```python\n",
    "model.add(tf.keras.layers.Input((10,)))\n",
    "```\n",
    "\n",
    "The first hidden layer can be added to the model with:\n",
    "\n",
    "```python\n",
    "model.add(tf.keras.layers.Dense(100, activation=\"relu\"))\n",
    "```\n",
    "\n",
    "The layer has 100 neurons and uses the ReLU activation function. One could optionally define the activation function as an additional \"layer\", but it is usually not needed:\n",
    "\n",
    "```python\n",
    "model.add(tf.keras.layers.Dense(100))\n",
    "model.add(tf.keras.layers.Activation('relu'))\n",
    "```\n",
    "\n",
    "Adding more layers is straightforward:\n",
    "\n",
    "```python\n",
    "model.add(tf.keras.layers.Dense(100, activation=\"relu\"))\n",
    "```\n",
    "\n",
    "Finally, we can add the output layer. The activation function depends on the problem:\n",
    "\n",
    "* For regression problems, a linear activation function should be used when the targets can take any value (e.g. Q-values):\n",
    "\n",
    "```python\n",
    "model.add(tf.keras.layers.Dense(3, activation=\"linear\"))\n",
    "```\n",
    "\n",
    "If the targets are bounded between 0 and 1, a logistic/sigmoid function can be used:\n",
    "\n",
    "```python\n",
    "model.add(tf.keras.layers.Dense(3, activation=\"sigmoid\"))\n",
    "```\n",
    "\n",
    "* For multi-class classification problems, a softmax activation function should be used:\n",
    "\n",
    "```python\n",
    "model.add(tf.keras.layers.Dense(3, activation=\"softmax\"))\n",
    "```\n",
    "\n",
    "This defines fully the structure of your desired neural network.\n",
    "\n",
    "**Q:** Implement a neural network for classification with 10 input neurons, two hidden layers with 100 neurons each (using ReLU) and 3 output neurons.\n",
    "\n",
    "*Hint:* `print(model.summary())` gives you a summary of the architecture of your model. Note in particular the number of trainable parameters (weights and biases)."
   ]
  },
  {
   "cell_type": "code",
   "execution_count": 16,
   "metadata": {},
   "outputs": [
    {
     "name": "stdout",
     "output_type": "stream",
     "text": [
      "Model: \"sequential_3\"\n",
      "_________________________________________________________________\n",
      " Layer (type)                Output Shape              Param #   \n",
      "=================================================================\n",
      " dense_9 (Dense)             (None, 100)               1100      \n",
      "                                                                 \n",
      " dense_10 (Dense)            (None, 100)               10100     \n",
      "                                                                 \n",
      " dense_11 (Dense)            (None, 3)                 303       \n",
      "                                                                 \n",
      "=================================================================\n",
      "Total params: 11,503\n",
      "Trainable params: 11,503\n",
      "Non-trainable params: 0\n",
      "_________________________________________________________________\n",
      "None\n"
     ]
    }
   ],
   "source": [
    "model = tf.keras.models.Sequential()\n",
    "model.add(tf.keras.layers.Input((10,)))\n",
    "model.add(tf.keras.layers.Dense(100, activation=\"relu\"))\n",
    "model.add(tf.keras.layers.Dense(100, activation='relu'))\n",
    "model.add(tf.keras.layers.Dense(3, activation='softmax'))\n",
    "print(model.summary())"
   ]
  },
  {
   "cell_type": "markdown",
   "metadata": {},
   "source": [
    "The next step is to choose an **optimizer** for the neural network, i.e. a variant of gradient descent that will be used to iteratively modify the parameters.\n",
    "\n",
    "`keras` provides an extensive list of optimizers: <https://keras.io/optimizers/>. The most useful in practice are:\n",
    "\n",
    "* `SGD`, the vanilla stochastic gradient descent.\n",
    "\n",
    "```python\n",
    "optimizer = tf.keras.optimizers.SGD(learning_rate=0.001, momentum=0.9, nesterov=True)\n",
    "```\n",
    "\n",
    "* `RMSprop`, using second moments:\n",
    "\n",
    "```python\n",
    "optimizer = tf.keras.optimizers.RMSprop(learning_rate=0.001)\n",
    "```\n",
    "\n",
    "* `Adam`:\n",
    "\n",
    "```python\n",
    "optimizer = tf.keras.optimizers.Adam(learning_rate=0.001)\n",
    "```\n",
    "\n",
    "Choosing a optimizer is a matter of taste and trial-and-error. In deep RL, a good choice is Adam: the default values for its other parameters are usually good, it converges well, so your only job is to find the right learning rate.\n",
    "\n",
    "Finally, the model must be **compiled** by defining:\n",
    "\n",
    "* A loss function. For multi-class classification, it should be `'categorical_crossentropy'`. For regression, it can be `'mse'`. See the list of built-in loss functions here: <https://keras.io/losses/> but know that you can also simply define your own.\n",
    "\n",
    "* The chosen optimizer.\n",
    "\n",
    "* The metrics, i.e. what you want tensorflow to print during training. By default it only prints the current value of the loss function. For classification tasks, it usually makes more sense to also print the `accuracy`.\n",
    "\n",
    "```python\n",
    "model.compile(\n",
    "    loss='categorical_crossentropy', \n",
    "    optimizer=optimizer,\n",
    "    metrics=['accuracy']\n",
    ")\n",
    "```\n",
    "\n",
    "**Q:** Compile the model for classification, using the Adam optimizer and a learning rate of 0.01."
   ]
  },
  {
   "cell_type": "code",
   "execution_count": 17,
   "metadata": {},
   "outputs": [],
   "source": [
    "optimizer = tf.keras.optimizers.Adam(learning_rate=0.01)\n",
    "\n",
    "model.compile(\n",
    "    loss='categorical_crossentropy', \n",
    "    optimizer=optimizer,\n",
    "    metrics=['accuracy']\n",
    ")"
   ]
  },
  {
   "cell_type": "markdown",
   "metadata": {},
   "source": [
    "Let's now train the model on some dummy data. To show the power of deep neural networks, we will try to learn noise by heart.\n",
    "\n",
    "The following cell creates an input tensor `X` with 1000 random vectors of 10 elements, with values sampled between -1 and 1. The targets (desired outputs) `t` are class indices (0, 1 or 2), also randomly selected.  \n",
    "\n",
    "However, neural networks expect **one-hot encoded vectors** for the target, i.e. (1, 0, 0), (0, 1, 0), (0, 0, 1) instead of 0, 1, 2. The method `tf.keras.utils.to_categorical` allows you to do that."
   ]
  },
  {
   "cell_type": "code",
   "execution_count": 18,
   "metadata": {},
   "outputs": [],
   "source": [
    "X = np.random.uniform(-1.0, 1.0, (1000, 10))\n",
    "t = np.random.randint(0, 3, (1000, ))\n",
    "T = tf.keras.utils.to_categorical(t, 3)"
   ]
  },
  {
   "cell_type": "markdown",
   "metadata": {},
   "source": [
    "Let's learn it. The `Sequential` model has a method called `fit()` where you simply pass the training data `(X, T)` and some other parameters, such as:\n",
    "\n",
    "* the batch size,\n",
    "* the total number of epochs,\n",
    "* the proportion of training examples to keep in order to compute the validation loss/accuracy (optional but recommmended).\n",
    "\n",
    "```python\n",
    "# Training\n",
    "history = tf.keras.callbacks.History()\n",
    "\n",
    "model.fit(\n",
    "    X, T,\n",
    "    batch_size=100, \n",
    "    epochs=50,\n",
    "    validation_split=0.1,\n",
    "    callbacks=[history]\n",
    ")\n",
    "```\n",
    "\n",
    "**Q:** Train the model on the data, using a batch size of 100 for 50 epochs. Explain why you obtained this result."
   ]
  },
  {
   "cell_type": "code",
   "execution_count": 19,
   "metadata": {},
   "outputs": [
    {
     "name": "stdout",
     "output_type": "stream",
     "text": [
      "Epoch 1/50\n"
     ]
    },
    {
     "name": "stderr",
     "output_type": "stream",
     "text": [
      "2022-11-15 13:09:40.852114: I tensorflow/core/grappler/optimizers/custom_graph_optimizer_registry.cc:114] Plugin optimizer for device_type GPU is enabled.\n"
     ]
    },
    {
     "name": "stdout",
     "output_type": "stream",
     "text": [
      "9/9 - 0s - loss: 1.1150 - accuracy: 0.3489 - val_loss: 1.1119 - val_accuracy: 0.3500 - 395ms/epoch - 44ms/step\n",
      "Epoch 2/50\n",
      "9/9 - 0s - loss: 1.0725 - accuracy: 0.4256 - val_loss: 1.0961 - val_accuracy: 0.3900 - 88ms/epoch - 10ms/step\n",
      "Epoch 3/50\n"
     ]
    },
    {
     "name": "stderr",
     "output_type": "stream",
     "text": [
      "2022-11-15 13:09:41.054430: I tensorflow/core/grappler/optimizers/custom_graph_optimizer_registry.cc:114] Plugin optimizer for device_type GPU is enabled.\n"
     ]
    },
    {
     "name": "stdout",
     "output_type": "stream",
     "text": [
      "9/9 - 0s - loss: 1.0460 - accuracy: 0.4667 - val_loss: 1.1063 - val_accuracy: 0.4000 - 93ms/epoch - 10ms/step\n",
      "Epoch 4/50\n",
      "9/9 - 0s - loss: 1.0227 - accuracy: 0.4778 - val_loss: 1.1037 - val_accuracy: 0.4000 - 82ms/epoch - 9ms/step\n",
      "Epoch 5/50\n",
      "9/9 - 0s - loss: 1.0023 - accuracy: 0.4911 - val_loss: 1.1187 - val_accuracy: 0.4000 - 83ms/epoch - 9ms/step\n",
      "Epoch 6/50\n",
      "9/9 - 0s - loss: 0.9796 - accuracy: 0.5222 - val_loss: 1.1354 - val_accuracy: 0.4100 - 83ms/epoch - 9ms/step\n",
      "Epoch 7/50\n",
      "9/9 - 0s - loss: 0.9424 - accuracy: 0.5444 - val_loss: 1.1634 - val_accuracy: 0.3800 - 85ms/epoch - 9ms/step\n",
      "Epoch 8/50\n",
      "9/9 - 0s - loss: 0.9101 - accuracy: 0.5856 - val_loss: 1.1859 - val_accuracy: 0.3800 - 84ms/epoch - 9ms/step\n",
      "Epoch 9/50\n",
      "9/9 - 0s - loss: 0.8892 - accuracy: 0.5933 - val_loss: 1.2218 - val_accuracy: 0.3700 - 82ms/epoch - 9ms/step\n",
      "Epoch 10/50\n",
      "9/9 - 0s - loss: 0.8288 - accuracy: 0.6411 - val_loss: 1.2725 - val_accuracy: 0.3800 - 80ms/epoch - 9ms/step\n",
      "Epoch 11/50\n",
      "9/9 - 0s - loss: 0.7997 - accuracy: 0.6500 - val_loss: 1.3129 - val_accuracy: 0.3900 - 81ms/epoch - 9ms/step\n",
      "Epoch 12/50\n",
      "9/9 - 0s - loss: 0.7529 - accuracy: 0.6922 - val_loss: 1.3128 - val_accuracy: 0.3500 - 82ms/epoch - 9ms/step\n",
      "Epoch 13/50\n",
      "9/9 - 0s - loss: 0.6836 - accuracy: 0.7289 - val_loss: 1.3802 - val_accuracy: 0.4000 - 82ms/epoch - 9ms/step\n",
      "Epoch 14/50\n",
      "9/9 - 0s - loss: 0.6284 - accuracy: 0.7467 - val_loss: 1.4751 - val_accuracy: 0.3600 - 82ms/epoch - 9ms/step\n",
      "Epoch 15/50\n",
      "9/9 - 0s - loss: 0.5829 - accuracy: 0.7867 - val_loss: 1.4785 - val_accuracy: 0.3800 - 83ms/epoch - 9ms/step\n",
      "Epoch 16/50\n",
      "9/9 - 0s - loss: 0.5330 - accuracy: 0.7967 - val_loss: 1.7002 - val_accuracy: 0.3700 - 81ms/epoch - 9ms/step\n",
      "Epoch 17/50\n",
      "9/9 - 0s - loss: 0.4989 - accuracy: 0.8278 - val_loss: 1.6326 - val_accuracy: 0.4000 - 81ms/epoch - 9ms/step\n",
      "Epoch 18/50\n",
      "9/9 - 0s - loss: 0.4842 - accuracy: 0.8189 - val_loss: 1.9201 - val_accuracy: 0.3500 - 83ms/epoch - 9ms/step\n",
      "Epoch 19/50\n",
      "9/9 - 0s - loss: 0.4380 - accuracy: 0.8356 - val_loss: 1.7465 - val_accuracy: 0.3900 - 81ms/epoch - 9ms/step\n",
      "Epoch 20/50\n",
      "9/9 - 0s - loss: 0.3821 - accuracy: 0.8744 - val_loss: 1.9561 - val_accuracy: 0.3500 - 85ms/epoch - 9ms/step\n",
      "Epoch 21/50\n",
      "9/9 - 0s - loss: 0.3353 - accuracy: 0.8911 - val_loss: 2.0040 - val_accuracy: 0.2600 - 90ms/epoch - 10ms/step\n",
      "Epoch 22/50\n",
      "9/9 - 0s - loss: 0.2960 - accuracy: 0.9100 - val_loss: 2.1072 - val_accuracy: 0.3400 - 82ms/epoch - 9ms/step\n",
      "Epoch 23/50\n",
      "9/9 - 0s - loss: 0.2388 - accuracy: 0.9456 - val_loss: 2.1638 - val_accuracy: 0.3500 - 83ms/epoch - 9ms/step\n",
      "Epoch 24/50\n",
      "9/9 - 0s - loss: 0.2336 - accuracy: 0.9322 - val_loss: 2.2757 - val_accuracy: 0.2900 - 83ms/epoch - 9ms/step\n",
      "Epoch 25/50\n",
      "9/9 - 0s - loss: 0.1806 - accuracy: 0.9633 - val_loss: 2.4390 - val_accuracy: 0.3400 - 82ms/epoch - 9ms/step\n",
      "Epoch 26/50\n",
      "9/9 - 0s - loss: 0.1815 - accuracy: 0.9544 - val_loss: 2.4587 - val_accuracy: 0.3400 - 81ms/epoch - 9ms/step\n",
      "Epoch 27/50\n",
      "9/9 - 0s - loss: 0.1586 - accuracy: 0.9656 - val_loss: 2.5464 - val_accuracy: 0.3000 - 84ms/epoch - 9ms/step\n",
      "Epoch 28/50\n",
      "9/9 - 0s - loss: 0.1457 - accuracy: 0.9722 - val_loss: 2.6396 - val_accuracy: 0.3300 - 83ms/epoch - 9ms/step\n",
      "Epoch 29/50\n",
      "9/9 - 0s - loss: 0.1386 - accuracy: 0.9789 - val_loss: 2.5508 - val_accuracy: 0.3300 - 82ms/epoch - 9ms/step\n",
      "Epoch 30/50\n",
      "9/9 - 0s - loss: 0.1091 - accuracy: 0.9833 - val_loss: 2.8272 - val_accuracy: 0.3400 - 87ms/epoch - 10ms/step\n",
      "Epoch 31/50\n",
      "9/9 - 0s - loss: 0.0816 - accuracy: 0.9944 - val_loss: 2.8505 - val_accuracy: 0.3500 - 90ms/epoch - 10ms/step\n",
      "Epoch 32/50\n",
      "9/9 - 0s - loss: 0.0709 - accuracy: 0.9967 - val_loss: 2.8556 - val_accuracy: 0.3400 - 92ms/epoch - 10ms/step\n",
      "Epoch 33/50\n",
      "9/9 - 0s - loss: 0.0604 - accuracy: 0.9978 - val_loss: 2.9199 - val_accuracy: 0.3400 - 89ms/epoch - 10ms/step\n",
      "Epoch 34/50\n",
      "9/9 - 0s - loss: 0.0495 - accuracy: 0.9989 - val_loss: 2.9985 - val_accuracy: 0.3300 - 90ms/epoch - 10ms/step\n",
      "Epoch 35/50\n",
      "9/9 - 0s - loss: 0.0407 - accuracy: 1.0000 - val_loss: 3.2302 - val_accuracy: 0.3200 - 88ms/epoch - 10ms/step\n",
      "Epoch 36/50\n",
      "9/9 - 0s - loss: 0.0325 - accuracy: 1.0000 - val_loss: 3.1978 - val_accuracy: 0.3300 - 89ms/epoch - 10ms/step\n",
      "Epoch 37/50\n",
      "9/9 - 0s - loss: 0.0313 - accuracy: 0.9989 - val_loss: 3.1832 - val_accuracy: 0.3500 - 99ms/epoch - 11ms/step\n",
      "Epoch 38/50\n",
      "9/9 - 0s - loss: 0.0322 - accuracy: 0.9978 - val_loss: 3.3745 - val_accuracy: 0.3200 - 87ms/epoch - 10ms/step\n",
      "Epoch 39/50\n",
      "9/9 - 0s - loss: 0.0271 - accuracy: 1.0000 - val_loss: 3.4600 - val_accuracy: 0.3100 - 85ms/epoch - 9ms/step\n",
      "Epoch 40/50\n",
      "9/9 - 0s - loss: 0.0230 - accuracy: 1.0000 - val_loss: 3.4435 - val_accuracy: 0.3200 - 88ms/epoch - 10ms/step\n",
      "Epoch 41/50\n",
      "9/9 - 0s - loss: 0.0179 - accuracy: 1.0000 - val_loss: 3.5294 - val_accuracy: 0.3400 - 88ms/epoch - 10ms/step\n",
      "Epoch 42/50\n",
      "9/9 - 0s - loss: 0.0156 - accuracy: 1.0000 - val_loss: 3.5217 - val_accuracy: 0.3200 - 85ms/epoch - 9ms/step\n",
      "Epoch 43/50\n",
      "9/9 - 0s - loss: 0.0139 - accuracy: 1.0000 - val_loss: 3.5561 - val_accuracy: 0.3300 - 88ms/epoch - 10ms/step\n",
      "Epoch 44/50\n",
      "9/9 - 0s - loss: 0.0126 - accuracy: 1.0000 - val_loss: 3.5808 - val_accuracy: 0.3300 - 89ms/epoch - 10ms/step\n",
      "Epoch 45/50\n",
      "9/9 - 0s - loss: 0.0119 - accuracy: 1.0000 - val_loss: 3.6306 - val_accuracy: 0.3200 - 87ms/epoch - 10ms/step\n",
      "Epoch 46/50\n",
      "9/9 - 0s - loss: 0.0108 - accuracy: 1.0000 - val_loss: 3.6863 - val_accuracy: 0.3200 - 87ms/epoch - 10ms/step\n",
      "Epoch 47/50\n",
      "9/9 - 0s - loss: 0.0100 - accuracy: 1.0000 - val_loss: 3.6891 - val_accuracy: 0.3200 - 87ms/epoch - 10ms/step\n",
      "Epoch 48/50\n",
      "9/9 - 0s - loss: 0.0094 - accuracy: 1.0000 - val_loss: 3.7300 - val_accuracy: 0.3200 - 85ms/epoch - 9ms/step\n",
      "Epoch 49/50\n",
      "9/9 - 0s - loss: 0.0089 - accuracy: 1.0000 - val_loss: 3.7520 - val_accuracy: 0.3200 - 84ms/epoch - 9ms/step\n",
      "Epoch 50/50\n",
      "9/9 - 0s - loss: 0.0084 - accuracy: 1.0000 - val_loss: 3.8023 - val_accuracy: 0.3200 - 86ms/epoch - 10ms/step\n"
     ]
    }
   ],
   "source": [
    "history = model.fit(\n",
    "    X, T,\n",
    "    batch_size=100, \n",
    "    epochs=50,\n",
    "    validation_split=0.1,\n",
    "    verbose=2\n",
    ")"
   ]
  },
  {
   "cell_type": "markdown",
   "metadata": {},
   "source": [
    "**A:** The final training is 100%, the validation accuracy is 33% (may vary depending on initialization). The network has learned the training examples by heart, although they are totally random, but totally fails to generalize.\n",
    "\n",
    "The main is reason is that we have only 1000 training examples, with a total number of free parameters (VC dimension) around 11500. By definition, the model can learn this training set perfectly, although it is totally random. Its VC dimension is however way to high to generalize anything. It is even worse here: as the data is random, there is nothing to generalize. A nice example to understand why NN overfit..."
   ]
  },
  {
   "cell_type": "markdown",
   "metadata": {},
   "source": [
    "## Training a MLP on MNIST\n",
    "\n",
    "Let's now try to learn something a bit more serious, the MNIST dataset. The following cell load the MNIST data (training set 60000 28x28 monochrome images, test set of 10000 images), normalizes it (values betwen 0 and 1 for each pixel), removes the mean image from the training set and transforms the targets to one-hot encoded vectors for the 10 classes. See the neurocomputing exercise for more details."
   ]
  },
  {
   "cell_type": "code",
   "execution_count": 7,
   "metadata": {},
   "outputs": [
    {
     "name": "stdout",
     "output_type": "stream",
     "text": [
      "Training data: (60000, 28, 28) (60000,)\n",
      "Test data: (10000, 28, 28) (10000,)\n"
     ]
    }
   ],
   "source": [
    "# Load the MNIST dataset\n",
    "(X_train, t_train), (X_test, t_test) = tf.keras.datasets.mnist.load_data()\n",
    "print(\"Training data:\", X_train.shape, t_train.shape)\n",
    "print(\"Test data:\", X_test.shape, t_test.shape)\n",
    "\n",
    "# Reshape the images to vectors and normalize\n",
    "X_train = X_train.reshape(X_train.shape[0], 784).astype('float32') / 255.\n",
    "X_test = X_test.reshape(X_test.shape[0], 784).astype('float32') / 255.\n",
    "\n",
    "# Mean removal\n",
    "X_mean = np.mean(X_train, axis=0)\n",
    "X_train -= X_mean\n",
    "X_test -= X_mean\n",
    "\n",
    "# One-hot encoded outputs\n",
    "T_train = tf.keras.utils.to_categorical(t_train, 10)\n",
    "T_test = tf.keras.utils.to_categorical(t_test, 10)"
   ]
  },
  {
   "cell_type": "markdown",
   "metadata": {},
   "source": [
    "**Q:** Create a fully connected neural network with 784 input neurons (one per pixel), 10 softmax output neurons and whatever you want in the middle, so that it can reach around 98% validation accuracy after **20 epochs**.\n",
    "\n",
    "* Put the network creation (including `compile()`) in a method `create_model()`, so that you can create a model multiple times.\n",
    "* Choose a good value for the learning rate.\n",
    "* Do not exagerate with the number of layers and neurons. Two or there hidden layers with 100 to 300 neurons are more than enough.\n",
    "* You will quickly observe that the network overfits: the training accuracy is higher than the validation accuracy. The training accuracy actually goes to 100% if your network is too big. In that case, feel free to add a dropout layer after each fully-connected layer:\n",
    "\n",
    "```python\n",
    "model.add(tf.keras.layers.Dropout(0.5))\n",
    "```"
   ]
  },
  {
   "cell_type": "code",
   "execution_count": 8,
   "metadata": {},
   "outputs": [],
   "source": [
    "def create_model():\n",
    "    # Create the model\n",
    "    model = tf.keras.models.Sequential()\n",
    "    \n",
    "    # Input layer with 784 pixels\n",
    "    model.add(tf.keras.layers.Input((784,)))\n",
    "\n",
    "    # Hidden layer with 150 neurons\n",
    "    model.add(tf.keras.layers.Dense(150, activation=\"relu\"))\n",
    "    model.add(tf.keras.layers.Dropout(0.5))\n",
    "\n",
    "    # Second hidden layer with 100 neurons\n",
    "    model.add(tf.keras.layers.Dense(100, activation=\"relu\"))\n",
    "    model.add(tf.keras.layers.Dropout(0.5))\n",
    "\n",
    "    # Softmax output layer with 10 neurons\n",
    "    model.add(tf.keras.layers.Dense(10, activation=\"softmax\"))\n",
    "\n",
    "    # Learning rule\n",
    "    optimizer = tf.keras.optimizers.Adam(learning_rate=0.001)\n",
    "\n",
    "    # Loss function\n",
    "    model.compile(\n",
    "        loss='categorical_crossentropy', # loss\n",
    "        optimizer=optimizer, # learning rule\n",
    "        metrics=['accuracy'] # show accuracy\n",
    "    )\n",
    "    print(model.summary())\n",
    "    \n",
    "    return model"
   ]
  },
  {
   "cell_type": "code",
   "execution_count": 9,
   "metadata": {},
   "outputs": [
    {
     "name": "stdout",
     "output_type": "stream",
     "text": [
      "Model: \"sequential_1\"\n",
      "_________________________________________________________________\n",
      " Layer (type)                Output Shape              Param #   \n",
      "=================================================================\n",
      " dense_3 (Dense)             (None, 150)               117750    \n",
      "                                                                 \n",
      " dropout (Dropout)           (None, 150)               0         \n",
      "                                                                 \n",
      " dense_4 (Dense)             (None, 100)               15100     \n",
      "                                                                 \n",
      " dropout_1 (Dropout)         (None, 100)               0         \n",
      "                                                                 \n",
      " dense_5 (Dense)             (None, 10)                1010      \n",
      "                                                                 \n",
      "=================================================================\n",
      "Total params: 133,860\n",
      "Trainable params: 133,860\n",
      "Non-trainable params: 0\n",
      "_________________________________________________________________\n",
      "None\n",
      "Epoch 1/20\n"
     ]
    },
    {
     "name": "stderr",
     "output_type": "stream",
     "text": [
      "/Users/vitay/Applications/miniforge3/lib/python3.9/site-packages/keras/optimizers/optimizer_v2/adam.py:114: UserWarning: The `lr` argument is deprecated, use `learning_rate` instead.\n",
      "  super().__init__(name, **kwargs)\n"
     ]
    },
    {
     "name": "stdout",
     "output_type": "stream",
     "text": [
      "  1/540 [..............................] - ETA: 3:03 - loss: 2.6045 - accuracy: 0.0500"
     ]
    },
    {
     "name": "stderr",
     "output_type": "stream",
     "text": [
      "2022-11-15 13:05:05.914474: I tensorflow/core/grappler/optimizers/custom_graph_optimizer_registry.cc:114] Plugin optimizer for device_type GPU is enabled.\n"
     ]
    },
    {
     "name": "stdout",
     "output_type": "stream",
     "text": [
      "539/540 [============================>.] - ETA: 0s - loss: 0.5274 - accuracy: 0.8360"
     ]
    },
    {
     "name": "stderr",
     "output_type": "stream",
     "text": [
      "2022-11-15 13:05:10.488618: I tensorflow/core/grappler/optimizers/custom_graph_optimizer_registry.cc:114] Plugin optimizer for device_type GPU is enabled.\n"
     ]
    },
    {
     "name": "stdout",
     "output_type": "stream",
     "text": [
      "540/540 [==============================] - 5s 9ms/step - loss: 0.5271 - accuracy: 0.8361 - val_loss: 0.1576 - val_accuracy: 0.9532\n",
      "Epoch 2/20\n",
      "540/540 [==============================] - 5s 9ms/step - loss: 0.2489 - accuracy: 0.9263 - val_loss: 0.1201 - val_accuracy: 0.9650\n",
      "Epoch 3/20\n",
      "540/540 [==============================] - 5s 9ms/step - loss: 0.2015 - accuracy: 0.9406 - val_loss: 0.1029 - val_accuracy: 0.9680\n",
      "Epoch 4/20\n",
      "540/540 [==============================] - 5s 9ms/step - loss: 0.1756 - accuracy: 0.9461 - val_loss: 0.0901 - val_accuracy: 0.9732\n",
      "Epoch 5/20\n",
      "540/540 [==============================] - 5s 9ms/step - loss: 0.1529 - accuracy: 0.9546 - val_loss: 0.0822 - val_accuracy: 0.9772\n",
      "Epoch 6/20\n",
      "540/540 [==============================] - 5s 9ms/step - loss: 0.1419 - accuracy: 0.9568 - val_loss: 0.0832 - val_accuracy: 0.9758\n",
      "Epoch 7/20\n",
      "540/540 [==============================] - 5s 9ms/step - loss: 0.1312 - accuracy: 0.9599 - val_loss: 0.0786 - val_accuracy: 0.9765\n",
      "Epoch 8/20\n",
      "540/540 [==============================] - 5s 9ms/step - loss: 0.1219 - accuracy: 0.9629 - val_loss: 0.0735 - val_accuracy: 0.9772\n",
      "Epoch 9/20\n",
      "540/540 [==============================] - 5s 9ms/step - loss: 0.1145 - accuracy: 0.9643 - val_loss: 0.0768 - val_accuracy: 0.9767\n",
      "Epoch 10/20\n",
      "540/540 [==============================] - 5s 9ms/step - loss: 0.1094 - accuracy: 0.9659 - val_loss: 0.0681 - val_accuracy: 0.9803\n",
      "Epoch 11/20\n",
      "540/540 [==============================] - 5s 9ms/step - loss: 0.1031 - accuracy: 0.9670 - val_loss: 0.0698 - val_accuracy: 0.9793\n",
      "Epoch 12/20\n",
      "540/540 [==============================] - 5s 9ms/step - loss: 0.1032 - accuracy: 0.9685 - val_loss: 0.0679 - val_accuracy: 0.9793\n",
      "Epoch 13/20\n",
      "540/540 [==============================] - 5s 9ms/step - loss: 0.0983 - accuracy: 0.9682 - val_loss: 0.0683 - val_accuracy: 0.9788\n",
      "Epoch 14/20\n",
      "540/540 [==============================] - 5s 9ms/step - loss: 0.0911 - accuracy: 0.9710 - val_loss: 0.0687 - val_accuracy: 0.9790\n",
      "Epoch 15/20\n",
      "540/540 [==============================] - 5s 9ms/step - loss: 0.0918 - accuracy: 0.9714 - val_loss: 0.0641 - val_accuracy: 0.9818\n",
      "Epoch 16/20\n",
      "540/540 [==============================] - 5s 9ms/step - loss: 0.0881 - accuracy: 0.9727 - val_loss: 0.0645 - val_accuracy: 0.9800\n",
      "Epoch 17/20\n",
      "540/540 [==============================] - 5s 9ms/step - loss: 0.0841 - accuracy: 0.9734 - val_loss: 0.0652 - val_accuracy: 0.9805\n",
      "Epoch 18/20\n",
      "540/540 [==============================] - 5s 9ms/step - loss: 0.0826 - accuracy: 0.9738 - val_loss: 0.0644 - val_accuracy: 0.9798\n",
      "Epoch 19/20\n",
      "540/540 [==============================] - 5s 9ms/step - loss: 0.0803 - accuracy: 0.9742 - val_loss: 0.0671 - val_accuracy: 0.9792\n",
      "Epoch 20/20\n",
      "540/540 [==============================] - 5s 9ms/step - loss: 0.0826 - accuracy: 0.9742 - val_loss: 0.0603 - val_accuracy: 0.9810\n"
     ]
    },
    {
     "data": {
      "text/plain": [
       "<keras.callbacks.History at 0x1598b4f40>"
      ]
     },
     "execution_count": 9,
     "metadata": {},
     "output_type": "execute_result"
    }
   ],
   "source": [
    "model = create_model()\n",
    "\n",
    "# Training\n",
    "history = tf.keras.callbacks.History()\n",
    "\n",
    "model.fit(\n",
    "    X_train, T_train,\n",
    "    batch_size=100, \n",
    "    epochs=20,\n",
    "    validation_split=0.1,\n",
    "    callbacks=[history]\n",
    ")"
   ]
  },
  {
   "cell_type": "markdown",
   "metadata": {},
   "source": [
    "After training, one should evaluate the model on the test set. `keras` provides an `evaluate()` method that computes the different metrics (in our case the loss) on the data:\n",
    "\n",
    "```python\n",
    "score = model.evaluate(X_test, T_test)\n",
    "```\n",
    "\n",
    "Another solution would be to `predict()` labels on the test set and manually compare them to the ground truth:\n",
    "\n",
    "```python\n",
    "Y = model.predict(X_test)\n",
    "loss = - np.mean(T_test * np.log(Y))\n",
    "predicted_classes = np.argmax(Y, axis=1)\n",
    "accuracy = 1.0 - np.sum(predicted_classes != t_test)/t_test.shape[0]\n",
    "```\n",
    "\n",
    "Another important thing to visualize after training is how the training and validation loss (or accuracy) evolved during training. The `fit()` method updates a `History` object which contains the history of your metrics (loss and accuracy) after each epoch of training. These are simple numpy arrays, accessible with:\n",
    "\n",
    "```python\n",
    "history.history['loss']\n",
    "history.history['val_loss']\n",
    "history.history['accuracy']\n",
    "history.history['val_accuracy']\n",
    "```\n",
    "\n",
    "**Q:** Compute the test loss and accuracy of your model. Plot the history of the training and validation loss/accuracy."
   ]
  },
  {
   "cell_type": "code",
   "execution_count": 10,
   "metadata": {},
   "outputs": [
    {
     "name": "stdout",
     "output_type": "stream",
     "text": [
      " 15/313 [>.............................] - ETA: 2s - loss: 0.0563 - accuracy: 0.9833"
     ]
    },
    {
     "name": "stderr",
     "output_type": "stream",
     "text": [
      "2022-11-15 13:06:45.877919: I tensorflow/core/grappler/optimizers/custom_graph_optimizer_registry.cc:114] Plugin optimizer for device_type GPU is enabled.\n"
     ]
    },
    {
     "name": "stdout",
     "output_type": "stream",
     "text": [
      "313/313 [==============================] - 2s 7ms/step - loss: 0.0717 - accuracy: 0.9789\n",
      "Test loss: 0.07174411416053772\n",
      "Test accuracy: 0.9789000749588013\n"
     ]
    },
    {
     "data": {
      "image/png": "[encoded data removed]",
      "text/plain": [
       "<Figure size 1500x600 with 2 Axes>"
      ]
     },
     "metadata": {},
     "output_type": "display_data"
    }
   ],
   "source": [
    "# Testing\n",
    "score = model.evaluate(X_test, T_test)\n",
    "print('Test loss:', score[0])\n",
    "print('Test accuracy:', score[1])\n",
    "\n",
    "plt.figure(figsize=(15, 6))\n",
    "plt.subplot(121)\n",
    "plt.plot(history.history['loss'], '-r', label=\"Training\")\n",
    "plt.plot(history.history['val_loss'], '-b', label=\"Validation\")\n",
    "plt.xlabel('Epoch #')\n",
    "plt.ylabel('Loss')\n",
    "plt.legend()\n",
    "plt.subplot(122)\n",
    "plt.plot(history.history['accuracy'], '-r', label=\"Training\")\n",
    "plt.plot(history.history['val_accuracy'], '-b', label=\"Validation\")\n",
    "plt.xlabel('Epoch #')\n",
    "plt.ylabel('Accuracy')\n",
    "plt.legend()\n",
    "plt.show()"
   ]
  },
  {
   "cell_type": "markdown",
   "metadata": {},
   "source": [
    "## Correlated inputs\n",
    "\n",
    "Now that we have a basic NN working on MNIST, let's investigate why deep NN hate sequentially correlated inputs (which is the main justification for the experience replay memory in DQN). Is that really true, or is just some mathematical assumption that does not matter in practice?\n",
    "\n",
    "The idea of this part is the following: we will train the same network as before for 20 epochs, but each epoch will train the network on all the 0s first, then all the 1s, etc. Each epoch will contain the same number of training examples as before, but the order of presentation will simply be different.\n",
    "\n",
    "To get all examples of the training set which have the target 3 (for example), you just have to slice the matrices accordingly:\n",
    "\n",
    "```python\n",
    "X = X_train[t_train==3, :]\n",
    "T = T_train[t_train==3]\n",
    "```\n",
    "\n",
    "**Q:** Train the same network as before (but reinitialize it!) for 20 epochs, with each epoch sequentially iterating over the classes 0, 1, 2, 3, etc. Plot the loss and accurary during training. What do you observe?\n",
    "\n",
    "*Hint:* you will have two for loops to write: one over the epochs, one over the digits.\n",
    "\n",
    "```python\n",
    "for e in range(20):\n",
    "    for c in range(10):\n",
    "        model.fit(...)\n",
    "```\n",
    "\n",
    "You should only do one epoch for each call to `fit()`. Set `verbose=0` in `fit()` to avoid printing too much info."
   ]
  },
  {
   "cell_type": "code",
   "execution_count": 11,
   "metadata": {},
   "outputs": [
    {
     "name": "stdout",
     "output_type": "stream",
     "text": [
      "Model: \"sequential_2\"\n",
      "_________________________________________________________________\n",
      " Layer (type)                Output Shape              Param #   \n",
      "=================================================================\n",
      " dense_6 (Dense)             (None, 150)               117750    \n",
      "                                                                 \n",
      " dropout_2 (Dropout)         (None, 150)               0         \n",
      "                                                                 \n",
      " dense_7 (Dense)             (None, 100)               15100     \n",
      "                                                                 \n",
      " dropout_3 (Dropout)         (None, 100)               0         \n",
      "                                                                 \n",
      " dense_8 (Dense)             (None, 10)                1010      \n",
      "                                                                 \n",
      "=================================================================\n",
      "Total params: 133,860\n",
      "Trainable params: 133,860\n",
      "Non-trainable params: 0\n",
      "_________________________________________________________________\n",
      "None\n",
      "Epoch:  1\n"
     ]
    },
    {
     "name": "stderr",
     "output_type": "stream",
     "text": [
      "2022-11-15 13:06:51.648645: I tensorflow/core/grappler/optimizers/custom_graph_optimizer_registry.cc:114] Plugin optimizer for device_type GPU is enabled.\n",
      "2022-11-15 13:06:52.409437: I tensorflow/core/grappler/optimizers/custom_graph_optimizer_registry.cc:114] Plugin optimizer for device_type GPU is enabled.\n"
     ]
    },
    {
     "name": "stdout",
     "output_type": "stream",
     "text": [
      " Training loss: 2.029949426651001\n",
      " Training accuracy: 0.4409787058830261\n",
      " Validation loss: 0.06199435144662857\n",
      " Validation accuracy: 0.9848739504814148\n",
      "Epoch:  2\n",
      " Training loss: 0.9748570322990417\n",
      " Training accuracy: 0.7392603754997253\n",
      " Validation loss: 0.028808292001485825\n",
      " Validation accuracy: 0.9899159669876099\n",
      "Epoch:  3\n",
      " Training loss: 0.6735117435455322\n",
      " Training accuracy: 0.7979081273078918\n",
      " Validation loss: 0.041012201458215714\n",
      " Validation accuracy: 0.9865546226501465\n",
      "Epoch:  4\n",
      " Training loss: 0.6233999133110046\n",
      " Training accuracy: 0.7984684705734253\n",
      " Validation loss: 0.046713244169950485\n",
      " Validation accuracy: 0.9865546226501465\n",
      "Epoch:  5\n",
      " Training loss: 0.644547700881958\n",
      " Training accuracy: 0.8083676099777222\n",
      " Validation loss: 0.046737030148506165\n",
      " Validation accuracy: 0.9882352948188782\n",
      "Epoch:  6\n",
      " Training loss: 0.5482434034347534\n",
      " Training accuracy: 0.8408666849136353\n",
      " Validation loss: 0.04225711524486542\n",
      " Validation accuracy: 0.9865546226501465\n",
      "Epoch:  7\n",
      " Training loss: 0.48833325505256653\n",
      " Training accuracy: 0.8541277647018433\n",
      " Validation loss: 0.041813675314188004\n",
      " Validation accuracy: 0.9815126061439514\n",
      "Epoch:  8\n",
      " Training loss: 0.48677706718444824\n",
      " Training accuracy: 0.8425476551055908\n",
      " Validation loss: 0.04213647544384003\n",
      " Validation accuracy: 0.9865546226501465\n",
      "Epoch:  9\n",
      " Training loss: 0.45263180136680603\n",
      " Training accuracy: 0.8576765060424805\n",
      " Validation loss: 0.03567739576101303\n",
      " Validation accuracy: 0.9882352948188782\n",
      "Epoch:  10\n",
      " Training loss: 0.43333420157432556\n",
      " Training accuracy: 0.862906277179718\n",
      " Validation loss: 0.036885034292936325\n",
      " Validation accuracy: 0.9899159669876099\n",
      "Epoch:  11\n",
      " Training loss: 0.42501774430274963\n",
      " Training accuracy: 0.8658946752548218\n",
      " Validation loss: 0.03803431615233421\n",
      " Validation accuracy: 0.9899159669876099\n",
      "Epoch:  12\n",
      " Training loss: 0.42635124921798706\n",
      " Training accuracy: 0.8709376454353333\n",
      " Validation loss: 0.03939447179436684\n",
      " Validation accuracy: 0.9865546226501465\n",
      "Epoch:  13\n",
      " Training loss: 0.3924403488636017\n",
      " Training accuracy: 0.8813971281051636\n",
      " Validation loss: 0.04728272929787636\n",
      " Validation accuracy: 0.9848739504814148\n",
      "Epoch:  14\n",
      " Training loss: 0.3904794454574585\n",
      " Training accuracy: 0.8800897002220154\n",
      " Validation loss: 0.03570760041475296\n",
      " Validation accuracy: 0.9915966391563416\n",
      "Epoch:  15\n",
      " Training loss: 0.3419549763202667\n",
      " Training accuracy: 0.8940979242324829\n",
      " Validation loss: 0.03474016487598419\n",
      " Validation accuracy: 0.9915966391563416\n",
      "Epoch:  16\n",
      " Training loss: 0.33528366684913635\n",
      " Training accuracy: 0.8946582078933716\n",
      " Validation loss: 0.042798422276973724\n",
      " Validation accuracy: 0.9882352948188782\n",
      "Epoch:  17\n",
      " Training loss: 0.34141793847084045\n",
      " Training accuracy: 0.8899888396263123\n",
      " Validation loss: 0.03723347559571266\n",
      " Validation accuracy: 0.9882352948188782\n",
      "Epoch:  18\n",
      " Training loss: 0.3221873641014099\n",
      " Training accuracy: 0.9064251184463501\n",
      " Validation loss: 0.038093291223049164\n",
      " Validation accuracy: 0.9882352948188782\n",
      "Epoch:  19\n",
      " Training loss: 0.30312439799308777\n",
      " Training accuracy: 0.9045573472976685\n",
      " Validation loss: 0.04427587613463402\n",
      " Validation accuracy: 0.9848739504814148\n",
      "Epoch:  20\n",
      " Training loss: 0.30541884899139404\n",
      " Training accuracy: 0.9013821482658386\n",
      " Validation loss: 0.03604322671890259\n",
      " Validation accuracy: 0.9882352948188782\n"
     ]
    },
    {
     "data": {
      "image/png": "[encoded data removed]",
      "text/plain": [
       "<Figure size 1500x600 with 2 Axes>"
      ]
     },
     "metadata": {},
     "output_type": "display_data"
    }
   ],
   "source": [
    "model = create_model()\n",
    "\n",
    "history = tf.keras.callbacks.History()\n",
    "\n",
    "for e in range(20):\n",
    "    print(\"Epoch: \", e+1)\n",
    "    for c in range(10):\n",
    "        # Training\n",
    "        model.fit(\n",
    "            X_train[t_train==c, :], T_train[t_train==c, :],\n",
    "            batch_size=100, \n",
    "            epochs=1,\n",
    "            validation_split=0.1,\n",
    "            verbose = 0,\n",
    "            callbacks=[history]\n",
    "        )\n",
    "    print(\" Training loss:\", history.history[\"loss\"][-1])\n",
    "    print(\" Training accuracy:\", history.history[\"accuracy\"][-1])\n",
    "    print(\" Validation loss:\", history.history[\"val_loss\"][-1])\n",
    "    print(\" Validation accuracy:\", history.history[\"val_accuracy\"][-1])\n",
    "        \n",
    "plt.figure(figsize=(15, 6))\n",
    "plt.subplot(121)\n",
    "plt.plot(history.history['loss'], '-r', label=\"Training\")\n",
    "plt.plot(history.history['val_loss'], '-b', label=\"Validation\")\n",
    "plt.xlabel('Epoch #')\n",
    "plt.ylabel('Loss')\n",
    "plt.legend()\n",
    "plt.subplot(122)\n",
    "plt.plot(history.history['accuracy'], '-r', label=\"Training\")\n",
    "plt.plot(history.history['val_accuracy'], '-b', label=\"Validation\")\n",
    "plt.xlabel('Epoch #')\n",
    "plt.ylabel('Accuracy')\n",
    "plt.legend()\n",
    "plt.show()"
   ]
  },
  {
   "cell_type": "markdown",
   "metadata": {},
   "source": [
    "**A:** The training accuracy slowly increases (with some oscillations, some numbers are harder to learn than others), but the validation accuracy is suspiciously high right from the start..."
   ]
  },
  {
   "cell_type": "markdown",
   "metadata": {},
   "source": [
    "**Q:** Evaluate the model after training on the whole test set. What happens?"
   ]
  },
  {
   "cell_type": "code",
   "execution_count": 12,
   "metadata": {},
   "outputs": [
    {
     "name": "stdout",
     "output_type": "stream",
     "text": [
      "Test loss: 0.9087441563606262\n",
      "Test accuracy: 0.7581000328063965\n"
     ]
    }
   ],
   "source": [
    "# Testing\n",
    "score = model.evaluate(X_test, T_test, verbose=0)\n",
    "print('Test loss:', score[0])\n",
    "print('Test accuracy:', score[1])"
   ]
  },
  {
   "cell_type": "markdown",
   "metadata": {},
   "source": [
    "**A:** Horror! The test accuracy is now awful, although the training and validation accuracies were fine after 20 epochs."
   ]
  },
  {
   "cell_type": "markdown",
   "metadata": {},
   "source": [
    "**Q:** To better understand what happened, compute the test accuracy of the network on each class of the test set individually: all the 0s of the test set, then all the 1s, etc. What happens? "
   ]
  },
  {
   "cell_type": "code",
   "execution_count": 13,
   "metadata": {},
   "outputs": [
    {
     "name": "stdout",
     "output_type": "stream",
     "text": [
      "Class 0\n",
      "Test loss: 0.3669024407863617\n",
      "Test accuracy: 0.9132653474807739\n",
      "Class 1\n",
      "Test loss: 0.7315441966056824\n",
      "Test accuracy: 0.8651982545852661\n",
      "Class 2\n",
      "Test loss: 0.9564369320869446\n",
      "Test accuracy: 0.7509689927101135\n",
      "Class 3\n",
      "Test loss: 1.3005502223968506\n",
      "Test accuracy: 0.5534653663635254\n",
      "Class 4\n",
      "Test loss: 1.6715565919876099\n",
      "Test accuracy: 0.5274949073791504\n",
      "Class 5\n",
      "Test loss: 1.3488402366638184\n",
      "Test accuracy: 0.6502242684364319\n",
      "Class 6\n",
      "Test loss: 0.165551096200943\n",
      "Test accuracy: 0.960334062576294\n",
      "Class 7\n",
      "Test loss: 2.2395598888397217\n",
      "Test accuracy: 0.42704281210899353\n",
      "Class 8\n",
      "Test loss: 0.25550350546836853\n",
      "Test accuracy: 0.9414784908294678\n",
      "Class 9\n",
      "Test loss: 0.042239751666784286\n",
      "Test accuracy: 0.9871159791946411\n"
     ]
    }
   ],
   "source": [
    "for c in range(10):\n",
    "    score = model.evaluate(X_test[t_test==c, :], T_test[t_test==c, :], verbose=0)\n",
    "    print(\"Class\", c)\n",
    "    print('Test loss:', score[0])\n",
    "    print('Test accuracy:', score[1])"
   ]
  },
  {
   "cell_type": "markdown",
   "metadata": {},
   "source": [
    "**A:** The last digits to be seen during training are the 9s: they have a good test accuracy. The 8s were seen not too long ago, they are also OK. But the other digits have been forgotten! The memory has been erased. This explains why you cannot train a deep network on-policy: the last episode would be remembered, but all the previous ones would be erased (catastrophic forgetting).\n",
    "\n",
    "A notable exception is for the 6s, which look like 9s, and the 0s, which look like 8s: they share features with the digits which are well recognized, so they perform OK."
   ]
  },
  {
   "cell_type": "markdown",
   "metadata": {},
   "source": [
    "**Q:** Increase and decrease the learning rate of the optimizer. What do you observe? Is there a solution to this problem? "
   ]
  },
  {
   "cell_type": "markdown",
   "metadata": {},
   "source": [
    "**A:** Increasing the learning rate worsens the problem. Decreasing does help, but then learning is very slow. This is classical example of catastrophic forgetting: learning a new task erases the previous ones. There is no solution to this problem for now, apart from taking **i.i.d** samples in each minibatch."
   ]
  },
  {
   "cell_type": "code",
   "execution_count": null,
   "metadata": {},
   "outputs": [],
   "source": []
  }
 ],
 "metadata": {
  "kernelspec": {
   "display_name": "deeprl",
   "language": "python",
   "name": "deeprl"
  },
  "language_info": {
   "codemirror_mode": {
    "name": "ipython",
    "version": 3
   },
   "file_extension": ".py",
   "mimetype": "text/x-python",
   "name": "python",
   "nbconvert_exporter": "python",
   "pygments_lexer": "ipython3",
   "version": "3.9.13"
  }
 },
 "nbformat": 4,
 "nbformat_minor": 4
}
