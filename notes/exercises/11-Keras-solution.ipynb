{
 "cells": [
  {
   "cell_type": "markdown",
   "metadata": {},
   "source": [
    "# Keras tutorial"
   ]
  },
  {
   "cell_type": "markdown",
   "metadata": {},
   "source": [
    "The goal of this tutorial is to very quickly present keras, the high-level API of tensorflow, as it has already been seen in the Neurocomputing exercises. We will train a small fully-connected network on MNIST and observe what happens when the inputs or outputs are correlated, by training successively on the 0 digits, then the 1, etc. "
   ]
  },
  {
   "cell_type": "code",
   "execution_count": 1,
   "metadata": {},
   "outputs": [],
   "source": [
    "import numpy as np\n",
    "import matplotlib.pyplot as plt"
   ]
  },
  {
   "cell_type": "markdown",
   "metadata": {},
   "source": [
    "## Keras\n",
    "\n",
    "The first step is to install tensorflow. The easiest way is to use pip:\n",
    "    \n",
    "```bash\n",
    "pip install tensorflow\n",
    "```\n",
    "\n",
    "`keras` is now available as a submodule of tensorflow (you can also install it as a separate package):\n",
    "\n",
    "```python\n",
    "import tensorflow as tf\n",
    "```\n",
    "\n",
    "Keras provides a lot of ready-made layer types, activation functions, optimizers and so on. Do not hesitate to read its documentation on <https://keras.io>."
   ]
  },
  {
   "cell_type": "code",
   "execution_count": 2,
   "metadata": {},
   "outputs": [],
   "source": [
    "import tensorflow as tf"
   ]
  },
  {
   "cell_type": "markdown",
   "metadata": {},
   "source": [
    "The most important object in keras is `Sequential`. It is a container where you sequentially add layers of neurons (fully-connected, convolutional, recurrent, etc) and other stuff. It represents your model, i.e. the neural network itself.\n",
    "\n",
    "```python\n",
    "model = tf.keras.models.Sequential()\n",
    "```\n",
    "\n",
    "You can then `add()` layers to the model. A fully-connected layer is called `Dense` in keras. \n",
    "\n",
    "Let's create a MLP with 10 input neurons, two hidden layers with 100 hidden neurons each and 3 output neurons. \n",
    "\n",
    "The input layer is represented by the `Input` layer:\n",
    "\n",
    "```python\n",
    "model.add(tf.keras.layers.Input((10,)))\n",
    "```\n",
    "\n",
    "The first hidden layer can be added to the model with:\n",
    "\n",
    "```python\n",
    "model.add(tf.keras.layers.Dense(100, activation=\"relu\"))\n",
    "```\n",
    "\n",
    "The layer has 100 neurons and uses the ReLU activation function. One could optionally define the activation function as an additional \"layer\", but it is usually not needed:\n",
    "\n",
    "```python\n",
    "model.add(tf.keras.layers.Dense(100))\n",
    "model.add(tf.keras.layers.Activation('relu'))\n",
    "```\n",
    "\n",
    "Adding more layers is straightforward:\n",
    "\n",
    "```python\n",
    "model.add(tf.keras.layers.Dense(100, activation=\"relu\"))\n",
    "```\n",
    "\n",
    "Finally, we can add the output layer. The activation function depends on the problem:\n",
    "\n",
    "* For regression problems, a linear activation function should be used when the targets can take any value (e.g. Q-values):\n",
    "\n",
    "```python\n",
    "model.add(tf.keras.layers.Dense(3, activation=\"linear\"))\n",
    "```\n",
    "\n",
    "If the targets are bounded between 0 and 1, a logistic/sigmoid function can be used:\n",
    "\n",
    "```python\n",
    "model.add(tf.keras.layers.Dense(3, activation=\"sigmoid\"))\n",
    "```\n",
    "\n",
    "* For multi-class classification problems, a softmax activation function should be used:\n",
    "\n",
    "```python\n",
    "model.add(tf.keras.layers.Dense(3, activation=\"softmax\"))\n",
    "```\n",
    "\n",
    "This defines fully the structure of your desired neural network.\n",
    "\n",
    "**Q:** Implement a neural network for classification with 10 input neurons, two hidden layers with 100 neurons each (using ReLU) and 3 output neurons.\n",
    "\n",
    "*Hint:* `print(model.summary())` gives you a summary of the architecture of your model. Note in particular the number of trainable parameters (weights and biases)."
   ]
  },
  {
   "cell_type": "code",
   "execution_count": 3,
   "metadata": {},
   "outputs": [
    {
     "name": "stdout",
     "output_type": "stream",
     "text": [
      "Model: \"sequential\"\n",
      "_________________________________________________________________\n",
      "Layer (type)                 Output Shape              Param #   \n",
      "=================================================================\n",
      "dense (Dense)                (None, 100)               1100      \n",
      "_________________________________________________________________\n",
      "dense_1 (Dense)              (None, 100)               10100     \n",
      "_________________________________________________________________\n",
      "dense_2 (Dense)              (None, 3)                 303       \n",
      "=================================================================\n",
      "Total params: 11,503\n",
      "Trainable params: 11,503\n",
      "Non-trainable params: 0\n",
      "_________________________________________________________________\n",
      "None\n"
     ]
    }
   ],
   "source": [
    "model = tf.keras.models.Sequential()\n",
    "model.add(tf.keras.layers.Input((10,)))\n",
    "model.add(tf.keras.layers.Dense(100, activation=\"relu\"))\n",
    "model.add(tf.keras.layers.Dense(100, activation='relu'))\n",
    "model.add(tf.keras.layers.Dense(3, activation='softmax'))\n",
    "print(model.summary())"
   ]
  },
  {
   "cell_type": "markdown",
   "metadata": {},
   "source": [
    "The next step is to choose an **optimizer** for the neural network, i.e. a variant of gradient descent that will be used to iteratively modify the parameters.\n",
    "\n",
    "`keras` provides an extensive list of optimizers: <https://keras.io/optimizers/>. The most useful in practice are:\n",
    "\n",
    "* `SGD`, the vanilla stochastic gradient descent.\n",
    "\n",
    "```python\n",
    "optimizer = tf.keras.optimizers.SGD(learning_rate=0.001, momentum=0.9, nesterov=True)\n",
    "```\n",
    "\n",
    "* `RMSprop`, using second moments:\n",
    "\n",
    "```python\n",
    "optimizer = tf.keras.optimizers.RMSprop(learning_rate=0.001)\n",
    "```\n",
    "\n",
    "* `Adam`:\n",
    "\n",
    "```python\n",
    "optimizer = tf.keras.optimizers.Adam(learning_rate=0.001)\n",
    "```\n",
    "\n",
    "Choosing a optimizer is a matter of taste and trial-and-error. In deep RL, a good choice is Adam: the default values for its other parameters are usually good, it converges well, so your only job is to find the right learning rate.\n",
    "\n",
    "Finally, the model must be **compiled** by defining:\n",
    "\n",
    "* A loss function. For multi-class classification, it should be `'categorical_crossentropy'`. For regression, it can be `'mse'`. See the list of built-in loss functions here: <https://keras.io/losses/> but know that you can also simply define your own.\n",
    "\n",
    "* The chosen optimizer.\n",
    "\n",
    "* The metrics, i.e. what you want tensorflow to print during training. By default it only prints the current value of the loss function. For classification tasks, it usually makes more sense to also print the `accuracy`.\n",
    "\n",
    "```python\n",
    "model.compile(\n",
    "    loss='categorical_crossentropy', \n",
    "    optimizer=optimizer,\n",
    "    metrics=['accuracy']\n",
    ")\n",
    "```\n",
    "\n",
    "**Q:** Compile the model for classification, using the Adam optimizer and a learning rate of 0.01."
   ]
  },
  {
   "cell_type": "code",
   "execution_count": 4,
   "metadata": {},
   "outputs": [],
   "source": [
    "optimizer = tf.keras.optimizers.Adam(learning_rate=0.01)\n",
    "\n",
    "model.compile(\n",
    "    loss='categorical_crossentropy', \n",
    "    optimizer=optimizer,\n",
    "    metrics=['accuracy']\n",
    ")"
   ]
  },
  {
   "cell_type": "markdown",
   "metadata": {},
   "source": [
    "Let's now train the model on some dummy data. To show the power of deep neural networks, we will try to learn noise by heart.\n",
    "\n",
    "The following cell creates an input tensor `X` with 1000 random vectors of 10 elements, with values sampled between -1 and 1. The targets (desired outputs) `t` are class indices (0, 1 or 2), also randomly selected.  \n",
    "\n",
    "However, neural networks expect **one-hot encoded vectors** for the target, i.e. (1, 0, 0), (0, 1, 0), (0, 0, 1) instead of 0, 1, 2. The method `tf.keras.utils.to_categorical` allows you to do that."
   ]
  },
  {
   "cell_type": "code",
   "execution_count": 5,
   "metadata": {},
   "outputs": [],
   "source": [
    "X = np.random.uniform(-1.0, 1.0, (1000, 10))\n",
    "t = np.random.randint(0, 3, (1000, ))\n",
    "T = tf.keras.utils.to_categorical(t, 3)"
   ]
  },
  {
   "cell_type": "markdown",
   "metadata": {},
   "source": [
    "Let's learn it. The `Sequential` model has a method called `fit()` where you simply pass the training data `(X, T)` and some other parameters, such as:\n",
    "\n",
    "* the batch size,\n",
    "* the total number of epochs,\n",
    "* the proportion of training examples to keep in order to compute the validation loss/accuracy (optional but recommmended).\n",
    "\n",
    "```python\n",
    "# Training\n",
    "history = tf.keras.callbacks.History()\n",
    "\n",
    "model.fit(\n",
    "    X, T,\n",
    "    batch_size=100, \n",
    "    epochs=50,\n",
    "    validation_split=0.1,\n",
    "    callbacks=[history]\n",
    ")\n",
    "```\n",
    "\n",
    "**Q:** Train the model on the data, using a batch size of 100 for 50 epochs. Explain why you obtained this result."
   ]
  },
  {
   "cell_type": "code",
   "execution_count": 6,
   "metadata": {},
   "outputs": [
    {
     "name": "stdout",
     "output_type": "stream",
     "text": [
      "Epoch 1/50\n",
      "9/9 - 0s - loss: 1.1248 - accuracy: 0.3267 - val_loss: 1.1045 - val_accuracy: 0.3700\n",
      "Epoch 2/50\n",
      "9/9 - 0s - loss: 1.0847 - accuracy: 0.3956 - val_loss: 1.1058 - val_accuracy: 0.3500\n",
      "Epoch 3/50\n",
      "9/9 - 0s - loss: 1.0672 - accuracy: 0.4211 - val_loss: 1.1099 - val_accuracy: 0.4300\n",
      "Epoch 4/50\n",
      "9/9 - 0s - loss: 1.0471 - accuracy: 0.4500 - val_loss: 1.1324 - val_accuracy: 0.3700\n",
      "Epoch 5/50\n",
      "9/9 - 0s - loss: 1.0238 - accuracy: 0.4778 - val_loss: 1.1600 - val_accuracy: 0.3500\n",
      "Epoch 6/50\n",
      "9/9 - 0s - loss: 0.9954 - accuracy: 0.4933 - val_loss: 1.1748 - val_accuracy: 0.3000\n",
      "Epoch 7/50\n",
      "9/9 - 0s - loss: 0.9602 - accuracy: 0.5456 - val_loss: 1.2112 - val_accuracy: 0.3200\n",
      "Epoch 8/50\n",
      "9/9 - 0s - loss: 0.9268 - accuracy: 0.5578 - val_loss: 1.2281 - val_accuracy: 0.3200\n",
      "Epoch 9/50\n",
      "9/9 - 0s - loss: 0.8850 - accuracy: 0.5811 - val_loss: 1.3152 - val_accuracy: 0.3300\n",
      "Epoch 10/50\n",
      "9/9 - 0s - loss: 0.8589 - accuracy: 0.6067 - val_loss: 1.3365 - val_accuracy: 0.3200\n",
      "Epoch 11/50\n",
      "9/9 - 0s - loss: 0.8106 - accuracy: 0.6422 - val_loss: 1.3766 - val_accuracy: 0.2800\n",
      "Epoch 12/50\n",
      "9/9 - 0s - loss: 0.7556 - accuracy: 0.6744 - val_loss: 1.4404 - val_accuracy: 0.3300\n",
      "Epoch 13/50\n",
      "9/9 - 0s - loss: 0.7030 - accuracy: 0.7033 - val_loss: 1.4946 - val_accuracy: 0.3200\n",
      "Epoch 14/50\n",
      "9/9 - 0s - loss: 0.6611 - accuracy: 0.7278 - val_loss: 1.5825 - val_accuracy: 0.2700\n",
      "Epoch 15/50\n",
      "9/9 - 0s - loss: 0.6036 - accuracy: 0.7578 - val_loss: 1.5963 - val_accuracy: 0.3100\n",
      "Epoch 16/50\n",
      "9/9 - 0s - loss: 0.5378 - accuracy: 0.8033 - val_loss: 1.7330 - val_accuracy: 0.2900\n",
      "Epoch 17/50\n",
      "9/9 - 0s - loss: 0.5032 - accuracy: 0.8089 - val_loss: 1.8647 - val_accuracy: 0.3300\n",
      "Epoch 18/50\n",
      "9/9 - 0s - loss: 0.4677 - accuracy: 0.8256 - val_loss: 1.8221 - val_accuracy: 0.2900\n",
      "Epoch 19/50\n",
      "9/9 - 0s - loss: 0.4277 - accuracy: 0.8378 - val_loss: 2.0721 - val_accuracy: 0.2800\n",
      "Epoch 20/50\n",
      "9/9 - 0s - loss: 0.3658 - accuracy: 0.8878 - val_loss: 1.9940 - val_accuracy: 0.3000\n",
      "Epoch 21/50\n",
      "9/9 - 0s - loss: 0.3388 - accuracy: 0.8978 - val_loss: 1.9864 - val_accuracy: 0.2800\n",
      "Epoch 22/50\n",
      "9/9 - 0s - loss: 0.2718 - accuracy: 0.9344 - val_loss: 2.3513 - val_accuracy: 0.2700\n",
      "Epoch 23/50\n",
      "9/9 - 0s - loss: 0.2419 - accuracy: 0.9522 - val_loss: 2.2233 - val_accuracy: 0.3000\n",
      "Epoch 24/50\n",
      "9/9 - 0s - loss: 0.2141 - accuracy: 0.9511 - val_loss: 2.4652 - val_accuracy: 0.3200\n",
      "Epoch 25/50\n",
      "9/9 - 0s - loss: 0.1990 - accuracy: 0.9611 - val_loss: 2.4545 - val_accuracy: 0.3100\n",
      "Epoch 26/50\n",
      "9/9 - 0s - loss: 0.1652 - accuracy: 0.9733 - val_loss: 2.5535 - val_accuracy: 0.3200\n",
      "Epoch 27/50\n",
      "9/9 - 0s - loss: 0.1517 - accuracy: 0.9711 - val_loss: 2.7361 - val_accuracy: 0.3300\n",
      "Epoch 28/50\n",
      "9/9 - 0s - loss: 0.1462 - accuracy: 0.9722 - val_loss: 2.8098 - val_accuracy: 0.3300\n",
      "Epoch 29/50\n",
      "9/9 - 0s - loss: 0.1313 - accuracy: 0.9811 - val_loss: 2.9959 - val_accuracy: 0.3000\n",
      "Epoch 30/50\n",
      "9/9 - 0s - loss: 0.1291 - accuracy: 0.9778 - val_loss: 3.0673 - val_accuracy: 0.2900\n",
      "Epoch 31/50\n",
      "9/9 - 0s - loss: 0.1031 - accuracy: 0.9833 - val_loss: 3.1009 - val_accuracy: 0.3400\n",
      "Epoch 32/50\n",
      "9/9 - 0s - loss: 0.1038 - accuracy: 0.9789 - val_loss: 3.0347 - val_accuracy: 0.2800\n",
      "Epoch 33/50\n",
      "9/9 - 0s - loss: 0.0932 - accuracy: 0.9856 - val_loss: 3.1245 - val_accuracy: 0.3000\n",
      "Epoch 34/50\n",
      "9/9 - 0s - loss: 0.0837 - accuracy: 0.9867 - val_loss: 3.1909 - val_accuracy: 0.3100\n",
      "Epoch 35/50\n",
      "9/9 - 0s - loss: 0.0973 - accuracy: 0.9767 - val_loss: 3.3376 - val_accuracy: 0.3000\n",
      "Epoch 36/50\n",
      "9/9 - 0s - loss: 0.0927 - accuracy: 0.9800 - val_loss: 3.4815 - val_accuracy: 0.3000\n",
      "Epoch 37/50\n",
      "9/9 - 0s - loss: 0.0806 - accuracy: 0.9878 - val_loss: 3.4252 - val_accuracy: 0.2800\n",
      "Epoch 38/50\n",
      "9/9 - 0s - loss: 0.0642 - accuracy: 0.9911 - val_loss: 3.4091 - val_accuracy: 0.3200\n",
      "Epoch 39/50\n",
      "9/9 - 0s - loss: 0.0529 - accuracy: 0.9922 - val_loss: 3.4793 - val_accuracy: 0.3200\n",
      "Epoch 40/50\n",
      "9/9 - 0s - loss: 0.0425 - accuracy: 0.9978 - val_loss: 3.5650 - val_accuracy: 0.3500\n",
      "Epoch 41/50\n",
      "9/9 - 0s - loss: 0.0287 - accuracy: 1.0000 - val_loss: 3.6355 - val_accuracy: 0.3100\n",
      "Epoch 42/50\n",
      "9/9 - 0s - loss: 0.0237 - accuracy: 1.0000 - val_loss: 3.6962 - val_accuracy: 0.2900\n",
      "Epoch 43/50\n",
      "9/9 - 0s - loss: 0.0178 - accuracy: 1.0000 - val_loss: 3.7916 - val_accuracy: 0.3200\n",
      "Epoch 44/50\n",
      "9/9 - 0s - loss: 0.0153 - accuracy: 1.0000 - val_loss: 3.7966 - val_accuracy: 0.3000\n",
      "Epoch 45/50\n",
      "9/9 - 0s - loss: 0.0129 - accuracy: 1.0000 - val_loss: 3.8263 - val_accuracy: 0.3100\n",
      "Epoch 46/50\n",
      "9/9 - 0s - loss: 0.0117 - accuracy: 1.0000 - val_loss: 3.8541 - val_accuracy: 0.3100\n",
      "Epoch 47/50\n",
      "9/9 - 0s - loss: 0.0107 - accuracy: 1.0000 - val_loss: 3.8768 - val_accuracy: 0.3100\n",
      "Epoch 48/50\n",
      "9/9 - 0s - loss: 0.0098 - accuracy: 1.0000 - val_loss: 3.9317 - val_accuracy: 0.3000\n",
      "Epoch 49/50\n",
      "9/9 - 0s - loss: 0.0093 - accuracy: 1.0000 - val_loss: 3.9322 - val_accuracy: 0.3000\n",
      "Epoch 50/50\n",
      "9/9 - 0s - loss: 0.0086 - accuracy: 1.0000 - val_loss: 3.9628 - val_accuracy: 0.3000\n"
     ]
    }
   ],
   "source": [
    "history = model.fit(\n",
    "    X, T,\n",
    "    batch_size=100, \n",
    "    epochs=50,\n",
    "    validation_split=0.1,\n",
    "    verbose=2\n",
    ")"
   ]
  },
  {
   "cell_type": "markdown",
   "metadata": {},
   "source": [
    "**A:** The final training is 100%, the validation accuracy is 33% (may vary depending on initialization). The network has learned the training examples by heart, although they are totally random, but totally fails to generalize.\n",
    "\n",
    "The main is reason is that we have only 1000 training examples, with a total number of free parameters (VC dimension) around 11500. By definition, the model can learn this training set perfectly, although it is totally random. Its VC dimension is however way to high to generalize anything. It is even worse here: as the data is random, there is nothing to generalize. A nice example to understand why NN overfit..."
   ]
  },
  {
   "cell_type": "markdown",
   "metadata": {},
   "source": [
    "## Training a MLP on MNIST\n",
    "\n",
    "Let's now try to learn something a bit more serious, the MNIST dataset. The following cell load the MNIST data (training set 60000 28x28 monochrome images, test set of 10000 images), normalizes it (values betwen 0 and 1 for each pixel), removes the mean image from the training set and transforms the targets to one-hot encoded vectors for the 10 classes. See the neurocomputing exercise for more details."
   ]
  },
  {
   "cell_type": "code",
   "execution_count": 7,
   "metadata": {},
   "outputs": [
    {
     "name": "stdout",
     "output_type": "stream",
     "text": [
      "Training data: (60000, 28, 28) (60000,)\n",
      "Test data: (10000, 28, 28) (10000,)\n"
     ]
    }
   ],
   "source": [
    "# Load the MNIST dataset\n",
    "(X_train, t_train), (X_test, t_test) = tf.keras.datasets.mnist.load_data()\n",
    "print(\"Training data:\", X_train.shape, t_train.shape)\n",
    "print(\"Test data:\", X_test.shape, t_test.shape)\n",
    "\n",
    "# Reshape the images to vectors and normalize\n",
    "X_train = X_train.reshape(X_train.shape[0], 784).astype('float32') / 255.\n",
    "X_test = X_test.reshape(X_test.shape[0], 784).astype('float32') / 255.\n",
    "\n",
    "# Mean removal\n",
    "X_mean = np.mean(X_train, axis=0)\n",
    "X_train -= X_mean\n",
    "X_test -= X_mean\n",
    "\n",
    "# One-hot encoded outputs\n",
    "T_train = tf.keras.utils.to_categorical(t_train, 10)\n",
    "T_test = tf.keras.utils.to_categorical(t_test, 10)"
   ]
  },
  {
   "cell_type": "markdown",
   "metadata": {},
   "source": [
    "**Q:** Create a fully connected neural network with 784 input neurons (one per pixel), 10 softmax output neurons and whatever you want in the middle, so that it can reach around 98% validation accuracy after **20 epochs**.\n",
    "\n",
    "* Put the network creation (including `compile()`) in a method `create_model()`, so that you can create a model multiple times.\n",
    "* Choose a good value for the learning rate.\n",
    "* Do not exagerate with the number of layers and neurons. Two or there hidden layers with 100 to 300 neurons are more than enough.\n",
    "* You will quickly observe that the network overfits: the training accuracy is higher than the validation accuracy. The training accuracy actually goes to 100% if your network is too big. In that case, feel free to add a dropout layer after each fully-connected layer:\n",
    "\n",
    "```python\n",
    "model.add(tf.keras.layers.Dropout(0.5))\n",
    "```"
   ]
  },
  {
   "cell_type": "code",
   "execution_count": 8,
   "metadata": {},
   "outputs": [],
   "source": [
    "def create_model():\n",
    "    # Create the model\n",
    "    model = tf.keras.models.Sequential()\n",
    "    \n",
    "    # Input layer with 784 pixels\n",
    "    model.add(tf.keras.layers.Input((784,)))\n",
    "\n",
    "    # Hidden layer with 150 neurons\n",
    "    model.add(tf.keras.layers.Dense(150, activation=\"relu\"))\n",
    "    model.add(tf.keras.layers.Dropout(0.5))\n",
    "\n",
    "    # Second hidden layer with 100 neurons\n",
    "    model.add(tf.keras.layers.Dense(100, activation=\"relu\"))\n",
    "    model.add(tf.keras.layers.Dropout(0.5))\n",
    "\n",
    "    # Softmax output layer with 10 neurons\n",
    "    model.add(tf.keras.layers.Dense(10, activation=\"softmax\"))\n",
    "\n",
    "    # Learning rule\n",
    "    optimizer = tf.keras.optimizers.Adam(lr=0.001)\n",
    "\n",
    "    # Loss function\n",
    "    model.compile(\n",
    "        loss='categorical_crossentropy', # loss\n",
    "        optimizer=optimizer, # learning rule\n",
    "        metrics=['accuracy'] # show accuracy\n",
    "    )\n",
    "    print(model.summary())\n",
    "    \n",
    "    return model"
   ]
  },
  {
   "cell_type": "code",
   "execution_count": 9,
   "metadata": {},
   "outputs": [
    {
     "name": "stdout",
     "output_type": "stream",
     "text": [
      "Model: \"sequential_1\"\n",
      "_________________________________________________________________\n",
      "Layer (type)                 Output Shape              Param #   \n",
      "=================================================================\n",
      "dense_3 (Dense)              (None, 150)               117750    \n",
      "_________________________________________________________________\n",
      "dropout (Dropout)            (None, 150)               0         \n",
      "_________________________________________________________________\n",
      "dense_4 (Dense)              (None, 100)               15100     \n",
      "_________________________________________________________________\n",
      "dropout_1 (Dropout)          (None, 100)               0         \n",
      "_________________________________________________________________\n",
      "dense_5 (Dense)              (None, 10)                1010      \n",
      "=================================================================\n",
      "Total params: 133,860\n",
      "Trainable params: 133,860\n",
      "Non-trainable params: 0\n",
      "_________________________________________________________________\n",
      "None\n",
      "Epoch 1/20\n",
      "540/540 [==============================] - 3s 5ms/step - loss: 0.5906 - accuracy: 0.8192 - val_loss: 0.1724 - val_accuracy: 0.9478\n",
      "Epoch 2/20\n",
      "540/540 [==============================] - 2s 4ms/step - loss: 0.3256 - accuracy: 0.9048 - val_loss: 0.1309 - val_accuracy: 0.9625\n",
      "Epoch 3/20\n",
      "540/540 [==============================] - 2s 4ms/step - loss: 0.2708 - accuracy: 0.9197 - val_loss: 0.1126 - val_accuracy: 0.9692\n",
      "Epoch 4/20\n",
      "540/540 [==============================] - 2s 5ms/step - loss: 0.2379 - accuracy: 0.9291 - val_loss: 0.1016 - val_accuracy: 0.9703\n",
      "Epoch 5/20\n",
      "540/540 [==============================] - 2s 5ms/step - loss: 0.2128 - accuracy: 0.9375 - val_loss: 0.0898 - val_accuracy: 0.9748\n",
      "Epoch 6/20\n",
      "540/540 [==============================] - 3s 5ms/step - loss: 0.1985 - accuracy: 0.9416 - val_loss: 0.0848 - val_accuracy: 0.9762\n",
      "Epoch 7/20\n",
      "540/540 [==============================] - 3s 5ms/step - loss: 0.1826 - accuracy: 0.9458 - val_loss: 0.0823 - val_accuracy: 0.9780\n",
      "Epoch 8/20\n",
      "540/540 [==============================] - 3s 6ms/step - loss: 0.1797 - accuracy: 0.9466 - val_loss: 0.0792 - val_accuracy: 0.9790\n",
      "Epoch 9/20\n",
      "540/540 [==============================] - 3s 5ms/step - loss: 0.1655 - accuracy: 0.9508 - val_loss: 0.0770 - val_accuracy: 0.9775\n",
      "Epoch 10/20\n",
      "540/540 [==============================] - 3s 5ms/step - loss: 0.1609 - accuracy: 0.9521 - val_loss: 0.0754 - val_accuracy: 0.9790\n",
      "Epoch 11/20\n",
      "540/540 [==============================] - 3s 6ms/step - loss: 0.1536 - accuracy: 0.9525 - val_loss: 0.0698 - val_accuracy: 0.9790\n",
      "Epoch 12/20\n",
      "540/540 [==============================] - 3s 5ms/step - loss: 0.1439 - accuracy: 0.9569 - val_loss: 0.0730 - val_accuracy: 0.9783\n",
      "Epoch 13/20\n",
      "540/540 [==============================] - 3s 6ms/step - loss: 0.1419 - accuracy: 0.9568 - val_loss: 0.0703 - val_accuracy: 0.9805\n",
      "Epoch 14/20\n",
      "540/540 [==============================] - 3s 5ms/step - loss: 0.1369 - accuracy: 0.9586 - val_loss: 0.0701 - val_accuracy: 0.9788\n",
      "Epoch 15/20\n",
      "540/540 [==============================] - 4s 7ms/step - loss: 0.1375 - accuracy: 0.9589 - val_loss: 0.0677 - val_accuracy: 0.9807\n",
      "Epoch 16/20\n",
      "540/540 [==============================] - 3s 6ms/step - loss: 0.1322 - accuracy: 0.9601 - val_loss: 0.0706 - val_accuracy: 0.9795\n",
      "Epoch 17/20\n",
      "540/540 [==============================] - 3s 6ms/step - loss: 0.1277 - accuracy: 0.9621 - val_loss: 0.0675 - val_accuracy: 0.9810\n",
      "Epoch 18/20\n",
      "540/540 [==============================] - 3s 6ms/step - loss: 0.1271 - accuracy: 0.9614 - val_loss: 0.0677 - val_accuracy: 0.9802\n",
      "Epoch 19/20\n",
      "540/540 [==============================] - 3s 6ms/step - loss: 0.1221 - accuracy: 0.9629 - val_loss: 0.0689 - val_accuracy: 0.9805\n",
      "Epoch 20/20\n",
      "540/540 [==============================] - 4s 7ms/step - loss: 0.1180 - accuracy: 0.9637 - val_loss: 0.0665 - val_accuracy: 0.9813\n"
     ]
    },
    {
     "data": {
      "text/plain": [
       "<tensorflow.python.keras.callbacks.History at 0x7f3c50063670>"
      ]
     },
     "execution_count": 9,
     "metadata": {},
     "output_type": "execute_result"
    }
   ],
   "source": [
    "model = create_model()\n",
    "\n",
    "# Training\n",
    "history = tf.keras.callbacks.History()\n",
    "\n",
    "model.fit(\n",
    "    X_train, T_train,\n",
    "    batch_size=100, \n",
    "    epochs=20,\n",
    "    validation_split=0.1,\n",
    "    callbacks=[history]\n",
    ")"
   ]
  },
  {
   "cell_type": "markdown",
   "metadata": {},
   "source": [
    "After training, one should evaluate the model on the test set. `keras` provides an `evaluate()` method that computes the different metrics (in our case the loss) on the data:\n",
    "\n",
    "```python\n",
    "score = model.evaluate(X_test, T_test)\n",
    "```\n",
    "\n",
    "Another solution would be to `predict()` labels on the test set and manually compare them to the ground truth:\n",
    "\n",
    "```python\n",
    "Y = model.predict(X_test)\n",
    "loss = - np.mean(T_test * np.log(Y))\n",
    "predicted_classes = np.argmax(Y, axis=1)\n",
    "accuracy = 1.0 - np.sum(predicted_classes != t_test)/t_test.shape[0]\n",
    "```\n",
    "\n",
    "Another important thing to visualize after training is how the training and validation loss (or accuracy) evolved during training. The `fit()` method updates a `History` object which contains the history of your metrics (loss and accuracy) after each epoch of training. These are simple numpy arrays, accessible with:\n",
    "\n",
    "```python\n",
    "history.history['loss']\n",
    "history.history['val_loss']\n",
    "history.history['accuracy']\n",
    "history.history['val_accuracy']\n",
    "```\n",
    "\n",
    "**Q:** Compute the test loss and accuracy of your model. Plot the history of the training and validation loss/accuracy."
   ]
  },
  {
   "cell_type": "code",
   "execution_count": 10,
   "metadata": {},
   "outputs": [
    {
     "name": "stdout",
     "output_type": "stream",
     "text": [
      "313/313 [==============================] - 3s 10ms/step - loss: 0.0762 - accuracy: 0.9776\n",
      "Test loss: 0.0761534720659256\n",
      "Test accuracy: 0.9775999784469604\n"
     ]
    },
    {
     "data": {
      "image/png": "[encoded data removed]",
      "text/plain": [
       "<Figure size 1080x432 with 2 Axes>"
      ]
     },
     "metadata": {
      "needs_background": "light"
     },
     "output_type": "display_data"
    }
   ],
   "source": [
    "# Testing\n",
    "score = model.evaluate(X_test, T_test)\n",
    "print('Test loss:', score[0])\n",
    "print('Test accuracy:', score[1])\n",
    "\n",
    "plt.figure(figsize=(15, 6))\n",
    "plt.subplot(121)\n",
    "plt.plot(history.history['loss'], '-r', label=\"Training\")\n",
    "plt.plot(history.history['val_loss'], '-b', label=\"Validation\")\n",
    "plt.xlabel('Epoch #')\n",
    "plt.ylabel('Loss')\n",
    "plt.legend()\n",
    "plt.subplot(122)\n",
    "plt.plot(history.history['accuracy'], '-r', label=\"Training\")\n",
    "plt.plot(history.history['val_accuracy'], '-b', label=\"Validation\")\n",
    "plt.xlabel('Epoch #')\n",
    "plt.ylabel('Accuracy')\n",
    "plt.legend()\n",
    "plt.show()"
   ]
  },
  {
   "cell_type": "markdown",
   "metadata": {},
   "source": [
    "## Correlated inputs\n",
    "\n",
    "Now that we have a basic NN working on MNIST, let's investigate why deep NN hate sequentially correlated inputs (which is the main justification for the experience replay memory in DQN). Is that really true, or is just some mathematical assumption that does not matter in practice?\n",
    "\n",
    "The idea of this part is the following: we will train the same network as before for 20 epochs, but each epoch will train the network on all the 0s first, then all the 1s, etc. Each epoch will contain the same number of training examples as before, but the order of presentation will simply be different.\n",
    "\n",
    "To get all examples of the training set which have the target 3 (for example), you just have to slice the matrices accordingly:\n",
    "\n",
    "```python\n",
    "X = X_train[t_train==3, :]\n",
    "T = T_train[t_train==3]\n",
    "```\n",
    "\n",
    "**Q:** Train the same network as before (but reinitialize it!) for 20 epochs, with each epoch sequentially iterating over the classes 0, 1, 2, 3, etc. Plot the loss and accurary during training. What do you observe?\n",
    "\n",
    "*Hint:* you will have two for loops to write: one over the epochs, one over the digits.\n",
    "\n",
    "```python\n",
    "for e in range(20):\n",
    "    for c in range(10):\n",
    "        model.fit(...)\n",
    "```\n",
    "\n",
    "You should only do one epoch for each call to `fit()`. Set `verbose=0` in `fit()` to avoid printing too much info."
   ]
  },
  {
   "cell_type": "code",
   "execution_count": 11,
   "metadata": {},
   "outputs": [
    {
     "name": "stdout",
     "output_type": "stream",
     "text": [
      "Model: \"sequential_2\"\n",
      "_________________________________________________________________\n",
      "Layer (type)                 Output Shape              Param #   \n",
      "=================================================================\n",
      "dense_6 (Dense)              (None, 150)               117750    \n",
      "_________________________________________________________________\n",
      "dropout_2 (Dropout)          (None, 150)               0         \n",
      "_________________________________________________________________\n",
      "dense_7 (Dense)              (None, 100)               15100     \n",
      "_________________________________________________________________\n",
      "dropout_3 (Dropout)          (None, 100)               0         \n",
      "_________________________________________________________________\n",
      "dense_8 (Dense)              (None, 10)                1010      \n",
      "=================================================================\n",
      "Total params: 133,860\n",
      "Trainable params: 133,860\n",
      "Non-trainable params: 0\n",
      "_________________________________________________________________\n",
      "None\n",
      "Epoch:  1\n",
      " Training loss: 2.303544521331787\n",
      " Training accuracy: 0.36010459065437317\n",
      " Validation loss: 0.09534391760826111\n",
      " Validation accuracy: 0.9798319339752197\n",
      "Epoch:  2\n",
      " Training loss: 1.2442150115966797\n",
      " Training accuracy: 0.642883837223053\n",
      " Validation loss: 0.052448783069849014\n",
      " Validation accuracy: 0.9831932783126831\n",
      "Epoch:  3\n",
      " Training loss: 0.9227474331855774\n",
      " Training accuracy: 0.7226372957229614\n",
      " Validation loss: 0.05481710284948349\n",
      " Validation accuracy: 0.9831932783126831\n",
      "Epoch:  4\n",
      " Training loss: 0.690196692943573\n",
      " Training accuracy: 0.782218873500824\n",
      " Validation loss: 0.03968832269310951\n",
      " Validation accuracy: 0.9899159669876099\n",
      "Epoch:  5\n",
      " Training loss: 0.8069394826889038\n",
      " Training accuracy: 0.7721329927444458\n",
      " Validation loss: 0.04939291998744011\n",
      " Validation accuracy: 0.9865546226501465\n",
      "Epoch:  6\n",
      " Training loss: 0.6689518690109253\n",
      " Training accuracy: 0.7945461273193359\n",
      " Validation loss: 0.04903123527765274\n",
      " Validation accuracy: 0.9848739504814148\n",
      "Epoch:  7\n",
      " Training loss: 0.5738986134529114\n",
      " Training accuracy: 0.8195741772651672\n",
      " Validation loss: 0.05302703008055687\n",
      " Validation accuracy: 0.9848739504814148\n",
      "Epoch:  8\n",
      " Training loss: 0.6133586168289185\n",
      " Training accuracy: 0.8135973215103149\n",
      " Validation loss: 0.04930460453033447\n",
      " Validation accuracy: 0.9882352948188782\n",
      "Epoch:  9\n",
      " Training loss: 0.5698745846748352\n",
      " Training accuracy: 0.8246170878410339\n",
      " Validation loss: 0.04807405546307564\n",
      " Validation accuracy: 0.9831932783126831\n",
      "Epoch:  10\n",
      " Training loss: 0.5016088485717773\n",
      " Training accuracy: 0.8375046849250793\n",
      " Validation loss: 0.046830914914608\n",
      " Validation accuracy: 0.9865546226501465\n",
      "Epoch:  11\n",
      " Training loss: 0.5332214832305908\n",
      " Training accuracy: 0.8272320032119751\n",
      " Validation loss: 0.04619760811328888\n",
      " Validation accuracy: 0.9865546226501465\n",
      "Epoch:  12\n",
      " Training loss: 0.4986168146133423\n",
      " Training accuracy: 0.8341426849365234\n",
      " Validation loss: 0.050045475363731384\n",
      " Validation accuracy: 0.9831932783126831\n",
      "Epoch:  13\n",
      " Training loss: 0.4833643436431885\n",
      " Training accuracy: 0.8397459983825684\n",
      " Validation loss: 0.043992891907691956\n",
      " Validation accuracy: 0.9831932783126831\n",
      "Epoch:  14\n",
      " Training loss: 0.48562461137771606\n",
      " Training accuracy: 0.8612252473831177\n",
      " Validation loss: 0.04528520256280899\n",
      " Validation accuracy: 0.9848739504814148\n",
      "Epoch:  15\n",
      " Training loss: 0.4696274399757385\n",
      " Training accuracy: 0.8457227945327759\n",
      " Validation loss: 0.04450022429227829\n",
      " Validation accuracy: 0.9848739504814148\n",
      "Epoch:  16\n",
      " Training loss: 0.4291788935661316\n",
      " Training accuracy: 0.859357476234436\n",
      " Validation loss: 0.045817792415618896\n",
      " Validation accuracy: 0.9831932783126831\n",
      "Epoch:  17\n",
      " Training loss: 0.4401220381259918\n",
      " Training accuracy: 0.8578633069992065\n",
      " Validation loss: 0.04923098906874657\n",
      " Validation accuracy: 0.9848739504814148\n",
      "Epoch:  18\n",
      " Training loss: 0.3859715163707733\n",
      " Training accuracy: 0.8744863867759705\n",
      " Validation loss: 0.04724453389644623\n",
      " Validation accuracy: 0.9865546226501465\n",
      "Epoch:  19\n",
      " Training loss: 0.4003971815109253\n",
      " Training accuracy: 0.8737392425537109\n",
      " Validation loss: 0.04661360755562782\n",
      " Validation accuracy: 0.9848739504814148\n",
      "Epoch:  20\n",
      " Training loss: 0.38569140434265137\n",
      " Training accuracy: 0.8744863867759705\n",
      " Validation loss: 0.044399961829185486\n",
      " Validation accuracy: 0.9848739504814148\n"
     ]
    },
    {
     "data": {
      "image/png": "[encoded data removed]",
      "text/plain": [
       "<Figure size 1080x432 with 2 Axes>"
      ]
     },
     "metadata": {
      "needs_background": "light"
     },
     "output_type": "display_data"
    }
   ],
   "source": [
    "model = create_model()\n",
    "\n",
    "history = tf.keras.callbacks.History()\n",
    "\n",
    "for e in range(20):\n",
    "    print(\"Epoch: \", e+1)\n",
    "    for c in range(10):\n",
    "        # Training\n",
    "        model.fit(\n",
    "            X_train[t_train==c, :], T_train[t_train==c, :],\n",
    "            batch_size=100, \n",
    "            epochs=1,\n",
    "            validation_split=0.1,\n",
    "            verbose = 0,\n",
    "            callbacks=[history]\n",
    "        )\n",
    "    print(\" Training loss:\", history.history[\"loss\"][-1])\n",
    "    print(\" Training accuracy:\", history.history[\"accuracy\"][-1])\n",
    "    print(\" Validation loss:\", history.history[\"val_loss\"][-1])\n",
    "    print(\" Validation accuracy:\", history.history[\"val_accuracy\"][-1])\n",
    "        \n",
    "plt.figure(figsize=(15, 6))\n",
    "plt.subplot(121)\n",
    "plt.plot(history.history['loss'], '-r', label=\"Training\")\n",
    "plt.plot(history.history['val_loss'], '-b', label=\"Validation\")\n",
    "plt.xlabel('Epoch #')\n",
    "plt.ylabel('Loss')\n",
    "plt.legend()\n",
    "plt.subplot(122)\n",
    "plt.plot(history.history['accuracy'], '-r', label=\"Training\")\n",
    "plt.plot(history.history['val_accuracy'], '-b', label=\"Validation\")\n",
    "plt.xlabel('Epoch #')\n",
    "plt.ylabel('Accuracy')\n",
    "plt.legend()\n",
    "plt.show()"
   ]
  },
  {
   "cell_type": "markdown",
   "metadata": {},
   "source": [
    "**A:** the training accuracy slowly increases (with some oscillations, some numbers are harder to learn than others), but the validation accuracy is suspiciously high right from the start..."
   ]
  },
  {
   "cell_type": "markdown",
   "metadata": {},
   "source": [
    "**Q:** Evaluate the model after training on the whole test set. What happens?"
   ]
  },
  {
   "cell_type": "code",
   "execution_count": 12,
   "metadata": {},
   "outputs": [
    {
     "name": "stdout",
     "output_type": "stream",
     "text": [
      "Test loss: 0.68121737241745\n",
      "Test accuracy: 0.803600013256073\n"
     ]
    }
   ],
   "source": [
    "# Testing\n",
    "score = model.evaluate(X_test, T_test, verbose=0)\n",
    "print('Test loss:', score[0])\n",
    "print('Test accuracy:', score[1])"
   ]
  },
  {
   "cell_type": "markdown",
   "metadata": {},
   "source": [
    "**A:** horror! The test accuracy is now awful, although the training and validation accuracies were fine after 20 epochs."
   ]
  },
  {
   "cell_type": "markdown",
   "metadata": {},
   "source": [
    "**Q:** To better understand what happened, compute the test accuracy of the network on each class of the test set individually: all the 0s of the test set, then all the 1s, etc. What happens? "
   ]
  },
  {
   "cell_type": "code",
   "execution_count": 13,
   "metadata": {},
   "outputs": [
    {
     "name": "stdout",
     "output_type": "stream",
     "text": [
      "Class 0\n",
      "Test loss: 0.4328828752040863\n",
      "Test accuracy: 0.9010204076766968\n",
      "Class 1\n",
      "Test loss: 0.4053132236003876\n",
      "Test accuracy: 0.9198237657546997\n",
      "Class 2\n",
      "Test loss: 1.080206274986267\n",
      "Test accuracy: 0.694767415523529\n",
      "Class 3\n",
      "Test loss: 1.150202989578247\n",
      "Test accuracy: 0.60792076587677\n",
      "Class 4\n",
      "Test loss: 1.4120031595230103\n",
      "Test accuracy: 0.6191446185112\n",
      "Class 5\n",
      "Test loss: 1.117068886756897\n",
      "Test accuracy: 0.6804932951927185\n",
      "Class 6\n",
      "Test loss: 0.1382644772529602\n",
      "Test accuracy: 0.9551148414611816\n",
      "Class 7\n",
      "Test loss: 0.8572134971618652\n",
      "Test accuracy: 0.7033073902130127\n",
      "Class 8\n",
      "Test loss: 0.19737786054611206\n",
      "Test accuracy: 0.9579055309295654\n",
      "Class 9\n",
      "Test loss: 0.061951059848070145\n",
      "Test accuracy: 0.9831516146659851\n"
     ]
    }
   ],
   "source": [
    "for c in range(10):\n",
    "    score = model.evaluate(X_test[t_test==c, :], T_test[t_test==c, :], verbose=0)\n",
    "    print(\"Class\", c)\n",
    "    print('Test loss:', score[0])\n",
    "    print('Test accuracy:', score[1])"
   ]
  },
  {
   "cell_type": "markdown",
   "metadata": {},
   "source": [
    "**A:** the last digits to be seen during training are the 9s: they have a good test accuracy. The 8s were seen not too long ago, they are also OK. But the other digits have been forgotten! The memory has been erased. This explains why you cannot train a deep network on-policy: the last episode would be remembered, but all the previous ones would be erased (catastrophic forgetting).\n",
    "\n",
    "A notable exception is for the 6s, which look like 9s, and the 0s, which look like 8s: they share features with the digits which are well recognized, so they perform OK."
   ]
  },
  {
   "cell_type": "markdown",
   "metadata": {},
   "source": [
    "**Q:** Increase and decrease the learning rate of the optimizer. What do you observe? Is there a solution to this problem? "
   ]
  },
  {
   "cell_type": "markdown",
   "metadata": {},
   "source": [
    "**A:** Increasing the learning rate worsens the problem. Decreasing does help, but then learning is very slow. This is classical example of catastrophic forgetting: learning a new task erases the previous ones. There is no solution to this problem for now, apart from taking **i.i.d** samples in each minibatch."
   ]
  },
  {
   "cell_type": "code",
   "execution_count": null,
   "metadata": {},
   "outputs": [],
   "source": []
  }
 ],
 "metadata": {
  "kernelspec": {
   "display_name": "Python 3",
   "language": "python",
   "name": "python3"
  },
  "language_info": {
   "codemirror_mode": {
    "name": "ipython",
    "version": 3
   },
   "file_extension": ".py",
   "mimetype": "text/x-python",
   "name": "python",
   "nbconvert_exporter": "python",
   "pygments_lexer": "ipython3",
   "version": "3.9.1"
  }
 },
 "nbformat": 4,
 "nbformat_minor": 4
}
