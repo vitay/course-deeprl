{
  "nbformat": 4,
  "nbformat_minor": 0,
  "metadata": {
    "accelerator": "GPU",
    "colab": {
      "name": "12-DQN-solution.ipynb",
      "provenance": [],
      "collapsed_sections": [],
      "toc_visible": true
    },
    "kernelspec": {
      "display_name": "Python 3",
      "language": "python",
      "name": "python3"
    },
    "language_info": {
      "codemirror_mode": {
        "name": "ipython",
        "version": 3
      },
      "file_extension": ".py",
      "mimetype": "text/x-python",
      "name": "python",
      "nbconvert_exporter": "python",
      "pygments_lexer": "ipython3",
      "version": "3.9.1"
    }
  },
  "cells": [
    {
      "cell_type": "markdown",
      "metadata": {
        "id": "kzN-Q9Zv1He1"
      },
      "source": [
        "# DQN\n",
        "\n",
        "The goal of this exercise is to implement DQN and to apply it to the cartpole balancing problem. \n",
        "\n",
        "Let's import eveything we need to run gym on Colab:\n"
      ]
    },
    {
      "cell_type": "code",
      "metadata": {
        "colab": {
          "base_uri": "https://localhost:8080/"
        },
        "id": "ZuVpP0LaxKM5",
        "outputId": "948030f3-cdfb-43a1-882a-6140df11639b"
      },
      "source": [
        "import numpy as np\n",
        "import matplotlib.pyplot as plt\n",
        "import tensorflow as tf\n",
        "import time\n",
        "from collections import deque\n",
        "from IPython.display import clear_output\n",
        "\n",
        "def running_mean(x, N):\n",
        "    cumsum = np.cumsum(np.insert(np.array(x), 0, 0)) \n",
        "    return (cumsum[N:] - cumsum[:-N]) / N\n",
        "    \n",
        "try:\n",
        "    import google.colab\n",
        "    IN_COLAB = True\n",
        "except:\n",
        "    IN_COLAB = False\n",
        "\n",
        "if not IN_COLAB:\n",
        "    import gym\n",
        "    def show_video():\n",
        "        pass\n",
        "    def wrap_env(env):\n",
        "        return env\n",
        "else:\n",
        "    # Installing Debian and pip packages. It can take a while.\n",
        "    # remove \" > /dev/null 2>&1\" to see what is going on under the hood\n",
        "    !pip install gym pyvirtualdisplay > /dev/null 2>&1\n",
        "    !apt-get install -y xvfb python-opengl ffmpeg > /dev/null 2>&1\n",
        "    !apt-get update > /dev/null 2>&1\n",
        "    !apt-get install cmake > /dev/null 2>&1\n",
        "    !pip install box2d > /dev/null 2>&1\n",
        "    !pip install gym[box2d] > /dev/null 2>&1\n",
        "    !pip install gym[atari]\n",
        "    \n",
        "    import gym\n",
        "\n",
        "    from gym.wrappers import Monitor\n",
        "    import random, math, glob, io, base64\n",
        "    from IPython.display import HTML\n",
        "    from IPython import display as ipythondisplay\n",
        "    from pyvirtualdisplay import Display\n",
        "    display = Display(visible=0, size=(1400, 900))\n",
        "    display.start()\n",
        "\n",
        "    def show_video():\n",
        "        mp4list = glob.glob('video/*.mp4')\n",
        "        if len(mp4list) > 0:\n",
        "            mp4 = mp4list[0]\n",
        "            video = io.open(mp4, 'r+b').read()\n",
        "            encoded = base64.b64encode(video)\n",
        "            ipythondisplay.display(HTML(data='''<video alt=\"test\" autoplay loop controls style=\"height: 400px;\">\n",
        "                    <source src=\"data:video/mp4;base64,{0}\" type=\"video/mp4\" /></video>'''.format(encoded.decode('ascii'))))\n",
        "        else: \n",
        "            print(\"Could not find video\")\n",
        "\n",
        "    def wrap_env(env):\n",
        "        env = Monitor(env, './video', force=True)\n",
        "        return env\n"
      ],
      "execution_count": 1,
      "outputs": [
        {
          "output_type": "stream",
          "text": [
            "Requirement already satisfied: gym[atari] in /usr/local/lib/python3.6/dist-packages (0.17.3)\n",
            "Requirement already satisfied: scipy in /usr/local/lib/python3.6/dist-packages (from gym[atari]) (1.4.1)\n",
            "Requirement already satisfied: pyglet<=1.5.0,>=1.4.0 in /usr/local/lib/python3.6/dist-packages (from gym[atari]) (1.5.0)\n",
            "Requirement already satisfied: cloudpickle<1.7.0,>=1.2.0 in /usr/local/lib/python3.6/dist-packages (from gym[atari]) (1.3.0)\n",
            "Requirement already satisfied: numpy>=1.10.4 in /usr/local/lib/python3.6/dist-packages (from gym[atari]) (1.19.5)\n",
            "Requirement already satisfied: atari-py~=0.2.0; extra == \"atari\" in /usr/local/lib/python3.6/dist-packages (from gym[atari]) (0.2.6)\n",
            "Requirement already satisfied: opencv-python; extra == \"atari\" in /usr/local/lib/python3.6/dist-packages (from gym[atari]) (4.1.2.30)\n",
            "Requirement already satisfied: Pillow; extra == \"atari\" in /usr/local/lib/python3.6/dist-packages (from gym[atari]) (7.0.0)\n",
            "Requirement already satisfied: future in /usr/local/lib/python3.6/dist-packages (from pyglet<=1.5.0,>=1.4.0->gym[atari]) (0.16.0)\n",
            "Requirement already satisfied: six in /usr/local/lib/python3.6/dist-packages (from atari-py~=0.2.0; extra == \"atari\"->gym[atari]) (1.15.0)\n"
          ],
          "name": "stdout"
        }
      ]
    },
    {
      "cell_type": "markdown",
      "metadata": {
        "id": "EPakRvKRoA79"
      },
      "source": [
        "## Cartpole balancing task\n",
        "\n",
        "We are going to use the Cartpole balancing problem, which can be loaded with:\n",
        "\n",
        "```python\n",
        "env = wrap_env(gym.make('CartPole-v0'))\n",
        "```\n",
        "\n",
        "States have 4 continuous values (position and speed of the cart, angle and speed of the pole) and 2 discrete outputs (going left or right). The reward is +1 for each transition where the pole is still standing (angle of less than 30° with the vertical). The episode ends when the pole fails or after 200 steps. The maximal (undiscounted) return is therefore 200. Can DQN learn this?"
      ]
    },
    {
      "cell_type": "code",
      "metadata": {
        "colab": {
          "base_uri": "https://localhost:8080/",
          "height": 438
        },
        "id": "zBkpg0MDoIxJ",
        "outputId": "58411c0e-4248-4e15-9f5e-b284aeea321e"
      },
      "source": [
        "# Create the environment\n",
        "env = wrap_env(gym.make('CartPole-v0'))\n",
        "\n",
        "# Sample the initial state\n",
        "state = env.reset()\n",
        "\n",
        "# One episode:\n",
        "done = False\n",
        "return_episode = 0\n",
        "while not done:\n",
        "    \n",
        "    # Render the current state\n",
        "    env.render()\n",
        "\n",
        "    # Select an action randomly\n",
        "    action = env.action_space.sample()\n",
        "    \n",
        "    # Sample a single transition\n",
        "    next_state, reward, done, info = env.step(action)\n",
        "\n",
        "    # Update undiscounted return\n",
        "    return_episode += reward\n",
        "    \n",
        "    # Go in the next state\n",
        "    state = next_state\n",
        "\n",
        "print(\"Return:\", return_episode)\n",
        "\n",
        "# Exit cleanly\n",
        "env.close()\n",
        "show_video()"
      ],
      "execution_count": 2,
      "outputs": [
        {
          "output_type": "stream",
          "text": [
            "Return: 12.0\n"
          ],
          "name": "stdout"
        },
        {
          "output_type": "display_data",
          "data": {
            "text/html": [
              "<video alt=\"test\" autoplay loop controls style=\"height: 400px;\">\n",
              "                    <source src=\"data:video/mp4;base64,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\" type=\"video/mp4\" /></video>"
            ],
            "text/plain": [
              "<IPython.core.display.HTML object>"
            ]
          },
          "metadata": {
            "tags": []
          }
        }
      ]
    },
    {
      "cell_type": "markdown",
      "metadata": {
        "id": "_3CIDqP41Wvf"
      },
      "source": [
        "As the problem is quite simple (4 state variables, 2 actions), DQN can run on a single CPU. However, we advise that you run the notebook on a GPU in Colab to avoid emptying the battery of your laptop too fast or making it too warm as training takes quite a long time.\n",
        "\n",
        "We will forget from now on to display the cartpole on colab, it does not work well."
      ]
    },
    {
      "cell_type": "markdown",
      "metadata": {
        "id": "8hEvKXD1LDCq"
      },
      "source": [
        "## Creating the model\n",
        "\n",
        "The first step is to create the value network using `keras`. We will not need anything fancy: a simple fully connected network with 4 input neurons, two hidden layers of 64 neurons each and 2 output neurons will do the trick. ReLU activation functions all along and the Adam optimizer.\n",
        "\n",
        "**Q:** Which loss function should we use? Think about which arguments have to passed to `model.compile()` and what activation function is required in the output layer.\n",
        "\n",
        "We will need to create two identical networks: the trained network and the target network. You should therefore create a method that returns a compiled model, so it can be called two times. You should pass it the environment (so the network can know how many input and output neurons it needs) and the learning rate for the Adam optimizer.\n",
        "\n",
        "```python\n",
        "def create_model(env, lr):\n",
        "    \n",
        "    model = Sequential()\n",
        "\n",
        "    # ...\n",
        "\n",
        "    return model\n",
        "```\n",
        "\n",
        "**Q:** Implement the method accordingly."
      ]
    },
    {
      "cell_type": "code",
      "metadata": {
        "id": "h67ZdBDZ6PKL"
      },
      "source": [
        "def create_model(env, lr):\n",
        "    \n",
        "    model = tf.keras.models.Sequential()\n",
        "    \n",
        "    model.add(tf.keras.layers.Input(env.observation_space.shape))\n",
        "    model.add(tf.keras.layers.Dense(64, activation='relu'))\n",
        "    model.add(tf.keras.layers.Dense(64, activation='relu'))\n",
        "    model.add(tf.keras.layers.Dense(env.action_space.n, activation='linear'))\n",
        "    \n",
        "    model.compile(loss='mse', optimizer=tf.keras.optimizers.Adam(lr=lr))\n",
        "    \n",
        "    print(model.summary())\n",
        "\n",
        "    return model"
      ],
      "execution_count": 3,
      "outputs": []
    },
    {
      "cell_type": "markdown",
      "metadata": {
        "id": "UF4OBQRtOpZZ"
      },
      "source": [
        "Let's test this method by creating the trained and target networks.\n",
        "\n",
        "**Important:** every time you call `create_model`, a new neural network will be instantiated but the previous ones will not be deleted. During this exercise, you may have to create hundreds of networks because of the incremental implementation of DQN: all networks will stay instantiated in the RAM, and your computer/colab tab will freeze after a while. Before creating new networks, delete all existing ones with:\n",
        "\n",
        "```python\n",
        "tf.keras.backend.clear_session()\n",
        "```\n",
        "\n",
        "**Q:** Create the trained and target networks. The learning rate does not matter for now. Instantiate the Cartpole environment and print the output of both networks for the initial state (`state = env.reset()`). Are they the same?\n",
        "\n",
        "*Hint:* `model.predict()` expects an array of shape (N, 4), with N the number of examples. Here, we have only one example, so make sure to reshape `state` so it has the shape (1, 4) (otherwise tf will complain)."
      ]
    },
    {
      "cell_type": "code",
      "metadata": {
        "colab": {
          "base_uri": "https://localhost:8080/"
        },
        "id": "IywqFrVTOq8N",
        "outputId": "5298b903-b14b-4136-d8db-16c74b321199"
      },
      "source": [
        "env = gym.make('CartPole-v0')\n",
        "\n",
        "state = env.reset()\n",
        "print(\"State:\", state)\n",
        "\n",
        "tf.keras.backend.clear_session()\n",
        "trained_model = create_model(env, 0.001)\n",
        "target_model = create_model(env, 0.001)\n",
        "\n",
        "trained_prediction = trained_model.predict(state.reshape((1, env.observation_space.shape[0])))[0]\n",
        "target_prediction = target_model.predict(state.reshape((1, env.observation_space.shape[0])))[0]\n",
        "print(\"Predictions:\", trained_prediction, target_prediction)"
      ],
      "execution_count": 4,
      "outputs": [
        {
          "output_type": "stream",
          "text": [
            "State: [-0.01228574  0.00488752  0.02812964 -0.00934043]\n",
            "Model: \"sequential\"\n",
            "_________________________________________________________________\n",
            "Layer (type)                 Output Shape              Param #   \n",
            "=================================================================\n",
            "dense (Dense)                (None, 64)                320       \n",
            "_________________________________________________________________\n",
            "dense_1 (Dense)              (None, 64)                4160      \n",
            "_________________________________________________________________\n",
            "dense_2 (Dense)              (None, 2)                 130       \n",
            "=================================================================\n",
            "Total params: 4,610\n",
            "Trainable params: 4,610\n",
            "Non-trainable params: 0\n",
            "_________________________________________________________________\n",
            "None\n",
            "Model: \"sequential_1\"\n",
            "_________________________________________________________________\n",
            "Layer (type)                 Output Shape              Param #   \n",
            "=================================================================\n",
            "dense_3 (Dense)              (None, 64)                320       \n",
            "_________________________________________________________________\n",
            "dense_4 (Dense)              (None, 64)                4160      \n",
            "_________________________________________________________________\n",
            "dense_5 (Dense)              (None, 2)                 130       \n",
            "=================================================================\n",
            "Total params: 4,610\n",
            "Trainable params: 4,610\n",
            "Non-trainable params: 0\n",
            "_________________________________________________________________\n",
            "None\n",
            "Predictions: [-0.0029409   0.00551502] [0.00421481 0.0009347 ]\n"
          ],
          "name": "stdout"
        }
      ]
    },
    {
      "cell_type": "markdown",
      "metadata": {
        "id": "lJ5sZzqfQ2MK"
      },
      "source": [
        "The target network has the same structure as the trained network, but not the same weights, as they are randomly initialized. We want the target network $\\theta'$ to have exactly the same weights as the trained weights $\\theta$. You can obtain the weights of a network with:\n",
        "\n",
        "```python\n",
        "w = model.get_weights()\n",
        "```\n",
        "\n",
        "and set weights using:\n",
        "\n",
        "```python\n",
        "model.set_weights(w)\n",
        "```\n",
        "\n",
        "**Q:** Transfer the weights of the trained model to the target model. Compare their predictions for the current state."
      ]
    },
    {
      "cell_type": "code",
      "metadata": {
        "colab": {
          "base_uri": "https://localhost:8080/"
        },
        "id": "VI9b0cmZQ2mr",
        "outputId": "48ea740d-9abd-4d88-942c-f895c27baa25"
      },
      "source": [
        "target_model.set_weights(trained_model.get_weights())\n",
        "\n",
        "trained_prediction = trained_model.predict(state.reshape((1, env.observation_space.shape[0])))[0]\n",
        "target_prediction = target_model.predict(state.reshape((1, env.observation_space.shape[0])))[0]\n",
        "print(\"Predictions:\", trained_prediction, target_prediction)"
      ],
      "execution_count": 5,
      "outputs": [
        {
          "output_type": "stream",
          "text": [
            "Predictions: [-0.0029409   0.00551502] [-0.0029409   0.00551502]\n"
          ],
          "name": "stdout"
        }
      ]
    },
    {
      "cell_type": "markdown",
      "metadata": {
        "id": "FUEWBYwUOpxm"
      },
      "source": [
        "## Experience replay memory\n",
        "\n",
        "The second thing that we need is the experience replay memory (or replay buffer). We need a container like a python list where we append (s, a, r, s', done) transitions (as in Q-learning), but with a maximal capacity: when there are already $C$ transitions in the list, one should stop appending to the list, but rather start writing at the beginning of the list.\n",
        "\n",
        "This would not be very hard to write, but it would take a lot of time and the risk is high to have hard-to-notice bugs. \n",
        "\n",
        "Here is a basic implementation of the replay buffer using **double-ended queues** (deque). A deque is list with a maximum capacity. If the deque is full, it starts writing again at the beginnning. Exactly what we need. This implementation uses one deque per element in (s, a, r, s', done), but one could also append the whole transition to a single deque.\n",
        "\n",
        "**Q:** Read the code of the ReplayBuffer and understand what it does."
      ]
    },
    {
      "cell_type": "code",
      "metadata": {
        "id": "hf-CRYjS6PKO"
      },
      "source": [
        "class ReplayBuffer:\n",
        "    \"Basic implementation of the experience replay memory using separated deques.\"\n",
        "    def __init__(self, max_capacity):\n",
        "        self.max_capacity = max_capacity\n",
        "        \n",
        "        # deques for each element\n",
        "        self.states = deque(maxlen=max_capacity)\n",
        "        self.actions = deque(maxlen=max_capacity)\n",
        "        self.rewards = deque(maxlen=max_capacity)\n",
        "        self.next_states = deque(maxlen=max_capacity)\n",
        "        self.dones = deque(maxlen=max_capacity)\n",
        "        \n",
        "    def append(self, state, action, reward, next_state, done):\n",
        "        # Store data\n",
        "        self.states.append(state)\n",
        "        self.actions.append(action)\n",
        "        self.rewards.append(reward)\n",
        "        self.next_states.append(next_state)\n",
        "        self.dones.append(done)\n",
        "        \n",
        "    def sample(self, batch_size):\n",
        "        # Do not return samples if we do not have at least 2*batch_size transitions\n",
        "        if len(self.states) < 2*batch_size: \n",
        "            return []\n",
        "            \n",
        "        # Randomly choose the indices of the samples.\n",
        "        indices = sorted(np.random.choice(np.arange(len(self.states)), batch_size, replace=False))\n",
        "\n",
        "        # Return the corresponding\n",
        "        return [np.array([self.states[i] for i in indices]), \n",
        "                np.array([self.actions[i] for i in indices]), \n",
        "                np.array([self.rewards[i] for i in indices]), \n",
        "                np.array([self.next_states[i] for i in indices]), \n",
        "                np.array([self.dones[i] for i in indices])]"
      ],
      "execution_count": 6,
      "outputs": []
    },
    {
      "cell_type": "markdown",
      "metadata": {
        "id": "CjmNxom5eftK"
      },
      "source": [
        "**Q:** Run a random agent on Cartpole for a few episodes and append each transition to a replay buffer with small capacity (e.g. 100) and sample batches from time to time. Check that everything makes sense."
      ]
    },
    {
      "cell_type": "code",
      "metadata": {
        "colab": {
          "base_uri": "https://localhost:8080/"
        },
        "id": "ajn1ht1dco5N",
        "outputId": "d95112be-68f0-4681-e354-72625f656b75"
      },
      "source": [
        "env = gym.make('CartPole-v0')\n",
        "\n",
        "buffer = ReplayBuffer(100)\n",
        "\n",
        "for episode in range(10):\n",
        "            \n",
        "    # Reset\n",
        "    state = env.reset()\n",
        "    done = False\n",
        "    \n",
        "    # Sample the episode\n",
        "    while not done:\n",
        "        \n",
        "        # Select an action randomly\n",
        "        action = env.action_space.sample()\n",
        "            \n",
        "        # Perform the action\n",
        "        next_state, reward, done, info = env.step(action)\n",
        "                \n",
        "        # Store the transition\n",
        "        buffer.append(state, action, reward, next_state, done)\n",
        "                \n",
        "        # Go in the next state\n",
        "        state = next_state\n",
        "    \n",
        "    # Sample a minibatch\n",
        "    batch = buffer.sample(10)\n",
        "    print(batch)"
      ],
      "execution_count": 7,
      "outputs": [
        {
          "output_type": "stream",
          "text": [
            "[]\n",
            "[array([[-0.04588702,  0.17571342, -0.04359217, -0.26982999],\n",
            "       [-0.03494416,  0.56720267, -0.06050751, -0.88364164],\n",
            "       [-0.02360011,  0.37295228, -0.07818034, -0.61057763],\n",
            "       [-0.01614106,  0.56907494, -0.0903919 , -0.92682465],\n",
            "       [ 0.01054631,  0.96163079, -0.13385819, -1.57121202],\n",
            "       [ 0.04514565,  0.57564238, -0.19174444, -1.08637116],\n",
            "       [-0.07998055, -0.42091214,  0.07157347,  0.65326576],\n",
            "       [-0.0883988 , -0.226856  ,  0.08463878,  0.38395145],\n",
            "       [-0.13009838, -1.01217643,  0.15373449,  1.67594304],\n",
            "       [-0.15034191, -1.20871176,  0.18725335,  2.01228927]]), array([1, 0, 1, 1, 0, 1, 1, 0, 0, 1]), array([1., 1., 1., 1., 1., 1., 1., 1., 1., 1.]), array([[-0.04237275,  0.37142947, -0.04898877, -0.5759372 ],\n",
            "       [-0.02360011,  0.37295228, -0.07818034, -0.61057763],\n",
            "       [-0.01614106,  0.56907494, -0.0903919 , -0.92682465],\n",
            "       [-0.00475956,  0.76529356, -0.10892839, -1.24649   ],\n",
            "       [ 0.02977892,  0.76833619, -0.16528243, -1.32310072],\n",
            "       [ 0.0566585 ,  0.77270422, -0.21347187, -1.43257474],\n",
            "       [-0.0883988 , -0.226856  ,  0.08463878,  0.38395145],\n",
            "       [-0.09293592, -0.42307124,  0.09231781,  0.70207482],\n",
            "       [-0.15034191, -1.20871176,  0.18725335,  2.01228927],\n",
            "       [-0.17451615, -1.01596628,  0.22749914,  1.78295639]]), array([False, False, False, False, False,  True, False, False, False,\n",
            "        True])]\n",
            "[array([[-0.03494416,  0.56720267, -0.06050751, -0.88364164],\n",
            "       [-0.01614106,  0.56907494, -0.0903919 , -0.92682465],\n",
            "       [ 0.01054631,  0.96163079, -0.13385819, -1.57121202],\n",
            "       [-0.03861068, -0.41916791,  0.01007019,  0.61341107],\n",
            "       [-0.06767495, -0.61528014,  0.05299678,  0.92883467],\n",
            "       [-0.11378421, -0.81570892,  0.12680595,  1.34642685],\n",
            "       [ 0.02946412,  0.00944244, -0.02332485, -0.04617419],\n",
            "       [ 0.03375079,  0.40034929, -0.03117082, -0.64635371],\n",
            "       [ 0.04175778,  0.59589138, -0.04409789, -0.94868711],\n",
            "       [ 0.0536756 ,  0.79157841, -0.06307163, -1.25489287]]), array([0, 1, 0, 0, 1, 0, 1, 1, 1, 1]), array([1., 1., 1., 1., 1., 1., 1., 1., 1., 1.]), array([[-0.02360011,  0.37295228, -0.07818034, -0.61057763],\n",
            "       [-0.00475956,  0.76529356, -0.10892839, -1.24649   ],\n",
            "       [ 0.02977892,  0.76833619, -0.16528243, -1.32310072],\n",
            "       [-0.04699404, -0.61442913,  0.02233841,  0.90924863],\n",
            "       [-0.07998055, -0.42091214,  0.07157347,  0.65326576],\n",
            "       [-0.13009838, -1.01217643,  0.15373449,  1.67594304],\n",
            "       [ 0.02965297,  0.20489096, -0.02424833, -0.3461241 ],\n",
            "       [ 0.04175778,  0.59589138, -0.04409789, -0.94868711],\n",
            "       [ 0.0536756 ,  0.79157841, -0.06307163, -1.25489287],\n",
            "       [ 0.06950717,  0.98744873, -0.08816949, -1.56664493]]), array([False, False, False, False, False, False, False, False, False,\n",
            "       False])]\n",
            "[array([[-0.07998055, -0.42091214,  0.07157347,  0.65326576],\n",
            "       [-0.09293592, -0.42307124,  0.09231781,  0.70207482],\n",
            "       [-0.13009838, -1.01217643,  0.15373449,  1.67594304],\n",
            "       [ 0.04456579, -0.18728104, -0.04528   ,  0.28217656],\n",
            "       [ 0.0331856 , -0.18607367, -0.02843163,  0.25533923],\n",
            "       [ 0.10512582,  0.98990177, -0.14555671, -1.6302918 ],\n",
            "       [-0.02366513,  0.22517243, -0.04587956, -0.30802066],\n",
            "       [-0.01916168,  0.03073322, -0.05203997, -0.03015261],\n",
            "       [-0.07011939, -0.54787848,  0.01115384,  0.69896567],\n",
            "       [-0.1743693 , -0.74925887,  0.15544077,  1.14156613]]), array([1, 0, 0, 0, 1, 0, 0, 1, 0, 1]), array([1., 1., 1., 1., 1., 1., 1., 1., 1., 1.]), array([[-0.0883988 , -0.226856  ,  0.08463878,  0.38395145],\n",
            "       [-0.10139734, -0.61934327,  0.10635931,  1.0223321 ],\n",
            "       [-0.15034191, -1.20871176,  0.18725335,  2.01228927],\n",
            "       [ 0.04082017, -0.38172886, -0.03963647,  0.56024157],\n",
            "       [ 0.02946412,  0.00944244, -0.02332485, -0.04617419],\n",
            "       [ 0.12492386,  0.79675917, -0.17816255, -1.38628425],\n",
            "       [-0.01916168,  0.03073322, -0.05203997, -0.03015261],\n",
            "       [-0.01854701,  0.22656133, -0.05264303, -0.33878997],\n",
            "       [-0.08107695, -0.74315328,  0.02513316,  0.99513882],\n",
            "       [-0.18935448, -0.5564717 ,  0.17827209,  0.9013877 ]]), array([False, False, False, False, False, False, False, False, False,\n",
            "       False])]\n",
            "[array([[ 0.08925615,  0.79348391, -0.11950239, -1.30271612],\n",
            "       [-0.01337126, -0.16199547, -0.06068205,  0.21019852],\n",
            "       [-0.01661117, -0.35619964, -0.05647808,  0.48313902],\n",
            "       [-0.03721756, -0.35365612, -0.0314414 ,  0.42638794],\n",
            "       [-0.07011939, -0.54787848,  0.01115384,  0.69896567],\n",
            "       [-0.12959367, -0.54997232,  0.09129524,  0.74776884],\n",
            "       [-0.15551766, -0.94258199,  0.12760519,  1.39177889],\n",
            "       [ 0.02423362,  0.35477442, -0.02756646, -0.56215783],\n",
            "       [ 0.05267667, -0.03268853, -0.07391405, -0.03808703],\n",
            "       [ 0.03940372, -0.01677189, -0.13481805, -0.39240767]]), array([1, 0, 1, 0, 0, 0, 1, 1, 0, 1]), array([1., 1., 1., 1., 1., 1., 1., 1., 1., 1.]), array([[ 0.10512582,  0.98990177, -0.14555671, -1.6302918 ],\n",
            "       [-0.01661117, -0.35619964, -0.05647808,  0.48313902],\n",
            "       [-0.02373516, -0.16032796, -0.0468153 ,  0.17320423],\n",
            "       [-0.04429068, -0.54831896, -0.02291364,  0.70899563],\n",
            "       [-0.08107695, -0.74315328,  0.02513316,  0.99513882],\n",
            "       [-0.14059312, -0.74622723,  0.10625061,  1.06772877],\n",
            "       [-0.1743693 , -0.74925887,  0.15544077,  1.14156613],\n",
            "       [ 0.03132911,  0.55027215, -0.03880962, -0.86339652],\n",
            "       [ 0.0520229 , -0.226677  , -0.07467579,  0.23039023],\n",
            "       [ 0.03906829,  0.17997992, -0.1426662 , -0.72437389]]), array([False, False, False, False, False, False, False, False, False,\n",
            "       False])]\n",
            "[array([[-0.11378421, -0.81570892,  0.12680595,  1.34642685],\n",
            "       [ 0.02946412,  0.00944244, -0.02332485, -0.04617419],\n",
            "       [ 0.06950717,  0.98744873, -0.08816949, -1.56664493],\n",
            "       [-0.07011939, -0.54787848,  0.01115384,  0.69896567],\n",
            "       [ 0.03411469, -0.00360845, -0.19010635, -0.69103416],\n",
            "       [-0.01561388,  0.24260873, -0.01121911, -0.27438396],\n",
            "       [-0.0107617 ,  0.43788894, -0.01670679, -0.5705842 ],\n",
            "       [ 0.03019177,  0.83091222, -0.07015847, -1.21931716],\n",
            "       [ 0.06840585,  0.24965211, -0.12729061, -0.43298024],\n",
            "       [ 0.08232539,  0.25331111, -0.15120872, -0.51592219]]), array([0, 1, 0, 0, 1, 1, 0, 0, 1, 0]), array([1., 1., 1., 1., 1., 1., 1., 1., 1., 1.]), array([[-0.13009838, -1.01217643,  0.15373449,  1.67594304],\n",
            "       [ 0.02965297,  0.20489096, -0.02424833, -0.3461241 ],\n",
            "       [ 0.08925615,  0.79348391, -0.11950239, -1.30271612],\n",
            "       [-0.08107695, -0.74315328,  0.02513316,  0.99513882],\n",
            "       [ 0.03404252,  0.19357148, -0.20392703, -1.03703072],\n",
            "       [-0.0107617 ,  0.43788894, -0.01670679, -0.5705842 ],\n",
            "       [-0.00200392,  0.24300522, -0.02811847, -0.28321098],\n",
            "       [ 0.04681002,  0.63676127, -0.09454481, -0.94941686],\n",
            "       [ 0.07339889,  0.44632481, -0.13595022, -0.76292497],\n",
            "       [ 0.08739161,  0.06060563, -0.16152716, -0.27444836]]), array([False, False, False, False, False, False, False, False, False,\n",
            "       False])]\n",
            "[array([[-0.02373516, -0.16032796, -0.0468153 ,  0.17320423],\n",
            "       [-0.09594002, -0.93860222,  0.04503593,  1.295608  ],\n",
            "       [-0.01656031,  0.04732154, -0.0116582 ,  0.02195434],\n",
            "       [-0.01561388,  0.24260873, -0.01121911, -0.27438396],\n",
            "       [ 0.00869979,  0.43947173, -0.03982674, -0.6058149 ],\n",
            "       [ 0.03019177,  0.83091222, -0.07015847, -1.21931716],\n",
            "       [ 0.08739161,  0.06060563, -0.16152716, -0.27444836],\n",
            "       [ 0.02318629, -0.16544129,  0.06638922,  0.36720994],\n",
            "       [ 0.02252386,  0.21795011,  0.0882486 , -0.06800942],\n",
            "       [ 0.01640814, -0.17726995,  0.12111231,  0.6315977 ]]), array([0, 1, 1, 1, 1, 0, 1, 1, 0, 0]), array([1., 1., 1., 1., 1., 1., 1., 1., 1., 1.]), array([[-0.02694172, -0.3547497 , -0.04335122,  0.45075865],\n",
            "       [-0.11471206, -0.74408039,  0.07094809,  1.01735721],\n",
            "       [-0.01561388,  0.24260873, -0.01121911, -0.27438396],\n",
            "       [-0.0107617 ,  0.43788894, -0.01670679, -0.5705842 ],\n",
            "       [ 0.01748923,  0.6351273 , -0.05194304, -0.91077149],\n",
            "       [ 0.04681002,  0.63676127, -0.09454481, -0.94941686],\n",
            "       [ 0.08860372,  0.25761936, -0.16701613, -0.61340485],\n",
            "       [ 0.01987746,  0.02867756,  0.07373342,  0.09617723],\n",
            "       [ 0.02688286,  0.02168106,  0.08688841,  0.25115996],\n",
            "       [ 0.01286274, -0.37385492,  0.13374427,  0.95983516]]), array([False, False, False, False, False, False, False, False, False,\n",
            "       False])]\n",
            "[array([[ 0.0520229 , -0.226677  , -0.07467579,  0.23039023],\n",
            "       [ 0.02847391,  0.37003179, -0.10387816, -0.90265178],\n",
            "       [ 0.03813067, -0.20079893, -0.18317346, -0.3466444 ],\n",
            "       [-0.02140737,  0.24235326, -0.00628339, -0.26874016],\n",
            "       [ 0.01748923,  0.6351273 , -0.05194304, -0.91077149],\n",
            "       [ 0.08860372,  0.25761936, -0.16701613, -0.61340485],\n",
            "       [ 0.10284877,  0.65165459, -0.19835798, -1.2969111 ],\n",
            "       [-0.01357656, -0.18525485,  0.1997725 ,  0.81854805],\n",
            "       [-0.01315511,  0.14671572, -0.03682447, -0.31321735],\n",
            "       [ 0.00486409,  0.74280442, -0.11908856, -1.4356092 ]]), array([0, 0, 1, 0, 1, 1, 0, 1, 0, 1]), array([1., 1., 1., 1., 1., 1., 1., 1., 1., 1.]), array([[ 0.04748936, -0.42065683, -0.07006798,  0.49861478],\n",
            "       [ 0.03587455,  0.17645877, -0.1219312 , -0.64434272],\n",
            "       [ 0.03411469, -0.00360845, -0.19010635, -0.69103416],\n",
            "       [-0.01656031,  0.04732154, -0.0116582 ,  0.02195434],\n",
            "       [ 0.03019177,  0.83091222, -0.07015847, -1.21931716],\n",
            "       [ 0.09375611,  0.45463285, -0.17928422, -0.95368777],\n",
            "       [ 0.11588186,  0.4595259 , -0.2242962 , -1.07230467],\n",
            "       [-0.01728166,  0.00665442,  0.21614346,  0.59475248],\n",
            "       [-0.01022079, -0.04786282, -0.04308882, -0.03237137],\n",
            "       [ 0.01972017,  0.93917647, -0.14780074, -1.76301036]]), array([False, False, False, False, False, False,  True,  True, False,\n",
            "       False])]\n",
            "[array([[-0.01561388,  0.24260873, -0.01121911, -0.27438396],\n",
            "       [-0.0107617 ,  0.43788894, -0.01670679, -0.5705842 ],\n",
            "       [ 0.01987746,  0.02867756,  0.07373342,  0.09617723],\n",
            "       [ 0.02045101, -0.16741948,  0.07565696,  0.41118155],\n",
            "       [ 0.01763368,  0.2203797 ,  0.08674614, -0.12180875],\n",
            "       [ 0.02731648, -0.17456726,  0.09191161,  0.569935  ],\n",
            "       [-0.01307542,  0.35042117, -0.08086043, -0.79721063],\n",
            "       [ 0.04680089, -0.16049118, -0.03509216,  0.27523426],\n",
            "       [-0.02027473,  0.22240778,  0.07877649, -0.14882592],\n",
            "       [ 0.0113827 , -0.37571906,  0.1455837 ,  1.02055041]]), array([1, 0, 0, 1, 0, 0, 1, 1, 1, 0]), array([1., 1., 1., 1., 1., 1., 1., 1., 1., 1.]), array([[-0.0107617 ,  0.43788894, -0.01670679, -0.5705842 ],\n",
            "       [-0.00200392,  0.24300522, -0.02811847, -0.28321098],\n",
            "       [ 0.02045101, -0.16741948,  0.07565696,  0.41118155],\n",
            "       [ 0.01710263,  0.02655296,  0.08388059,  0.14327715],\n",
            "       [ 0.02204128,  0.02412895,  0.08430996,  0.19693188],\n",
            "       [ 0.02382514, -0.37084988,  0.10331031,  0.89010017],\n",
            "       [-0.00606699,  0.54655402, -0.09680465, -1.1141957 ],\n",
            "       [ 0.04359106,  0.03511342, -0.02958747, -0.02830697],\n",
            "       [-0.01582658,  0.41631846,  0.07579997, -0.41565355],\n",
            "       [ 0.00386832, -0.57244916,  0.16599471,  1.35517444]]), array([False, False, False, False, False, False, False, False, False,\n",
            "       False])]\n",
            "[array([[-6.02428909e-03, -3.77613571e-01,  1.78768312e-01,\n",
            "         1.05020945e+00],\n",
            "       [-1.40961151e-02, -4.97950406e-02, -3.10058632e-02,\n",
            "         1.02872809e-02],\n",
            "       [-1.60248718e-02, -4.66227879e-02, -3.88080202e-02,\n",
            "        -5.97399823e-02],\n",
            "       [ 4.42933311e-02, -1.59572005e-01, -3.01536094e-02,\n",
            "         2.54895909e-01],\n",
            "       [ 4.89776485e-02, -3.70983886e-01,  5.85792870e-02,\n",
            "         9.07854348e-01],\n",
            "       [ 1.13826996e-02, -3.75719058e-01,  1.45583701e-01,\n",
            "         1.02055041e+00],\n",
            "       [-4.59710778e-03,  2.41846810e-01, -6.59756969e-02,\n",
            "        -3.76268034e-01],\n",
            "       [ 2.39828428e-04,  4.37840767e-01, -7.35010576e-02,\n",
            "        -6.89002147e-01],\n",
            "       [ 1.20013721e-02, -3.37180309e-01, -9.67229348e-02,\n",
            "         3.64580237e-01],\n",
            "       [ 5.25776591e-03, -5.30804141e-01, -8.94313301e-02,\n",
            "         6.25266258e-01]]), array([1, 1, 1, 0, 0, 0, 1, 0, 0, 0]), array([1., 1., 1., 1., 1., 1., 1., 1., 1., 1.]), array([[-1.35765605e-02, -1.85254846e-01,  1.99772501e-01,\n",
            "         8.18548046e-01],\n",
            "       [-1.50920159e-02,  1.45757540e-01, -3.08001176e-02,\n",
            "        -2.92014867e-01],\n",
            "       [-1.69573275e-02,  1.49033483e-01, -4.00028198e-02,\n",
            "        -3.64410108e-01],\n",
            "       [ 4.11018910e-02, -3.54250735e-01, -2.50556912e-02,\n",
            "         5.37917438e-01],\n",
            "       [ 4.15579708e-02, -5.66847830e-01,  7.67363739e-02,\n",
            "         1.21835879e+00],\n",
            "       [ 3.86831841e-03, -5.72449163e-01,  1.65994709e-01,\n",
            "         1.35517444e+00],\n",
            "       [ 2.39828428e-04,  4.37840767e-01, -7.35010576e-02,\n",
            "        -6.89002147e-01],\n",
            "       [ 8.99664377e-03,  2.43811687e-01, -8.72811005e-02,\n",
            "        -4.20334199e-01],\n",
            "       [ 5.25776591e-03, -5.30804141e-01, -8.94313301e-02,\n",
            "         6.25266258e-01],\n",
            "       [-5.35831690e-03, -7.24571315e-01, -7.69260049e-02,\n",
            "         8.88497710e-01]]), array([False, False, False, False, False, False, False, False, False,\n",
            "       False])]\n"
          ],
          "name": "stdout"
        }
      ]
    },
    {
      "cell_type": "markdown",
      "metadata": {
        "id": "u29Tw9o6fRcw"
      },
      "source": [
        "## DQN agent\n",
        "\n",
        "Here starts the fun part. There are a lot of things to do here, but you will now whether it works or not only when everything has been (correctly) implemented. So here is a lot of text to read carefully, and then you are on your own.\n",
        "\n",
        "Reminder from the lecture:\n",
        "\n",
        "* Initialize value network $Q_{\\theta}$ and target network $Q_{\\theta'}$.\n",
        "\n",
        "* Initialize experience replay memory $\\mathcal{D}$ of maximal size $N$.\n",
        "\n",
        "* for $t \\in [0, T_\\text{total}]$:\n",
        "\n",
        "    * Select an action $a_t$ based on $Q_\\theta(s_t, a)$, observe $s_{t+1}$ and $r_{t+1}$.\n",
        "\n",
        "    * Store $(s_t, a_t, r_{t+1}, s_{t+1})$ in the experience replay memory.\n",
        "\n",
        "    * Every $T_\\text{train}$ steps:\n",
        "\n",
        "        * Sample a minibatch $\\mathcal{D}_s$ randomly from $\\mathcal{D}$.\n",
        "\n",
        "        * For each transition $(s_k, a_k, r_k, s'_k)$ in the minibatch:\n",
        "\n",
        "            * Compute the target value $t_k = r_k + \\gamma \\, \\max_{a'} Q_{\\theta'}(s'_k, a')$ using the target network.\n",
        "\n",
        "        * Update the value network $Q_{\\theta}$ on $\\mathcal{D}_s$ to minimize:\n",
        "\n",
        "        $$\\mathcal{L}(\\theta) = \\mathbb{E}_{\\mathcal{D}_s}[(t_k - Q_\\theta(s_k, a_k))^2]$$\n",
        "\n",
        "    * Every $T_\\text{target}$ steps:\n",
        "\n",
        "        * Update target network: $\\theta' \\leftarrow \\theta$.\n",
        "\n",
        "Here is the skeleton of the `DQNAgent` class that you have to write:\n",
        "\n",
        "```python\n",
        "class DQNAgent:\n",
        "    \n",
        "    def __init__(self, env, create_model, some_parameters):\n",
        "        \n",
        "        self.env = env\n",
        "        \n",
        "        # TODO: copy the parameters\n",
        "\n",
        "        # TODO: Create the trained and target networks, copy the weights.\n",
        "\n",
        "        # TODO: Create an instance of the replay memory\n",
        "        \n",
        "    def act(self, state):\n",
        "\n",
        "        # TODO: Select an action using epsilon-greedy on the output of the trained model\n",
        "\n",
        "        return action\n",
        "    \n",
        "    def update(self, batch):\n",
        "        \n",
        "        # TODO: train the model using the batch of transitions\n",
        "        \n",
        "        return loss # mse on the batch\n",
        "\n",
        "    def train(self, nb_episodes):\n",
        "\n",
        "        returns = []\n",
        "        losses = []\n",
        "\n",
        "        # TODO: Train the network for the given number of episodes\n",
        "\n",
        "        return returns, losses\n",
        "\n",
        "    def test(self):\n",
        "\n",
        "        # TODO: one episode with epsilon temporarily set to 0\n",
        "\n",
        "        return nb_steps # Should be 200 after learning\n",
        "```\n",
        "\n",
        "With this structure, it will be very simple to actually train the DQN on Cartpole:\n",
        "\n",
        "```python\n",
        "# Create the environment\n",
        "env = gym.make('CartPole-v0')\n",
        "\n",
        "# Create the agent\n",
        "agent = DQNAgent(env, create_model, other_parameters)\n",
        "\n",
        "# Train the agent\n",
        "returns, losses = agent.train(nb_episodes)\n",
        "\n",
        "# Plot the returns\n",
        "plt.figure(figsize=(10, 6))\n",
        "plt.plot(returns)\n",
        "plt.plot(running_mean(returns, 10))\n",
        "plt.xlabel(\"Episodes\")\n",
        "plt.ylabel(\"Returns\")\n",
        "\n",
        "# Plot the losses\n",
        "plt.figure(figsize=(10, 6))\n",
        "plt.plot(losses)\n",
        "plt.xlabel(\"Episodes\")\n",
        "plt.ylabel(\"Training loss\")\n",
        "\n",
        "plt.show()\n",
        "\n",
        "# Test the network\n",
        "nb_steps = agent.test()\n",
        "print(\"Number of steps:\", nb_steps)\n",
        "```\n",
        "\n",
        "So you \"just\" have to fill the holes.\n",
        "\n"
      ]
    },
    {
      "cell_type": "markdown",
      "metadata": {
        "id": "4xwVaGiAif8G"
      },
      "source": [
        "### 1 - `__init__()`: Initializing the agent\n",
        "\n",
        "In this method, you should first copy the value of the parameters as attributes: learning rate, epsilon, gamma and so on.\n",
        "\n",
        "Suggested values: gamma = 0.99, learning_rate = 0.001 \n",
        "\n",
        "The second thing to do is to create the trained and target networks (with the same weights) and save them as attributes (the other methods will use them). Do not forget to clear the keras session first, otherwise the RAM will be quickly filled.\n",
        "\n",
        "The third thing is to create an instance of the ERM. Use a buffer limit of 5000 transitions (should be passed as a parameter). \n",
        "\n",
        "Do not hesitate to add other stuff as you implementing the other methods (e.g. counters)."
      ]
    },
    {
      "cell_type": "markdown",
      "metadata": {
        "id": "jULjJ-EqkBuU"
      },
      "source": [
        "### 2 - `act()`: action selection\n",
        "\n",
        "We will use a simple $\\epsilon$-greedy method for the action selection, as in the previous exercises. \n",
        "\n",
        "The only difference is that we have to use the trained model to get the greedy action, using `trained_model.predict()`. This will return the Q-value of the two actions left and right. Use `argmax()` to return the greedy action (with probability 1 - $\\epsilon$). `env.action_space.sample()` should be used for the exploration (do not use the Q-network in that case, it is slow!).\n",
        "\n",
        "$\\epsilon$ will be scheduled with an initial value of 1.0 and an exponential decay rate of 0.0005 after each action. It is always better to keep a little exploration, even if $\\epsilon$ has decayed to 0. Keep a minimal value of 0.05 for epsilon. \n",
        "\n",
        "**Q:** Once this has been implemented, run your very slow random agent for 100 episodes to check everything works correctly."
      ]
    },
    {
      "cell_type": "markdown",
      "metadata": {
        "id": "spNME6LFtWFb"
      },
      "source": [
        "### 3 - `train()`: training loop\n",
        "\n",
        "This method will be very similar to the Q-learning agent that you implemented previously. Do not hesitate to copy and paste.\n",
        "\n",
        "Here is the parts of the DQN algorithm that should be implemented:\n",
        "\n",
        "* for $t \\in [0, T_\\text{total}]$:\n",
        "\n",
        "    * Select an action $a_t$ based on $Q_\\theta(s_t, a)$, observe $s_{t+1}$ and $r_{t+1}$.\n",
        "\n",
        "    * Store $(s_t, a_t, r_{t+1}, s_{t+1})$ in the experience replay memory.\n",
        "\n",
        "    * Every $T_\\text{train}$ steps:\n",
        "\n",
        "        * Sample a minibatch $\\mathcal{D}_s$ randomly from $\\mathcal{D}$.\n",
        "\n",
        "        * Update the trained network using $\\mathcal{D}_s$.\n",
        "\n",
        "    * Every $T_\\text{target}$ steps:\n",
        "\n",
        "        * Update target network: $\\theta' \\leftarrow \\theta$.\n",
        "\n",
        "The main difference with Q-learning is that `update()` will be called only every `T_train = 4` steps: the number of updates to the trained network will be 4 times smaller that the number of steps made in the environment. Beware that if the ERM does not have enough transitions yet (less than the batch size), you should not call `update()`.\n",
        "\n",
        "Updating the target network (copying the weights of the trained network) should happen every 100 steps. Pass these parameters to the constructor of the agent. \n",
        "\n",
        "The batch size can be set to 32."
      ]
    },
    {
      "cell_type": "markdown",
      "metadata": {
        "id": "nAsS8V4NwAua"
      },
      "source": [
        "### 4 - `update()`: training the value network\n",
        "\n",
        "Using the provided minibatch, one should implement the following part of the DQN algorithm:\n",
        "\n",
        "* For each transition $(s_k, a_k, r_k, s'_k)$ in the minibatch:\n",
        "\n",
        "    * Compute the target value $t_k = r_k + \\gamma \\, \\max_{a'} Q_{\\theta'}(s'_k, a')$ using the target network.\n",
        "\n",
        "* Update the value network $Q_{\\theta}$ on $\\mathcal{D}_s$ to minimize:\n",
        "\n",
        "    $$\\mathcal{L}(\\theta) = \\mathbb{E}_{\\mathcal{D}_s}[(t_k - Q_\\theta(s_k, a_k))^2]$$\n",
        "\n",
        "So we just need to define the targets for each transition in the minibatch, and call `model.fit()` on the trained network to minimize the mse between the current predictions $Q_\\theta(s_k, a_k)$ and the target.\n",
        "\n",
        "But we have a problem: the network has two outputs for the actions left and right, but we have only one target for the action that was executed. We cannot compute the mse between a vector with 2 elements and a single value... They must have the same size.\n",
        "\n",
        "As we want only the train the output neuron corresponding to the action $a_k$, we are going to:\n",
        "\n",
        "1. Use the trained network to predict the Q-value of both actions $[Q_\\theta(s_k, 0), Q_\\theta(s_k, 1)]$.\n",
        "2. Replace one of the values with the target, for example $[Q_\\theta(s_k, 0), t_k]$ if the second action was chosen.\n",
        "3. Minimize the mse between $[Q_\\theta(s_k, 0), Q_\\theta(s_k, 1)]$ and $[Q_\\theta(s_k, 0), t_k]$.\n",
        "\n",
        "That way, the first output neuron has a squared error of 0, so it won't learn anything. Only the second output neuron will have a non-zero mse and learn.\n",
        "\n",
        "There are more efficient ways to do this (using masks), but this will do the trick, the drawback being that we have to make a forward pass on the minibatch before calling `fit()`.\n",
        "\n",
        "The rest is pretty much the same as for your Q-learning agent. Do not forget that actions leading to a terminal state should only use the reward as a target, not the complete Bellman target $r + \\gamma \\max Q$.\n",
        "\n",
        "*Hint:* as we sample a minibatch of 32 transitions, it is faster to call:\n",
        "\n",
        "```python\n",
        "Q_values = np.array(training_model.predict_on_batch(states))\n",
        "```\n",
        "\n",
        "than:\n",
        "\n",
        "```python\n",
        "Q_values = training_model.predict(states)\n",
        "```\n",
        "\n",
        "for reasons internal to tensorflow. Note that with tf2, you need to cast the result to numpy arrays as eager mode is now the default.\n",
        "\n",
        "The method should return the training loss, which is contained in the `History` object returned by `model.fit()`. `model.fit()` should be called for one epoch only, a batch size of 32, and `verbose` set to 0. "
      ]
    },
    {
      "cell_type": "markdown",
      "metadata": {
        "id": "ym9zpNaK-wxl"
      },
      "source": [
        "### 5 - `test()`\n",
        "\n",
        "This method should run one episode with epsilon set to 0, without learning. The number of steps should be returned (do not bother discounting with gamma, the goal is to be up for 200 steps). "
      ]
    },
    {
      "cell_type": "markdown",
      "metadata": {
        "id": "gmEoNa1V_d7l"
      },
      "source": [
        "**Q:** Let's go! Run the agent for 100 episodes and observe how fast it manages to keep the pole up for 200 steps. \n",
        "\n",
        "Beware that running the same network twice can lead to very different results. In particular, policy collapse (the network was almost perfect, but suddenly crashes and becomes random) can happen. Just be patient. "
      ]
    },
    {
      "cell_type": "code",
      "metadata": {
        "id": "kkUo7qS26PKS"
      },
      "source": [
        "class DQNAgent:\n",
        "    \n",
        "    def __init__(self, env, create_model, learning_rate, epsilon, epsilon_decay, gamma, batch_size, target_update_period, training_update_period, buffer_limit):\n",
        "        self.env = env\n",
        "\n",
        "        self.learning_rate = learning_rate\n",
        "        self.epsilon = epsilon\n",
        "        self.epsilon_decay = epsilon_decay\n",
        "        self.gamma = gamma\n",
        "        self.batch_size = batch_size\n",
        "        self.target_update_period = target_update_period\n",
        "        self.training_update_period = training_update_period\n",
        "        \n",
        "        # Create the Q-network and the target network\n",
        "        tf.keras.backend.clear_session() # start by deleting all existing models to be gentle on the RAM\n",
        "        self.model = create_model(self.env, self.learning_rate)\n",
        "        self.target_model = create_model(self.env, self.learning_rate)\n",
        "        self.target_model.set_weights(self.model.get_weights())\n",
        "\n",
        "        # Create the replay memory\n",
        "        self.buffer = ReplayBuffer(buffer_limit)\n",
        "                \n",
        "    def act(self, state):\n",
        "\n",
        "        # epsilon-greedy\n",
        "        if np.random.rand() < self.epsilon: # Random selection\n",
        "            action = self.env.action_space.sample()\n",
        "        else: # Use the Q-network to get the greedy action\n",
        "            action = self.model.predict(state.reshape((1, env.observation_space.shape[0])))[0].argmax()\n",
        "\n",
        "        # Decay epsilon\n",
        "        self.epsilon *= 1 - self.epsilon_decay\n",
        "        self.epsilon = max(0.05, self.epsilon)\n",
        "\n",
        "        return action\n",
        "    \n",
        "    def update(self, batch):\n",
        "        \n",
        "        # Get the minibatch\n",
        "        states, actions, rewards, next_states, dones = batch \n",
        "        \n",
        "        # Predict the Q-values in the current state\n",
        "        targets = np.array(self.model.predict_on_batch(states))\n",
        "        \n",
        "        # Predict the Q-values in the next state using the target model\n",
        "        next_Q_value = np.array(self.target_model.predict_on_batch(next_states)).max(axis=1)\n",
        "        \n",
        "        # Terminal states have a value of 0\n",
        "        next_Q_value[dones] = 0.0\n",
        "        \n",
        "        # Compute the target\n",
        "        for i in range(self.batch_size):\n",
        "            targets[i, actions[i]] = rewards[i] + self.gamma * next_Q_value[i]\n",
        "            \n",
        "        # Train the model on the minibatch\n",
        "        history = self.model.fit(states, targets, epochs=1, batch_size=self.batch_size, verbose=0)\n",
        "        \n",
        "        return history.history['loss'][0]\n",
        "\n",
        "    def train(self, nb_episodes):\n",
        "\n",
        "        steps = 0\n",
        "        returns = []\n",
        "        losses = []\n",
        "\n",
        "        for episode in range(nb_episodes):\n",
        "            \n",
        "            # Reset\n",
        "            state = self.env.reset()\n",
        "            done = False\n",
        "            steps_episode = 0\n",
        "            return_episode = 0\n",
        "\n",
        "            loss_episode = []\n",
        "            \n",
        "            # Sample the episode\n",
        "            while not done:\n",
        "\n",
        "                # Select an action \n",
        "                action = self.act(state)\n",
        "            \n",
        "                # Perform the action\n",
        "                next_state, reward, done, info = self.env.step(action)\n",
        "                \n",
        "                # Store the transition\n",
        "                self.buffer.append(state, action, reward, next_state, done)\n",
        "            \n",
        "                # Sample a minibatch\n",
        "                batch = self.buffer.sample(batch_size)\n",
        "                \n",
        "                # Train the NN on the minibatch\n",
        "                if len(batch) > 0 and steps % self.training_update_period == 0:\n",
        "                    loss = self.update(batch)\n",
        "                    loss_episode.append(loss)\n",
        "\n",
        "                # Update the target model\n",
        "                if steps > self.target_update_period and steps % self.target_update_period == 0:\n",
        "                    self.target_model.set_weights(self.model.get_weights())\n",
        "            \n",
        "                # Go in the next state\n",
        "                state = next_state\n",
        "                \n",
        "                # Increment time\n",
        "                steps += 1\n",
        "                steps_episode += 1\n",
        "                return_episode += reward\n",
        "                    \n",
        "                if done:\n",
        "                    break\n",
        "            \n",
        "            # Store info\n",
        "            returns.append(return_episode)\n",
        "            losses.append(np.mean(loss_episode))\n",
        "\n",
        "            # Print info\n",
        "            clear_output(wait=True)\n",
        "            print('Episode', episode+1)\n",
        "            print(' total steps:', steps)\n",
        "            print(' length of the episode:', steps_episode)\n",
        "            print(' return of the episode:', return_episode)\n",
        "            print(' current loss:', np.mean(loss_episode))\n",
        "            print(' epsilon:', self.epsilon)\n",
        "\n",
        "        return returns, losses\n",
        "\n",
        "    def test(self, render=True):\n",
        "\n",
        "        old_epsilon = self.epsilon\n",
        "        self.epsilon = 0.0\n",
        "        \n",
        "        state = self.env.reset()\n",
        "        nb_steps = 0\n",
        "        done = False\n",
        "        \n",
        "        while not done:\n",
        "            action = self.act(state)\n",
        "            next_state, reward, done, info = self.env.step(action)\n",
        "            state = next_state\n",
        "            nb_steps += 1\n",
        "        \n",
        "        self.epsilon = old_epsilon\n",
        "        return nb_steps\n"
      ],
      "execution_count": 8,
      "outputs": []
    },
    {
      "cell_type": "code",
      "metadata": {
        "id": "-X9trhsf6PKV"
      },
      "source": [
        "# Parameters\n",
        "nb_episodes = 100\n",
        "batch_size = 32\n",
        "\n",
        "epsilon = 1.0\n",
        "epsilon_decay = 0.0005\n",
        "\n",
        "gamma = 0.99\n",
        "\n",
        "learning_rate = 0.005 \n",
        "buffer_limit = 5000\n",
        "target_update_period = 100\n",
        "training_update_period = 4"
      ],
      "execution_count": 9,
      "outputs": []
    },
    {
      "cell_type": "code",
      "metadata": {
        "colab": {
          "base_uri": "https://localhost:8080/",
          "height": 865
        },
        "id": "das8K2JL6PKc",
        "outputId": "d920d07f-198c-4591-d6c3-2945fea5c287"
      },
      "source": [
        "# Create the environment\n",
        "env = gym.make('CartPole-v0')\n",
        "\n",
        "# Create the agent\n",
        "agent = DQNAgent(env, create_model, learning_rate, epsilon, epsilon_decay, gamma, batch_size, target_update_period, training_update_period, buffer_limit)\n",
        "\n",
        "# Train the agent\n",
        "returns, losses = agent.train(nb_episodes)\n",
        "\n",
        "# Plot the returns\n",
        "plt.figure(figsize=(10, 6))\n",
        "plt.plot(returns)\n",
        "plt.plot(running_mean(returns, 10))\n",
        "plt.xlabel(\"Episodes\")\n",
        "plt.ylabel(\"Returns\")\n",
        "\n",
        "# Plot the losses\n",
        "plt.figure(figsize=(10, 6))\n",
        "plt.plot(losses)\n",
        "plt.xlabel(\"Episodes\")\n",
        "plt.ylabel(\"Training loss\")\n",
        "plt.show()"
      ],
      "execution_count": 10,
      "outputs": [
        {
          "output_type": "stream",
          "text": [
            "Episode 100\n",
            " total steps: 8599\n",
            " length of the episode: 174\n",
            " return of the episode: 174.0\n",
            " current loss: 5.679146097149959\n",
            " epsilon: 0.05\n"
          ],
          "name": "stdout"
        },
        {
          "output_type": "display_data",
          "data": {
            "image/png": "[encoded data removed]",
            "text/plain": [
              "<Figure size 720x432 with 1 Axes>"
            ]
          },
          "metadata": {
            "tags": [],
            "needs_background": "light"
          }
        },
        {
          "output_type": "display_data",
          "data": {
            "image/png": "[encoded data removed]",
            "text/plain": [
              "<Figure size 720x432 with 1 Axes>"
            ]
          },
          "metadata": {
            "tags": [],
            "needs_background": "light"
          }
        }
      ]
    },
    {
      "cell_type": "code",
      "metadata": {
        "colab": {
          "base_uri": "https://localhost:8080/"
        },
        "id": "s429TELOs2tv",
        "outputId": "4fbd292b-0f83-4d33-fa86-b103d035f095"
      },
      "source": [
        "# Test the network\n",
        "nb_steps = agent.test()\n",
        "print(\"Number of steps:\", nb_steps)"
      ],
      "execution_count": 11,
      "outputs": [
        {
          "output_type": "stream",
          "text": [
            "Number of steps: 131\n"
          ],
          "name": "stdout"
        }
      ]
    },
    {
      "cell_type": "markdown",
      "metadata": {
        "id": "iMhXV-ezD8um"
      },
      "source": [
        "**Q:** How does the loss evolve? Does it make sense?"
      ]
    },
    {
      "cell_type": "markdown",
      "metadata": {
        "id": "Tl8umyzSEEPG"
      },
      "source": [
        "**A:** The Q-values are non-stationary: the initial Q-values are very small (the agent fails almost immediately), while they are around 40 after training (200 steps, but discounted with gamma). The mse increases with the magnitude of the Q-values, so the loss is a poor indicator of the convergence of the network. "
      ]
    },
    {
      "cell_type": "markdown",
      "metadata": {
        "id": "K1m4JWFF_0Cs"
      },
      "source": [
        "## Reward scaling\n",
        "\n",
        "**Q:** Do a custom test trial after training (i.e. do not call test(), but copy and adapt its code) and plot the Q-value of the selected action at each time step. Do you think it is a good output for the network? Could it explain why learning is so slow?"
      ]
    },
    {
      "cell_type": "code",
      "metadata": {
        "colab": {
          "base_uri": "https://localhost:8080/",
          "height": 388
        },
        "id": "MC3dqB8PBkjn",
        "outputId": "5c417c70-e4d7-4516-b8b7-227cb09c6a46"
      },
      "source": [
        "agent.epsilon = 0.0\n",
        "        \n",
        "state = agent.env.reset()\n",
        "done = False\n",
        "\n",
        "Q_values = []\n",
        "\n",
        "while not done:\n",
        "    action = agent.act(state)\n",
        "    Q_values.append(agent.model.predict(state.reshape((1, 4)))[0][action])\n",
        "    next_state, reward, done, info = agent.env.step(action)\n",
        "    state = next_state\n",
        "\n",
        "plt.figure(figsize=(10, 6))\n",
        "plt.plot(Q_values)\n",
        "plt.xlabel(\"Steps\")\n",
        "plt.ylabel(\"Q-value\")\n",
        "plt.show()"
      ],
      "execution_count": 12,
      "outputs": [
        {
          "output_type": "display_data",
          "data": {
            "image/png": "[encoded data removed]",
            "text/plain": [
              "<Figure size 720x432 with 1 Axes>"
            ]
          },
          "metadata": {
            "tags": [],
            "needs_background": "light"
          }
        }
      ]
    },
    {
      "cell_type": "markdown",
      "metadata": {
        "id": "3ocDltRNDjab"
      },
      "source": [
        "**A:** The predicted Q-values at the beginning of learning are close to 0, as the weights are randomly initialized. They must grow to around 40, which takes a lot of time. If the target Q-values were around 1, learning might be much faster."
      ]
    },
    {
      "cell_type": "markdown",
      "metadata": {
        "id": "RzxvN0OcCuGd"
      },
      "source": [
        "**Q:** Implement **reward scaling** by dividing the received rewards by a fixed factor of 100 when computing the Bellman targets. That way, the final Q-values will be around 1, what may be much easier  to learned.\n",
        "\n",
        "*Tip:* in order to avoid a huge copy and paste, you can inherit from your DQNAgent and ony reimplement the desired function:\n",
        "\n",
        "```python\n",
        "class ScaledDQNAgent (DQNAgent):\n",
        "    def update(self, batch):\n",
        "        # Change the content of this function only\n",
        "```\n",
        "\n",
        "You should reduce a bit the learning rate (e.g. 0.001) as the magnitude of the targets has changed. "
      ]
    },
    {
      "cell_type": "code",
      "metadata": {
        "id": "MQnS0eUkCukm"
      },
      "source": [
        "class ScaledDQNAgent(DQNAgent):\n",
        "    \n",
        "    def update(self, batch):\n",
        "        \n",
        "        # Get the minibatch\n",
        "        states, actions, rewards, next_states, dones = batch \n",
        "        \n",
        "        # Predict the Q-values in the current state\n",
        "        targets = np.array(self.model.predict_on_batch(states))\n",
        "        \n",
        "        # Predict the Q-values in the next state using the target model\n",
        "        next_Q_value = np.array(self.target_model.predict_on_batch(next_states)).max(axis=1)\n",
        "        \n",
        "        # Terminal states have a value of 0\n",
        "        next_Q_value[dones] = 0.0\n",
        "        \n",
        "        # Compute the target\n",
        "        for i in range(self.batch_size):\n",
        "            targets[i, actions[i]] = rewards[i]/100. + self.gamma * next_Q_value[i]\n",
        "            \n",
        "        # Train the model on the minibatch\n",
        "        history = self.model.fit(states, targets, epochs=1, batch_size=self.batch_size, verbose=0)\n",
        "        \n",
        "        return history.history['loss'][0]\n"
      ],
      "execution_count": 13,
      "outputs": []
    },
    {
      "cell_type": "code",
      "metadata": {
        "colab": {
          "base_uri": "https://localhost:8080/",
          "height": 1000
        },
        "id": "EuRvm46QFLgM",
        "outputId": "2c4d228a-f36a-4f13-9ba6-c971ced0925b"
      },
      "source": [
        "# Create the environment\n",
        "env = gym.make('CartPole-v0')\n",
        "\n",
        "# Create the agent\n",
        "learning_rate = 0.001\n",
        "agent = ScaledDQNAgent(env, create_model, learning_rate, epsilon, epsilon_decay, gamma, batch_size, target_update_period, training_update_period, buffer_limit)\n",
        "\n",
        "# Train the agent\n",
        "returns, losses = agent.train(nb_episodes)\n",
        "\n",
        "# Test the network\n",
        "agent.epsilon = 0.0\n",
        "\n",
        "# Q-values     \n",
        "state = agent.env.reset()\n",
        "done = False\n",
        "Q_values = []\n",
        "\n",
        "while not done:\n",
        "    action = agent.act(state)\n",
        "    Q_values.append(agent.model.predict(state.reshape((1, 4)))[0][action])\n",
        "    next_state, reward, done, info = agent.env.step(action)\n",
        "    state = next_state\n",
        "\n",
        "# Plot the returns\n",
        "plt.figure(figsize=(10, 6))\n",
        "plt.plot(returns)\n",
        "plt.plot(running_mean(returns, 10))\n",
        "plt.xlabel(\"Episodes\")\n",
        "plt.ylabel(\"Returns\")\n",
        "\n",
        "# Plot the losses\n",
        "plt.figure(figsize=(10, 6))\n",
        "plt.plot(losses)\n",
        "plt.xlabel(\"Episodes\")\n",
        "plt.ylabel(\"Training loss\")\n",
        "\n",
        "# Plot the Q-values\n",
        "plt.figure(figsize=(10, 6))\n",
        "plt.plot(Q_values)\n",
        "plt.xlabel(\"Steps\")\n",
        "plt.ylabel(\"Q-value\")\n",
        "plt.show()"
      ],
      "execution_count": 15,
      "outputs": [
        {
          "output_type": "stream",
          "text": [
            "Episode 100\n",
            " total steps: 9986\n",
            " length of the episode: 200\n",
            " return of the episode: 200.0\n",
            " current loss: 0.0003223761088884203\n",
            " epsilon: 0.05\n"
          ],
          "name": "stdout"
        },
        {
          "output_type": "display_data",
          "data": {
            "image/png": "[encoded data removed]",
            "text/plain": [
              "<Figure size 720x432 with 1 Axes>"
            ]
          },
          "metadata": {
            "tags": [],
            "needs_background": "light"
          }
        },
        {
          "output_type": "display_data",
          "data": {
            "image/png": "[encoded data removed]",
            "text/plain": [
              "<Figure size 720x432 with 1 Axes>"
            ]
          },
          "metadata": {
            "tags": [],
            "needs_background": "light"
          }
        },
        {
          "output_type": "display_data",
          "data": {
            "image/png": "[encoded data removed]",
            "text/plain": [
              "<Figure size 720x432 with 1 Axes>"
            ]
          },
          "metadata": {
            "tags": [],
            "needs_background": "light"
          }
        }
      ]
    },
    {
      "cell_type": "code",
      "metadata": {
        "colab": {
          "base_uri": "https://localhost:8080/"
        },
        "id": "JNCsIgX931Ba",
        "outputId": "6a77b08d-7d46-47dd-9ff6-8dca35625747"
      },
      "source": [
        "# Test the network\n",
        "nb_steps = agent.test()\n",
        "print(\"Number of steps:\", nb_steps)"
      ],
      "execution_count": 16,
      "outputs": [
        {
          "output_type": "stream",
          "text": [
            "Number of steps: 200\n"
          ],
          "name": "stdout"
        }
      ]
    },
    {
      "cell_type": "markdown",
      "metadata": {
        "id": "uq75lUygCu2P"
      },
      "source": [
        "**Q:** Depending on the time left and your motivation, vary the different parameters to understand their influence: learning rate, target update frequency, training update frequency, epsilon decay, gamma, etc. Change the size of the network. If you find better hyperparameters than what is proposed, please report them for next year!"
      ]
    },
    {
      "cell_type": "code",
      "metadata": {
        "id": "4SOLn8WiYtZK"
      },
      "source": [
        ""
      ],
      "execution_count": null,
      "outputs": []
    }
  ]
}