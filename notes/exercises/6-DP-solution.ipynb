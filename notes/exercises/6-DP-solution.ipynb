{
 "cells": [
  {
   "cell_type": "markdown",
   "metadata": {},
   "source": [
    "# Dynamic programming"
   ]
  },
  {
   "cell_type": "code",
   "execution_count": 1,
   "metadata": {},
   "outputs": [],
   "source": [
    "import numpy as np\n",
    "import matplotlib.pyplot as plt"
   ]
  },
  {
   "cell_type": "markdown",
   "metadata": {},
   "source": [
    "The goal of this exercise is to find the optimal policy for the recycling robot.\n",
    "\n",
    "![](../img/recyclingrobot.png)\n",
    " \n",
    "In this problem, a recycling robot has to search for empty cans to collect (each can defines a \"reward\" given to the robot). It can also decide to stay where it is to save its battery and wait that somebody brings it a can (which gives less cans in average than actively searching for them). \n",
    "\n",
    "The robot has two battery levels, *high* and *low*. \n",
    "\n",
    "* In the *high* level, the robot can either search or wait. \n",
    "\n",
    "* In the *low* state, three actions are possible: search, wait and recharge. \n",
    "\n",
    "State-action transitions are probabilistic, i.e. they bring the robot in different states based on different probabilities $\\alpha$ and $\\beta$.\n",
    "\n",
    "This problem defines a finite MDP, with two states *high* and *low* corresponding to the battery level. The actions *search* and *wait* are possible in the *high* and *low* states, while the action *recharge* is only possible in the *low* state.\n",
    "\n",
    "$$\n",
    "\\begin{aligned}\n",
    "    \\mathcal{S} &=& \\{ \\text{high}, \\text{low} \\} \\\\\n",
    "    \\mathcal{A}(\\text{high} ) &=& \\{ \\text{search}, \\text{wait} \\} \\\\\n",
    "    \\mathcal{A}(\\text{low} ) &=& \\{ \\text{search}, \\text{wait}, \\text{recharge} \\}\n",
    "\\end{aligned}\n",
    "$$\n",
    "\n",
    "The action *search* brings on average a reward of $\\mathcal{R}^\\text{search}$, the action *wait* a reward of $\\mathcal{R}^\\text{wait}$, the action *recharge* brings no reward, but allows to get in the *high* state.\n",
    "\n",
    "Note that if the robot decides to search in the *low* state, there is a probability $1 - \\beta$ that it totally empties its battery, requiring human intervention. This is punished with a negative reward of -3.\n",
    "\n",
    "The transition and reward probabilities of each transition is defined in the following table, completely defining a MDP.\n",
    "\n",
    "| s             |  s'           |  a           | p(s' / s, a)      |  r(s, a, s')                 |\n",
    "|:-------------:|:-------------:|:------------:|:-----------------:|:-----------------------------:|\n",
    "| high          | high          | search       | $\\alpha$          | $\\mathcal{R}^\\text{search}$   |\n",
    "| high          | low           | search       | $1 - \\alpha$      | $\\mathcal{R}^\\text{search}$   |\n",
    "| low           | high          | search       | $1 - \\beta$       | $-3$                          |\n",
    "| low           | low           | search       | $\\beta$           | $\\mathcal{R}^\\text{search}$   |\n",
    "| high          | high          | wait         | $1$               | $\\mathcal{R}^\\text{wait}$     |\n",
    "| high          | low           | wait         | $0$               | $\\mathcal{R}^\\text{wait}$     |\n",
    "| low           | high          | wait         | $0$               | $\\mathcal{R}^\\text{wait}$     |\n",
    "| low           | low           | wait         | $1$               | $\\mathcal{R}^\\text{wait}$     |\n",
    "| low           | high          | recharge     | $1$               | $0$                           |\n",
    "| low           | low           | recharge     | $0$               | $0$                           |\n",
    "\n",
    "The goal of this exercise is to find the optimal policy $\\pi^*$ of the robot, i.e to find for each state the action that should be performed systematically in order to gather the maximum of reward on the long term. \n",
    "\n",
    "We will apply here two **dynamic programming** methods, policy iteration and value iteration, to solve the Bellman equations.\n",
    "\n",
    "The Bellman equation for the state function is:\n",
    "\n",
    "$$V^{\\pi} (s)  = \\sum_{a \\in \\mathcal{A}(s)} \\pi(s, a) \\, \\sum_{s' \\in \\mathcal{S}} p(s' | s, a) \\, [ r(s, a, s') + \\gamma \\, V^{\\pi} (s') ]$$\n",
    "\n",
    "**Q:** On paper, adapt the Bellman equation to the problem. First, for every state $s$ and possible action $a$, find the optimal value of the action with the form:\n",
    "\n",
    "$$Q^{\\pi} (s, a) = f( V^\\pi (\\text{high}), V^\\pi (\\text{low}), \\alpha, \\beta, \\gamma, \\mathcal{R}^{\\text{search}}, \\mathcal{R}^{\\text{wait}} )$$\n",
    "\n",
    "Deduce the Bellman equation for the two states $V^\\pi (\\text{high})$ and $V^\\pi (\\text{low})$."
   ]
  },
  {
   "cell_type": "markdown",
   "metadata": {},
   "source": [
    "**A:**\n",
    "\n",
    "$$Q^\\pi(\\text{high}, \\text{search}) = \\alpha \\, (\\mathcal{R }^\\text{search} + \\gamma \\, V^\\pi(\\text{high} )) + (1- \\alpha)\\, (\\mathcal{R}^\\text{search} + \\gamma \\, V^\\pi(\\text{low}))$$\n",
    "\n",
    "$$Q^\\pi(\\text{high}, \\text{wait}) = \\mathcal{R}^\\text{wait} + \\gamma \\, V^\\pi(\\text{high})$$\n",
    "\n",
    "$$Q^\\pi(\\text{low}, \\text{search}) = \\beta * (\\mathcal{R }^\\text{search} + \\gamma \\,  V^\\pi(\\text{low})) + (1- \\beta) \\, (-3 + \\gamma \\, V^\\pi(\\text{high}))$$\n",
    "\n",
    "$$Q^\\pi(\\text{low}, \\text{wait}) = \\mathcal{R}^\\text{wait} + \\gamma \\, V^\\pi(\\text{low})$$\n",
    "\n",
    "$$Q^\\pi(\\text{low}, \\text{recharge}) = \\gamma \\, V^\\pi(\\text{high})$$\n",
    "\n",
    "$$V^\\pi(\\text{high}) = \\pi(\\text{high}, \\text{search}) \\, Q^\\pi(\\text{high}, \\text{search}) +  \\pi(\\text{high}, \\text{wait}) \\, Q^\\pi(\\text{high}, \\text{wait})$$\n",
    "\n",
    "$$V^\\pi(\\text{low}) = \\pi(\\text{low}, \\text{search}) \\, Q^\\pi(\\text{low}, \\text{search}) +  \\pi(\\text{low}, \\text{wait}) \\, Q^\\pi(\\text{low}, \\text{wait}) + \\pi(\\text{low}, \\text{recharge}) \\,  Q^\\pi(\\text{low}, \\text{recharge})$$\n"
   ]
  },
  {
   "cell_type": "markdown",
   "metadata": {},
   "source": [
    "## Policy Iteration\n",
    "\n",
    "Now that we have the Bellman equations for the two states high and low, we can solve them using **iterative policy evaluation** for a fixed policy $\\pi$. \n",
    "\n",
    "### Iterative policy evaluation\n",
    "\n",
    "Let's start by setting the parameters of the MDP. In the rest of the exercise, you will modify these parameters to investigate how it changes the optimal policy."
   ]
  },
  {
   "cell_type": "code",
   "execution_count": 2,
   "metadata": {},
   "outputs": [],
   "source": [
    "# Transition probabilities\n",
    "alpha = 0.3\n",
    "beta = 0.2\n",
    "\n",
    "# Discount parameter\n",
    "gamma = 0.7\n",
    "\n",
    "# Expected rewards\n",
    "r_search = 6.0\n",
    "r_wait = 2.0"
   ]
  },
  {
   "cell_type": "markdown",
   "metadata": {},
   "source": [
    "There are many ways to represent states and actions in a MDP. The suggestion for this exercise is to use dictionaries here the keys are the actions' name and the vaues are indices:"
   ]
  },
  {
   "cell_type": "code",
   "execution_count": 3,
   "metadata": {},
   "outputs": [],
   "source": [
    "nb_states = 2\n",
    "nb_actions = 3\n",
    "\n",
    "s = {'high': 0, 'low': 1}\n",
    "a = {'search': 0, 'wait': 1, 'recharge': 2}"
   ]
  },
  {
   "cell_type": "markdown",
   "metadata": {},
   "source": [
    "Using dictionaries, you can access numpy arrays with `s['high']` or `a['recharge']` instead of 0 and 2, what will make the code readable.\n",
    "\n",
    "The next step is to initialize numpy arrays where we will store the V and Q values. `V` will have only two elements for high and low, while `Q` will be a 2x3 matrix with one element for each state-action pair. Notice that (high, recharge) is not a possible action, so this element will not be be updated."
   ]
  },
  {
   "cell_type": "code",
   "execution_count": 4,
   "metadata": {},
   "outputs": [],
   "source": [
    "V = np.zeros(nb_states)\n",
    "Q = np.zeros((nb_states, nb_actions))"
   ]
  },
  {
   "cell_type": "markdown",
   "metadata": {},
   "source": [
    "You can then access the individual values with `V[s['high']]` or `Q[s['low'], a['wait']]`.\n",
    "\n",
    "We can now evaluate a policy $\\pi$. In dynamic programming, the policies are deterministic, as we want to estimate the optimal policy.\n",
    "\n",
    "To implement the policy, we just need to assign the index of an action to each state, i.e. $\\pi(s)$. The following cell creates an initial policy $\\pi$ where the agent **searches** in both states high and low. We here make sure that the array contains integers (0, 1 or 2), but that is not even necessary."
   ]
  },
  {
   "cell_type": "code",
   "execution_count": 5,
   "metadata": {},
   "outputs": [],
   "source": [
    "pi = np.array([a['search'], a['search']], dtype=np.int)"
   ]
  },
  {
   "cell_type": "markdown",
   "metadata": {},
   "source": [
    "**Q:** Evaluate this policy using iterative policy evaluation.\n",
    "\n",
    "We would normally only need to update the V-value of the two states using:\n",
    "\n",
    "$$\n",
    "     V (s) \\leftarrow \\sum_{a \\in \\mathcal{A}(s)} \\pi(s, a) \\, \\sum_{s' \\in \\mathcal{S}} p(s' | s, a) \\, [ r(s, a, s') + \\gamma \\, V (s') ] \\quad \\forall s \\in \\mathcal{S}\n",
    "$$\n",
    "\n",
    "The code will be more readable if you first update the Q-values of the 5 state-action pairs:\n",
    "\n",
    "$$\n",
    "     Q (s, a) \\leftarrow  \\sum_{s' \\in \\mathcal{S}} p(s' | s, a) \\, [ r(s, a, s') + \\gamma \\, V (s') ] \\quad \\forall s \\in \\mathcal{S}\n",
    "$$\n",
    "\n",
    "and only then update the two V-values:\n",
    "\n",
    "$$\n",
    "     V (s) \\leftarrow \\sum_{a \\in \\mathcal{A}(s)} \\pi(s, a) \\, Q(s, a)\n",
    "$$\n",
    "\n",
    "These updates should normally be applied until the V-values converge. For simplicity, we could decide to simply apply 50 updates or so, and hope that it is enough.\n",
    "\n",
    "Record the V-value of the two states after each update and plot them. "
   ]
  },
  {
   "cell_type": "code",
   "execution_count": 6,
   "metadata": {},
   "outputs": [
    {
     "name": "stdout",
     "output_type": "stream",
     "text": [
      "[[11.28888873  9.90222206  0.        ]\n",
      " [ 5.9555554   6.16888873  7.90222206]]\n"
     ]
    },
    {
     "data": {
      "image/png": "[encoded data removed]",
      "text/plain": [
       "<Figure size 720x432 with 1 Axes>"
      ]
     },
     "metadata": {
      "needs_background": "light"
     },
     "output_type": "display_data"
    }
   ],
   "source": [
    "V = np.zeros(nb_states)\n",
    "Q = np.zeros((nb_states, nb_actions))\n",
    "\n",
    "V_high_history = []\n",
    "V_low_history = []\n",
    "\n",
    "for k in range(50):\n",
    "    \n",
    "    Q[s['high'], a['search']] = alpha * (r_search + gamma * V[s['high']]) + (1 - alpha) * (r_search + gamma*V[s['low']])\n",
    "    Q[s['high'], a['wait']] = r_wait + gamma * V[s['high']]\n",
    "    \n",
    "    Q[s['low'], a['search']] = beta * (r_search + gamma * V[s['low']]) + (1 - beta) * (-3 + gamma*V[s['high']])\n",
    "    Q[s['low'], a['wait']] = r_wait + gamma * V[s['low']]\n",
    "    Q[s['low'], a['recharge']] = gamma * V[s['high']]\n",
    "    \n",
    "    V[s['high']] = Q[s['high'], pi[s['high']]]\n",
    "    V[s['low']] = Q[s['low'], pi[s['low']]]\n",
    "    \n",
    "    V_high_history.append(V[s['high']])\n",
    "    V_low_history.append(V[s['low']])\n",
    "    \n",
    "print(Q)\n",
    "    \n",
    "plt.figure(figsize=(10, 6))\n",
    "plt.plot(V_high_history, label=\"high\")\n",
    "plt.plot(V_low_history, label=\"low\")\n",
    "plt.legend()\n",
    "plt.show()"
   ]
  },
  {
   "cell_type": "markdown",
   "metadata": {},
   "source": [
    "**Q:** Do the V-values converge? How fast? What do the final values represent? Change the value of $\\gamma$ and conclude on its importance (do not forget to reset the V and Q arrays to 0!). "
   ]
  },
  {
   "cell_type": "markdown",
   "metadata": {},
   "source": [
    "**A:** The V-values converge quite fast (~15 iterations) to their true value. The high state has a higher value than the low state, as there is no risk in that state to receive the punishment of -3.\n",
    "\n",
    "The final value is the expected return in that state, that is:\n",
    "\n",
    "$$R_t = \\sum_{k=0}^\\infty \\gamma^k \\, r_{t+k+1}$$\n",
    "\n",
    "$\\gamma$ completely changes the scale of the return. Small values of $\\gamma$ lead to small returns (only a couple of rewards count in the sum), while high values lead to high returns (there are a lot of rewards to be summed, especially because the task is continuing)."
   ]
  },
  {
   "cell_type": "markdown",
   "metadata": {},
   "source": [
    "**Q:** Print the Q-values at the end of the policy evaluation. What would the greedy policy with respect to these Q-values? \n",
    "\n",
    "**Q:** Change the initial policy to this policy and evaluate it. What happens? Compare the final value of the states under both policies. Which one is the best?"
   ]
  },
  {
   "cell_type": "markdown",
   "metadata": {},
   "source": [
    "**A:** The greedy policy w.r.t. the Q-values is searching in high, recharging in low, as the Q-values are maximal for these actions.\n",
    "\n",
    "If we evaluate this policy, we observe that:\n",
    "\n",
    "* the value of both states is higher: this is a better policy, as we collect more return on average.\n",
    "* the greedy policy does not change after the evaluation: we have found the optimal policy already!"
   ]
  },
  {
   "cell_type": "markdown",
   "metadata": {},
   "source": [
    "### Policy iteration\n",
    "\n",
    "Improving the policy is now straightforward. We just to look at the Q-values in each state, and change the policy so that it takes the action with the maximal Q-value. If this does not change the policy (we still take the same actions), we have found the optimal policy, we can stop.\n",
    "\n",
    "**Q:** Implement policy iteration.\n",
    "\n",
    "Do not forget to reset the V and Q arrays at the beginning of the cell, as well as the original policy.\n",
    "\n",
    "Use an infinite loop that you will quit when the policy has not changed between two iterations. Something like:\n",
    "\n",
    "```python\n",
    "while True:\n",
    "    # 1 - Policy evaluation\n",
    "    for k in range(50):\n",
    "        # Update the values\n",
    "    \n",
    "    # 2 - Policy improvement\n",
    "    \n",
    "    if pi != pi_old:\n",
    "        break\n",
    "```\n",
    "\n",
    "**Beware:** if you simply assign the policy to another array and modify the policy:\n",
    "\n",
    "```python\n",
    "pi_old = pi\n",
    "pi[s['high']] = a['search']\n",
    "```\n",
    "\n",
    "`pi_old` will also change! You need to `.copy()` the policy."
   ]
  },
  {
   "cell_type": "code",
   "execution_count": 7,
   "metadata": {},
   "outputs": [
    {
     "name": "stdout",
     "output_type": "stream",
     "text": [
      "Greedy policy after iteration 1\n",
      "pi(high)= 0\n",
      "pi(low)= 2\n",
      "-\n",
      "Greedy policy after iteration 2\n",
      "pi(high)= 0\n",
      "pi(low)= 2\n",
      "-\n"
     ]
    },
    {
     "data": {
      "image/png": "[encoded data removed]",
      "text/plain": [
       "<Figure size 720x432 with 1 Axes>"
      ]
     },
     "metadata": {
      "needs_background": "light"
     },
     "output_type": "display_data"
    }
   ],
   "source": [
    "V = np.zeros(nb_states)\n",
    "Q = np.zeros((nb_states, nb_actions))\n",
    "\n",
    "pi = np.array([a['search'], a['search']], dtype=np.int)\n",
    "\n",
    "V_high_history = []\n",
    "V_low_history = []\n",
    "\n",
    "t = 1\n",
    "while True:\n",
    "    # Policy evaluation\n",
    "    for k in range(50):\n",
    "\n",
    "        Q[s['high'], a['search']] = alpha * (r_search + gamma * V[s['high']]) + (1 - alpha) * (r_search + gamma*V[s['low']])\n",
    "        Q[s['high'], a['wait']] = r_wait + gamma * V[s['high']]\n",
    "\n",
    "        Q[s['low'], a['search']] = beta * (r_search + gamma * V[s['low']]) + (1 - beta) * (-3 + gamma*V[s['high']])\n",
    "        Q[s['low'], a['wait']] = r_wait + gamma * V[s['low']]\n",
    "        Q[s['low'], a['recharge']] = gamma * V[s['high']]\n",
    "\n",
    "        V[s['high']] = Q[s['high'], pi[s['high']]]\n",
    "        V[s['low']] = Q[s['low'], pi[s['low']]]\n",
    "\n",
    "        V_high_history.append(V[s['high']])\n",
    "        V_low_history.append(V[s['low']])\n",
    "        \n",
    "    # Policy improvement\n",
    "    pi_old = pi.copy()\n",
    "    pi[s['high']] = Q[s['high'], :2].argmax()\n",
    "    pi[s['low']] = Q[s['low'], :].argmax()\n",
    "    \n",
    "    print('Greedy policy after iteration', t)\n",
    "    print('pi(high)=', pi[s['high']])\n",
    "    print('pi(low)=', pi[s['low']])\n",
    "    print('-')\n",
    "    \n",
    "    # Exit if the policy does not change\n",
    "    if pi[s['high']] == pi_old[s['high']] and pi[s['low']] == pi_old[s['low']]:\n",
    "        break\n",
    "    t += 1\n",
    "    \n",
    "plt.figure(figsize=(10, 6))   \n",
    "plt.plot(V_high_history, label=\"high\")\n",
    "plt.plot(V_low_history, label=\"low\")\n",
    "plt.legend()\n",
    "plt.show()"
   ]
  },
  {
   "cell_type": "markdown",
   "metadata": {},
   "source": [
    "## Value iteration\n",
    "\n",
    "In value iteration, we merge the policy evaluation and improvement in a single update rule: \n",
    "\n",
    "$$\n",
    "    V (s) \\leftarrow \\max_{a \\in \\mathcal{A}(s)} \\sum_{s' \\in \\mathcal{S}} p(s' | s, a) \\, [ r(s, a, s') + \\gamma \\, V (s') ]\n",
    "$$\n",
    "\n",
    "The value of state takes the value of its greedy action. The policy is therefore implicitly greedy w.r.t the Q-values.\n",
    "\n",
    "The algorithm becomes:\n",
    "\n",
    "* while not converged:\n",
    "\n",
    "    * for all states $s$:\n",
    "    \n",
    "        * Update the value estimates with:\n",
    "        \n",
    "        $$\n",
    "            V (s)  \\leftarrow \\max_{a \\in \\mathcal{A}(s)} \\sum_{s' \\in \\mathcal{S}} p(s' | s, a) \\, [ r(s, a, s') + \\gamma \\, V (s') ]\n",
    "        $$\n",
    "        \n",
    "**Q:** Modify your previous code to implement value iteration. Use a fixed number of iterations (e.g. 50) as in policy evaluation. Visualize the evolution of the V-values and print the greedy policy after each iteration. Conclude."
   ]
  },
  {
   "cell_type": "code",
   "execution_count": 8,
   "metadata": {},
   "outputs": [
    {
     "name": "stdout",
     "output_type": "stream",
     "text": [
      "Greedy policy after iteration 49\n",
      "pi(high)= 0\n",
      "pi(low)= 2\n",
      "V= [13.4228186   9.39597296]\n",
      "Q= [[13.4228186  11.39597296  0.        ]\n",
      " [ 7.63221457  8.57718102  9.39597296]]\n"
     ]
    },
    {
     "data": {
      "image/png": "[encoded data removed]",
      "text/plain": [
       "<Figure size 720x432 with 1 Axes>"
      ]
     },
     "metadata": {
      "needs_background": "light"
     },
     "output_type": "display_data"
    }
   ],
   "source": [
    "V = np.zeros(nb_states)\n",
    "Q = np.zeros((nb_states, nb_actions))\n",
    "\n",
    "pi = np.array([a['search'], a['search']], dtype=np.int)\n",
    "\n",
    "V_high_history = []\n",
    "V_low_history = []\n",
    "\n",
    "for k in range(50):\n",
    "    \n",
    "    # Policy evaluation\n",
    "    Q[s['high'], a['search']] = alpha * (r_search + gamma * V[s['high']]) + (1 - alpha) * (r_search + gamma*V[s['low']])\n",
    "    Q[s['high'], a['wait']] = r_wait + gamma * V[s['high']]\n",
    "\n",
    "    Q[s['low'], a['search']] = beta * (r_search + gamma * V[s['low']]) + (1 - beta) * (-3 + gamma*V[s['high']])\n",
    "    Q[s['low'], a['wait']] = r_wait + gamma * V[s['low']]\n",
    "    Q[s['low'], a['recharge']] = gamma * V[s['high']]\n",
    "\n",
    "    V[s['high']] = Q[s['high'], :2].max()\n",
    "    V[s['low']] = Q[s['low'], :].max()\n",
    "\n",
    "    V_high_history.append(V[s['high']])\n",
    "    V_low_history.append(V[s['low']])\n",
    "        \n",
    "    # Compute the greedy policy\n",
    "    pi_old = pi.copy()\n",
    "    pi[s['high']] = Q[s['high'], :2].argmax()\n",
    "    pi[s['low']] = Q[s['low'], :].argmax()\n",
    "    \n",
    "print('Greedy policy after iteration', k)\n",
    "print('pi(high)=', pi[s['high']])\n",
    "print('pi(low)=', pi[s['low']])\n",
    "print(\"V=\", V)\n",
    "print(\"Q=\", Q)\n",
    "    \n",
    "plt.figure(figsize=(10, 6))  \n",
    "plt.plot(V_high_history, label=\"high\")\n",
    "plt.plot(V_low_history, label=\"low\")\n",
    "plt.legend()\n",
    "plt.show()"
   ]
  },
  {
   "cell_type": "markdown",
   "metadata": {},
   "source": [
    "**Q:**  Change the value of the discount factor $\\gamma =0.3$ so that the agent becomes short-sighted: it only takes into account the immediate rewards, but forgets about the long-term. Does it change the strategy? Explain why."
   ]
  },
  {
   "cell_type": "code",
   "execution_count": 9,
   "metadata": {},
   "outputs": [
    {
     "name": "stdout",
     "output_type": "stream",
     "text": [
      "Greedy policy after iteration 49\n",
      "pi(high)= 0\n",
      "pi(low)= 1\n",
      "V= [7.25274725 2.85714286]\n",
      "Q= [[7.25274725 4.17582418 0.        ]\n",
      " [0.71208791 2.85714286 2.17582418]]\n"
     ]
    },
    {
     "data": {
      "image/png": "[encoded data removed]",
      "text/plain": [
       "<Figure size 720x432 with 1 Axes>"
      ]
     },
     "metadata": {
      "needs_background": "light"
     },
     "output_type": "display_data"
    }
   ],
   "source": [
    "# Transition probabilities\n",
    "alpha = 0.3\n",
    "beta = 0.2\n",
    "\n",
    "# Discount parameter\n",
    "gamma = 0.3\n",
    "\n",
    "# Expected rewards\n",
    "r_search = 6.0\n",
    "r_wait = 2.0\n",
    "\n",
    "V = np.zeros(nb_states)\n",
    "Q = np.zeros((nb_states, nb_actions))\n",
    "\n",
    "pi = np.array([a['search'], a['search']], dtype=np.int)\n",
    "\n",
    "V_high_history = []\n",
    "V_low_history = []\n",
    "\n",
    "for k in range(50):\n",
    "    \n",
    "    # Policy evaluation\n",
    "    Q[s['high'], a['search']] = alpha * (r_search + gamma * V[s['high']]) + (1 - alpha) * (r_search + gamma*V[s['low']])\n",
    "    Q[s['high'], a['wait']] = r_wait + gamma * V[s['high']]\n",
    "\n",
    "    Q[s['low'], a['search']] = beta * (r_search + gamma * V[s['low']]) + (1 - beta) * (-3 + gamma*V[s['high']])\n",
    "    Q[s['low'], a['wait']] = r_wait + gamma * V[s['low']]\n",
    "    Q[s['low'], a['recharge']] = gamma * V[s['high']]\n",
    "\n",
    "    V[s['high']] = Q[s['high'], :2].max()\n",
    "    V[s['low']] = Q[s['low'], :].max()\n",
    "\n",
    "    V_high_history.append(V[s['high']])\n",
    "    V_low_history.append(V[s['low']])\n",
    "        \n",
    "    # Compute the greedy policy\n",
    "    pi_old = pi.copy()\n",
    "    pi[s['high']] = Q[s['high'], :2].argmax()\n",
    "    pi[s['low']] = Q[s['low'], :].argmax()\n",
    "    \n",
    "print('Greedy policy after iteration', k)\n",
    "print('pi(high)=', pi[s['high']])\n",
    "print('pi(low)=', pi[s['low']])\n",
    "print(\"V=\", V)\n",
    "print(\"Q=\", Q)\n",
    "    \n",
    "plt.figure(figsize=(10, 6))  \n",
    "plt.plot(V_high_history, label=\"high\")\n",
    "plt.plot(V_low_history, label=\"low\")\n",
    "plt.legend()\n",
    "plt.show()"
   ]
  },
  {
   "cell_type": "markdown",
   "metadata": {},
   "source": [
    "**A:** the agent now decides to wait in the low state (r=2) instead of recharging (r=0) and then be in the high state (r=6). The agent is so greedy that it cannot stand not getting reward for one step, although he will collect much more reard later. "
   ]
  },
  {
   "cell_type": "markdown",
   "metadata": {},
   "source": [
    "**Q:** Change $\\gamma$ to 0.99 (far-sighted agent). What does it change and why?  "
   ]
  },
  {
   "cell_type": "code",
   "execution_count": 10,
   "metadata": {},
   "outputs": [
    {
     "name": "stdout",
     "output_type": "stream",
     "text": [
      "Greedy policy after iteration 49\n",
      "pi(high)= 0\n",
      "pi(low)= 2\n",
      "V= [141.37219244 137.82818773]\n",
      "Q= [[141.37219244 139.82818773   0.        ]\n",
      " [135.92647479 136.31962304 137.82818773]]\n"
     ]
    },
    {
     "data": {
      "image/png": "[encoded data removed]",
      "text/plain": [
       "<Figure size 720x432 with 1 Axes>"
      ]
     },
     "metadata": {
      "needs_background": "light"
     },
     "output_type": "display_data"
    }
   ],
   "source": [
    "# Transition probabilities\n",
    "alpha = 0.3\n",
    "beta = 0.2\n",
    "\n",
    "# Discount parameter\n",
    "gamma = 0.99\n",
    "\n",
    "# Expected rewards\n",
    "r_search = 6.0\n",
    "r_wait = 2.0\n",
    "\n",
    "V = np.zeros(nb_states)\n",
    "Q = np.zeros((nb_states, nb_actions))\n",
    "\n",
    "pi = np.array([a['search'], a['search']], dtype=np.int)\n",
    "\n",
    "V_high_history = []\n",
    "V_low_history = []\n",
    "\n",
    "for k in range(50):\n",
    "    \n",
    "    # Policy evaluation\n",
    "    Q[s['high'], a['search']] = alpha * (r_search + gamma * V[s['high']]) + (1 - alpha) * (r_search + gamma*V[s['low']])\n",
    "    Q[s['high'], a['wait']] = r_wait + gamma * V[s['high']]\n",
    "\n",
    "    Q[s['low'], a['search']] = beta * (r_search + gamma * V[s['low']]) + (1 - beta) * (-3 + gamma*V[s['high']])\n",
    "    Q[s['low'], a['wait']] = r_wait + gamma * V[s['low']]\n",
    "    Q[s['low'], a['recharge']] = gamma * V[s['high']]\n",
    "\n",
    "    V[s['high']] = Q[s['high'], :2].max()\n",
    "    V[s['low']] = Q[s['low'], :].max()\n",
    "\n",
    "    V_high_history.append(V[s['high']])\n",
    "    V_low_history.append(V[s['low']])\n",
    "        \n",
    "    # Compute the greedy policy\n",
    "    pi_old = pi.copy()\n",
    "    pi[s['high']] = Q[s['high'], :2].argmax()\n",
    "    pi[s['low']] = Q[s['low'], :].argmax()\n",
    "    \n",
    "print('Greedy policy after iteration', k)\n",
    "print('pi(high)=', pi[s['high']])\n",
    "print('pi(low)=', pi[s['low']])\n",
    "print(\"V=\", V)\n",
    "print(\"Q=\", Q)\n",
    "    \n",
    "plt.figure(figsize=(10, 6))  \n",
    "plt.plot(V_high_history, label=\"high\")\n",
    "plt.plot(V_low_history, label=\"low\")\n",
    "plt.legend()\n",
    "plt.show()"
   ]
  },
  {
   "cell_type": "markdown",
   "metadata": {},
   "source": [
    "**A:** The optimal policy stays the same (search in high, recharge in low) but the V values grow very high. The difference between the values of the high and low state is comparatively very small: the high state is always only one action away from the low state, it is nothing with such a high gamma."
   ]
  },
  {
   "cell_type": "markdown",
   "metadata": {},
   "source": [
    "**Q:**  Change the parameters to:\n",
    "\n",
    "$$\\alpha = 0.01 \\quad \\beta = 0.2 \\quad \\gamma = 0.7 \\quad \\mathcal{R}^{\\text{search}} = 6 \\quad  \\mathcal{R}^{\\text{wait}} = 5$$\n",
    "\n",
    "Find the optimal policy. What is the optimal action to be taken in the state *high*, although the probability to stay in this state is very small? Why?"
   ]
  },
  {
   "cell_type": "code",
   "execution_count": 11,
   "metadata": {},
   "outputs": [
    {
     "name": "stdout",
     "output_type": "stream",
     "text": [
      "Greedy policy after iteration 49\n",
      "pi(high)= 0\n",
      "pi(low)= 1\n",
      "V= [17.67371571 16.66666637]\n",
      "Q= [[17.67371571 17.37160091  0.        ]\n",
      " [11.030614   16.66666637 12.37160091]]\n"
     ]
    },
    {
     "data": {
      "image/png": "[encoded data removed]",
      "text/plain": [
       "<Figure size 720x432 with 1 Axes>"
      ]
     },
     "metadata": {
      "needs_background": "light"
     },
     "output_type": "display_data"
    }
   ],
   "source": [
    "# Transition probabilities\n",
    "alpha = 0.01\n",
    "beta = 0.2\n",
    "\n",
    "# Discount parameter\n",
    "gamma = 0.7\n",
    "\n",
    "# Expected rewards\n",
    "r_search = 6.0\n",
    "r_wait = 5.0\n",
    "\n",
    "V = np.zeros(nb_states)\n",
    "Q = np.zeros((nb_states, nb_actions))\n",
    "\n",
    "pi = np.array([a['search'], a['search']], dtype=np.int)\n",
    "\n",
    "V_high_history = []\n",
    "V_low_history = []\n",
    "\n",
    "for k in range(50):\n",
    "    \n",
    "    # Policy evaluation\n",
    "    Q[s['high'], a['search']] = alpha * (r_search + gamma * V[s['high']]) + (1 - alpha) * (r_search + gamma*V[s['low']])\n",
    "    Q[s['high'], a['wait']] = r_wait + gamma * V[s['high']]\n",
    "\n",
    "    Q[s['low'], a['search']] = beta * (r_search + gamma * V[s['low']]) + (1 - beta) * (-3 + gamma*V[s['high']])\n",
    "    Q[s['low'], a['wait']] = r_wait + gamma * V[s['low']]\n",
    "    Q[s['low'], a['recharge']] = gamma * V[s['high']]\n",
    "\n",
    "    V[s['high']] = Q[s['high'], :2].max()\n",
    "    V[s['low']] = Q[s['low'], :].max()\n",
    "\n",
    "    V_high_history.append(V[s['high']])\n",
    "    V_low_history.append(V[s['low']])\n",
    "        \n",
    "    # Compute the greedy policy\n",
    "    pi_old = pi.copy()\n",
    "    pi[s['high']] = Q[s['high'], :2].argmax()\n",
    "    pi[s['low']] = Q[s['low'], :].argmax()\n",
    "    \n",
    "print('Greedy policy after iteration', k)\n",
    "print('pi(high)=', pi[s['high']])\n",
    "print('pi(low)=', pi[s['low']])\n",
    "print(\"V=\", V)\n",
    "print(\"Q=\", Q)\n",
    "    \n",
    "plt.figure(figsize=(10, 6))  \n",
    "plt.plot(V_high_history, label=\"high\")\n",
    "plt.plot(V_low_history, label=\"low\")\n",
    "plt.legend()\n",
    "plt.show()"
   ]
  },
  {
   "cell_type": "markdown",
   "metadata": {},
   "source": [
    "**A:** the agent now decides to wait in the low state and accumulate quite a lot of rewards (r=5, compared to 6 while searching). But it is still worth searching in the high state: even if we transition immediately into low with 99% probability, one still gets 6 instead of 5, so the return is higher than when waiting in high."
   ]
  },
  {
   "cell_type": "markdown",
   "metadata": {},
   "source": [
    "**Q:** Find a set of parameters where it would be optimal to search while in the *low* state."
   ]
  },
  {
   "cell_type": "code",
   "execution_count": 12,
   "metadata": {},
   "outputs": [
    {
     "name": "stdout",
     "output_type": "stream",
     "text": [
      "Greedy policy after iteration 49\n",
      "pi(high)= 0\n",
      "pi(low)= 0\n",
      "V= [28.03236199 25.7375694 ]\n",
      "Q= [[28.03236199 24.62265325  0.        ]\n",
      " [25.7375694  23.01629844 19.62265325]]\n"
     ]
    },
    {
     "data": {
      "image/png": "[encoded data removed]",
      "text/plain": [
       "<Figure size 720x432 with 1 Axes>"
      ]
     },
     "metadata": {
      "needs_background": "light"
     },
     "output_type": "display_data"
    }
   ],
   "source": [
    "# Transition probabilities\n",
    "alpha = 0.01\n",
    "beta = 0.8\n",
    "\n",
    "# Discount parameter\n",
    "gamma = 0.7\n",
    "\n",
    "# Expected rewards\n",
    "r_search = 10.0\n",
    "r_wait = 5.0\n",
    "\n",
    "V = np.zeros(nb_states)\n",
    "Q = np.zeros((nb_states, nb_actions))\n",
    "\n",
    "pi = np.array([a['search'], a['search']], dtype=np.int)\n",
    "\n",
    "V_high_history = []\n",
    "V_low_history = []\n",
    "\n",
    "for k in range(50):\n",
    "    \n",
    "    # Policy evaluation\n",
    "    Q[s['high'], a['search']] = alpha * (r_search + gamma * V[s['high']]) + (1 - alpha) * (r_search + gamma*V[s['low']])\n",
    "    Q[s['high'], a['wait']] = r_wait + gamma * V[s['high']]\n",
    "\n",
    "    Q[s['low'], a['search']] = beta * (r_search + gamma * V[s['low']]) + (1 - beta) * (-3 + gamma*V[s['high']])\n",
    "    Q[s['low'], a['wait']] = r_wait + gamma * V[s['low']]\n",
    "    Q[s['low'], a['recharge']] = gamma * V[s['high']]\n",
    "\n",
    "    V[s['high']] = Q[s['high'], :2].max()\n",
    "    V[s['low']] = Q[s['low'], :].max()\n",
    "\n",
    "    V_high_history.append(V[s['high']])\n",
    "    V_low_history.append(V[s['low']])\n",
    "        \n",
    "    # Compute the greedy policy\n",
    "    pi_old = pi.copy()\n",
    "    pi[s['high']] = Q[s['high'], :2].argmax()\n",
    "    pi[s['low']] = Q[s['low'], :].argmax()\n",
    "    \n",
    "print('Greedy policy after iteration', k)\n",
    "print('pi(high)=', pi[s['high']])\n",
    "print('pi(low)=', pi[s['low']])\n",
    "print(\"V=\", V)\n",
    "print(\"Q=\", Q)\n",
    "    \n",
    "plt.figure(figsize=(10, 6))  \n",
    "plt.plot(V_high_history, label=\"high\")\n",
    "plt.plot(V_low_history, label=\"low\")\n",
    "plt.legend()\n",
    "plt.show()"
   ]
  }
 ],
 "metadata": {
  "kernelspec": {
   "display_name": "Python 3",
   "language": "python",
   "name": "python3"
  },
  "language_info": {
   "codemirror_mode": {
    "name": "ipython",
    "version": 3
   },
   "file_extension": ".py",
   "mimetype": "text/x-python",
   "name": "python",
   "nbconvert_exporter": "python",
   "pygments_lexer": "ipython3",
   "version": "3.8.6"
  }
 },
 "nbformat": 4,
 "nbformat_minor": 4
}
