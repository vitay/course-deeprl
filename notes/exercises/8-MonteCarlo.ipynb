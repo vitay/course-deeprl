{
 "cells": [
  {
   "cell_type": "markdown",
   "metadata": {},
   "source": [
    "# Monte-Carlo control \n",
    "\n",
    "We start by importing gym. The environment we will use is text-based, so there is no need for all the boilerplate of last exercise: we simply pip install gym if we are on Colab."
   ]
  },
  {
   "cell_type": "code",
   "execution_count": 1,
   "metadata": {},
   "outputs": [],
   "source": [
    "import numpy as np\n",
    "import matplotlib.pyplot as plt\n",
    "rng = np.random.default_rng()\n",
    "import time\n",
    "\n",
    "from IPython.display import clear_output\n",
    "\n",
    "try:\n",
    "    import google.colab\n",
    "    IN_COLAB = True\n",
    "except:\n",
    "    IN_COLAB = False\n",
    "\n",
    "if IN_COLAB:\n",
    "    !pip install gym > /dev/null 2>&1\n",
    "    \n",
    "import gym"
   ]
  },
  {
   "cell_type": "markdown",
   "metadata": {},
   "source": [
    "## The taxi environment\n",
    "\n",
    "In this exercise, we are going to apply **on-policy Monte-Carlo control** on the Taxi environment available in gym:\n",
    "\n",
    "<https://gym.openai.com/envs/Taxi-v3/>"
   ]
  },
  {
   "cell_type": "code",
   "execution_count": 2,
   "metadata": {},
   "outputs": [
    {
     "name": "stdout",
     "output_type": "stream",
     "text": [
      "Help on module gym.envs.toy_text.taxi in gym.envs.toy_text:\n",
      "\n",
      "NAME\n",
      "    gym.envs.toy_text.taxi\n",
      "\n",
      "CLASSES\n",
      "    gym.envs.toy_text.discrete.DiscreteEnv(gym.core.Env)\n",
      "        TaxiEnv\n",
      "    \n",
      "    class TaxiEnv(gym.envs.toy_text.discrete.DiscreteEnv)\n",
      "     |  The Taxi Problem\n",
      "     |  from \"Hierarchical Reinforcement Learning with the MAXQ Value Function Decomposition\"\n",
      "     |  by Tom Dietterich\n",
      "     |  \n",
      "     |  Description:\n",
      "     |  There are four designated locations in the grid world indicated by R(ed), G(reen), Y(ellow), and B(lue). When the episode starts, the taxi starts off at a random square and the passenger is at a random location. The taxi drives to the passenger's location, picks up the passenger, drives to the passenger's destination (another one of the four specified locations), and then drops off the passenger. Once the passenger is dropped off, the episode ends.\n",
      "     |  \n",
      "     |  Observations: \n",
      "     |  There are 500 discrete states since there are 25 taxi positions, 5 possible locations of the passenger (including the case when the passenger is in the taxi), and 4 destination locations. \n",
      "     |  \n",
      "     |  Passenger locations:\n",
      "     |  - 0: R(ed)\n",
      "     |  - 1: G(reen)\n",
      "     |  - 2: Y(ellow)\n",
      "     |  - 3: B(lue)\n",
      "     |  - 4: in taxi\n",
      "     |  \n",
      "     |  Destinations:\n",
      "     |  - 0: R(ed)\n",
      "     |  - 1: G(reen)\n",
      "     |  - 2: Y(ellow)\n",
      "     |  - 3: B(lue)\n",
      "     |      \n",
      "     |  Actions:\n",
      "     |  There are 6 discrete deterministic actions:\n",
      "     |  - 0: move south\n",
      "     |  - 1: move north\n",
      "     |  - 2: move east \n",
      "     |  - 3: move west \n",
      "     |  - 4: pickup passenger\n",
      "     |  - 5: dropoff passenger\n",
      "     |  \n",
      "     |  Rewards: \n",
      "     |  There is a default per-step reward of -1,\n",
      "     |  except for delivering the passenger, which is +20,\n",
      "     |  or executing \"pickup\" and \"drop-off\" actions illegally, which is -10.\n",
      "     |  \n",
      "     |  \n",
      "     |  Rendering:\n",
      "     |  - blue: passenger\n",
      "     |  - magenta: destination\n",
      "     |  - yellow: empty taxi\n",
      "     |  - green: full taxi\n",
      "     |  - other letters (R, G, Y and B): locations for passengers and destinations\n",
      "     |  \n",
      "     |  \n",
      "     |  state space is represented by:\n",
      "     |      (taxi_row, taxi_col, passenger_location, destination)\n",
      "     |  \n",
      "     |  Method resolution order:\n",
      "     |      TaxiEnv\n",
      "     |      gym.envs.toy_text.discrete.DiscreteEnv\n",
      "     |      gym.core.Env\n",
      "     |      builtins.object\n",
      "     |  \n",
      "     |  Methods defined here:\n",
      "     |  \n",
      "     |  __init__(self)\n",
      "     |      Initialize self.  See help(type(self)) for accurate signature.\n",
      "     |  \n",
      "     |  decode(self, i)\n",
      "     |  \n",
      "     |  encode(self, taxi_row, taxi_col, pass_loc, dest_idx)\n",
      "     |  \n",
      "     |  render(self, mode='human')\n",
      "     |      Renders the environment.\n",
      "     |      \n",
      "     |      The set of supported modes varies per environment. (And some\n",
      "     |      environments do not support rendering at all.) By convention,\n",
      "     |      if mode is:\n",
      "     |      \n",
      "     |      - human: render to the current display or terminal and\n",
      "     |        return nothing. Usually for human consumption.\n",
      "     |      - rgb_array: Return an numpy.ndarray with shape (x, y, 3),\n",
      "     |        representing RGB values for an x-by-y pixel image, suitable\n",
      "     |        for turning into a video.\n",
      "     |      - ansi: Return a string (str) or StringIO.StringIO containing a\n",
      "     |        terminal-style text representation. The text can include newlines\n",
      "     |        and ANSI escape sequences (e.g. for colors).\n",
      "     |      \n",
      "     |      Note:\n",
      "     |          Make sure that your class's metadata 'render.modes' key includes\n",
      "     |            the list of supported modes. It's recommended to call super()\n",
      "     |            in implementations to use the functionality of this method.\n",
      "     |      \n",
      "     |      Args:\n",
      "     |          mode (str): the mode to render with\n",
      "     |      \n",
      "     |      Example:\n",
      "     |      \n",
      "     |      class MyEnv(Env):\n",
      "     |          metadata = {'render.modes': ['human', 'rgb_array']}\n",
      "     |      \n",
      "     |          def render(self, mode='human'):\n",
      "     |              if mode == 'rgb_array':\n",
      "     |                  return np.array(...) # return RGB frame suitable for video\n",
      "     |              elif mode == 'human':\n",
      "     |                  ... # pop up a window and render\n",
      "     |              else:\n",
      "     |                  super(MyEnv, self).render(mode=mode) # just raise an exception\n",
      "     |  \n",
      "     |  ----------------------------------------------------------------------\n",
      "     |  Data and other attributes defined here:\n",
      "     |  \n",
      "     |  metadata = {'render.modes': ['human', 'ansi']}\n",
      "     |  \n",
      "     |  ----------------------------------------------------------------------\n",
      "     |  Methods inherited from gym.envs.toy_text.discrete.DiscreteEnv:\n",
      "     |  \n",
      "     |  reset(self)\n",
      "     |      Resets the environment to an initial state and returns an initial\n",
      "     |      observation.\n",
      "     |      \n",
      "     |      Note that this function should not reset the environment's random\n",
      "     |      number generator(s); random variables in the environment's state should\n",
      "     |      be sampled independently between multiple calls to `reset()`. In other\n",
      "     |      words, each call of `reset()` should yield an environment suitable for\n",
      "     |      a new episode, independent of previous episodes.\n",
      "     |      \n",
      "     |      Returns:\n",
      "     |          observation (object): the initial observation.\n",
      "     |  \n",
      "     |  seed(self, seed=None)\n",
      "     |      Sets the seed for this env's random number generator(s).\n",
      "     |      \n",
      "     |      Note:\n",
      "     |          Some environments use multiple pseudorandom number generators.\n",
      "     |          We want to capture all such seeds used in order to ensure that\n",
      "     |          there aren't accidental correlations between multiple generators.\n",
      "     |      \n",
      "     |      Returns:\n",
      "     |          list<bigint>: Returns the list of seeds used in this env's random\n",
      "     |            number generators. The first value in the list should be the\n",
      "     |            \"main\" seed, or the value which a reproducer should pass to\n",
      "     |            'seed'. Often, the main seed equals the provided 'seed', but\n",
      "     |            this won't be true if seed=None, for example.\n",
      "     |  \n",
      "     |  step(self, a)\n",
      "     |      Run one timestep of the environment's dynamics. When end of\n",
      "     |      episode is reached, you are responsible for calling `reset()`\n",
      "     |      to reset this environment's state.\n",
      "     |      \n",
      "     |      Accepts an action and returns a tuple (observation, reward, done, info).\n",
      "     |      \n",
      "     |      Args:\n",
      "     |          action (object): an action provided by the agent\n",
      "     |      \n",
      "     |      Returns:\n",
      "     |          observation (object): agent's observation of the current environment\n",
      "     |          reward (float) : amount of reward returned after previous action\n",
      "     |          done (bool): whether the episode has ended, in which case further step() calls will return undefined results\n",
      "     |          info (dict): contains auxiliary diagnostic information (helpful for debugging, and sometimes learning)\n",
      "     |  \n",
      "     |  ----------------------------------------------------------------------\n",
      "     |  Methods inherited from gym.core.Env:\n",
      "     |  \n",
      "     |  __enter__(self)\n",
      "     |      Support with-statement for the environment.\n",
      "     |  \n",
      "     |  __exit__(self, *args)\n",
      "     |      Support with-statement for the environment.\n",
      "     |  \n",
      "     |  __str__(self)\n",
      "     |      Return str(self).\n",
      "     |  \n",
      "     |  close(self)\n",
      "     |      Override close in your subclass to perform any necessary cleanup.\n",
      "     |      \n",
      "     |      Environments will automatically close() themselves when\n",
      "     |      garbage collected or when the program exits.\n",
      "     |  \n",
      "     |  ----------------------------------------------------------------------\n",
      "     |  Readonly properties inherited from gym.core.Env:\n",
      "     |  \n",
      "     |  unwrapped\n",
      "     |      Completely unwrap this env.\n",
      "     |      \n",
      "     |      Returns:\n",
      "     |          gym.Env: The base non-wrapped gym.Env instance\n",
      "     |  \n",
      "     |  ----------------------------------------------------------------------\n",
      "     |  Data descriptors inherited from gym.core.Env:\n",
      "     |  \n",
      "     |  __dict__\n",
      "     |      dictionary for instance variables (if defined)\n",
      "     |  \n",
      "     |  __weakref__\n",
      "     |      list of weak references to the object (if defined)\n",
      "     |  \n",
      "     |  ----------------------------------------------------------------------\n",
      "     |  Data and other attributes inherited from gym.core.Env:\n",
      "     |  \n",
      "     |  action_space = None\n",
      "     |  \n",
      "     |  observation_space = None\n",
      "     |  \n",
      "     |  reward_range = (-inf, inf)\n",
      "     |  \n",
      "     |  spec = None\n",
      "\n",
      "DATA\n",
      "    MAP = ['+---------+', '|R: | : :G|', '| : | : : |', '| : : : : |', '| ...\n",
      "\n",
      "FILE\n",
      "    /usr/lib/python3.8/site-packages/gym/envs/toy_text/taxi.py\n",
      "\n",
      "\n"
     ]
    }
   ],
   "source": [
    "import gym.envs.toy_text.taxi\n",
    "help(gym.envs.toy_text.taxi)"
   ]
  },
  {
   "cell_type": "markdown",
   "metadata": {},
   "source": [
    "Let's create the environment, initialize it  and render the first state:"
   ]
  },
  {
   "cell_type": "code",
   "execution_count": 3,
   "metadata": {},
   "outputs": [
    {
     "name": "stdout",
     "output_type": "stream",
     "text": [
      "+---------+\n",
      "|R: | : :\u001b[35mG\u001b[0m|\n",
      "| : | : : |\n",
      "| : : : : |\n",
      "|\u001b[43m \u001b[0m| : | : |\n",
      "|\u001b[34;1mY\u001b[0m| : |B: |\n",
      "+---------+\n",
      "\n"
     ]
    }
   ],
   "source": [
    "env = gym.make(\"Taxi-v3\")\n",
    "state = env.reset()\n",
    "env.render()"
   ]
  },
  {
   "cell_type": "markdown",
   "metadata": {},
   "source": [
    "The agent is the yellow square. It can move up, down, left or right if there is no wall (the pipes and dashes). Its goal is to pick clients at the blue location and drop them off at the pink location. These locations are fixed (R, G, B, Y), but which one is the pick-up location and which one is the drop-off destination changes between each episode.\n",
    "\n",
    "**Q:** Re-run the previous cell multiple times to observe the diversity of initial states.\n",
    "\n",
    "The following cell prints the action space of the environment: "
   ]
  },
  {
   "cell_type": "code",
   "execution_count": 4,
   "metadata": {},
   "outputs": [
    {
     "name": "stdout",
     "output_type": "stream",
     "text": [
      "Action Space Discrete(6)\n",
      "Number of actions 6\n"
     ]
    }
   ],
   "source": [
    "print(\"Action Space\", env.action_space)\n",
    "print(\"Number of actions\", env.action_space.n)"
   ]
  },
  {
   "cell_type": "markdown",
   "metadata": {},
   "source": [
    "There are 6 discrete actions: south, north, east, west, pickup, dropoff.\n",
    "    \n",
    "Let's now look at the observation space (state space):"
   ]
  },
  {
   "cell_type": "code",
   "execution_count": 5,
   "metadata": {},
   "outputs": [
    {
     "name": "stdout",
     "output_type": "stream",
     "text": [
      "State Space Discrete(500)\n",
      "Number of states 500\n"
     ]
    }
   ],
   "source": [
    "print(\"State Space\", env.observation_space)\n",
    "print(\"Number of states\", env.observation_space.n)"
   ]
  },
  {
   "cell_type": "markdown",
   "metadata": {},
   "source": [
    "There are 500 discrete states. What are they?\n",
    "\n",
    "* The taxi can be anywhere in the 5x5 grid, giving 25 different locations.\n",
    "* The passenger can be at any of the four locations R, G, B, Y or in the taxi: 5 values.\n",
    "* The destination can be any of the four locations: 4 values.\n",
    "\n",
    "This gives indeed 25x5x4 = 500 different combinations.\n",
    "\n",
    "The internal representation of a state is a number between 0 and 499. You can use the `encode` and `decode` methods of the environment to relate it to the state variables."
   ]
  },
  {
   "cell_type": "code",
   "execution_count": 6,
   "metadata": {},
   "outputs": [
    {
     "name": "stdout",
     "output_type": "stream",
     "text": [
      "State: 224\n",
      "State: [3, 1, 2, 0]\n"
     ]
    }
   ],
   "source": [
    "state = env.encode(2, 1, 1, 0) # (taxi row, taxi column, passenger index, destination index)\n",
    "print(\"State:\", state)\n",
    "\n",
    "state = env.decode(328) \n",
    "print(\"State:\", list(state))"
   ]
  },
  {
   "cell_type": "markdown",
   "metadata": {},
   "source": [
    "The reward function is simple:\n",
    "\n",
    "* r = 20 when delivering the client at the correct location.\n",
    "* r = -10 when picking or dropping a client illegally (picking where there is no client, dropping a client somewhere else, etc)\n",
    "* r = -1 for all other transitions in order to incent the agent to be as fast as possible.\n",
    "\n",
    "The actions pickup and dropoff are very dangerous: take them at the wrong time and your return will be very low. The navigation actions are less critical.\n",
    "\n",
    "Depending on the initial state, the taxi will need at least 10 steps to deliver the client, so the maximal return you can expect is around 10 (+20 for the success, -1 for all the steps). \n",
    "\n",
    "The task is episodic: if you have not delivered the client within 200 steps, the episode stops (no particular reward)."
   ]
  },
  {
   "cell_type": "markdown",
   "metadata": {},
   "source": [
    "## Random agent\n",
    "\n",
    "Let's now define a random agent that just samples the action space."
   ]
  },
  {
   "cell_type": "markdown",
   "metadata": {},
   "source": [
    "**Q:** Modify the random agent of last time, so that the agent performs a fixed number of **episodes**, not steps. Make sure to use the `done` flag to break the for loop and start in a new state. Optionally render the state of the agent at every step. At the end of each episode, compute its return using $\\gamma = 1.0$ (i.e. simply sum the obtained rewards) and print the list in the end.\n",
    "\n",
    "*Tip:* If you render the state at every step, they will be printed one after the other. To have an animation, you can clear the output of the cell using:\n",
    "\n",
    "```python\n",
    "from IPython.display import clear_output # already imported\n",
    "\n",
    "for t in episode: \n",
    "    # ...\n",
    "    clear_output(wait=True)\n",
    "    env.render()\n",
    "    # ...\n",
    "```\n",
    "\n",
    "*Tip:* The animation may be too fast to visualize anything. To force the framerate to be low enough, you can make Python \"sleep\" (do nothing) for a few milliseconds after each rendering:\n",
    "\n",
    "```python\n",
    "import time # already imported\n",
    "\n",
    "for t in episode: \n",
    "    clear_output(wait=True)\n",
    "    env.render()\n",
    "    time.sleep(0.1) # sleep for 100 milliseconds\n",
    "```"
   ]
  },
  {
   "cell_type": "code",
   "execution_count": null,
   "metadata": {},
   "outputs": [],
   "source": []
  },
  {
   "cell_type": "markdown",
   "metadata": {},
   "source": [
    "**Q:** What do you think of the returns obtained by the random agent? Conclude on the difficulty of the task."
   ]
  },
  {
   "cell_type": "markdown",
   "metadata": {},
   "source": [
    "## On-policy Monte-Carlo control\n",
    "\n",
    "Now let's apply on-policy MC control on the Taxi environment. As a reminder, here the meta-algorithm:\n",
    "\n",
    "* **while** True:\n",
    "\n",
    "    1. Generate an episode $\\tau = (s_0, a_0, r_1, \\ldots, s_T)$ using the current **stochastic** policy $\\pi$.\n",
    "\n",
    "    2. For each state-action pair $(s_t, a_t)$ in the episode, update the estimated Q-value:\n",
    "\n",
    "    $$\n",
    "        Q(s_t, a_t) = Q(s_t, a_t) + \\alpha \\, (R_t - Q(s_t, a_t))\n",
    "    $$\n",
    "\n",
    "    3. For each state $s_t$ in the episode, improve the policy (e.g. $\\epsilon$-greedy):\n",
    "\n",
    "    $$\n",
    "        \\pi(s_t, a) = \\begin{cases}\n",
    "                        1 - \\epsilon \\; \\text{if} \\; a = a^* \\\\\n",
    "                        \\frac{\\epsilon}{|\\mathcal{A(s_t)}-1|} \\; \\text{otherwise.} \\\\\n",
    "                      \\end{cases}\n",
    "    $$\n",
    "    \n",
    "In practice, we will need:\n",
    "\n",
    "* a **Q-table** storing the estimated Q-value of each state-action pair: its size will be (500, 6).\n",
    "\n",
    "* an $\\epsilon$-greedy action selection to select actions in the current state.\n",
    "\n",
    "* an learning mechanism allowing to update the Q-value of all state-action pairs encountered in the episode.\n",
    "\n",
    "**Q:** Create a `MonteCarloAgent` agent implementing on-policy MC for the Taxi environment. Use $\\gamma = 0.9$, $\\epsilon = 0.1$ and $\\alpha=0.01$ (pass these parameters to the constructor of the agent and store them). Train the agent for 20000 episodes (yes, 20000... Start with one episode to debug everything and then launch the simulation. It should take around one minute). Save the return of each episode in a list and plot them in the end. \n",
    "\n",
    "Implementing the action selection should not be a problem, it is the same as for bandits. Little trick (not obligatory): you can implement $\\epsilon$-greedy as:\n",
    "\n",
    "```python\n",
    "action = self.Q[state, :].argmax()\n",
    "if rng.random() < epsilon:\n",
    "    action = self.env.action_space.sample()\n",
    "```\n",
    "\n",
    "This is not exactly $\\epsilon$-greedy, as `env.action_space.sample()` may select the greedy action again. In practice it does not matter, it only changes the meaning of $\\epsilon$, but the action selection stays similar. It is better to rely on `env.action_space.sample()` for the exploration, as some Gym problem work better with a normal distribution for the exploration than with uniform (e.g. continuous problems). \n",
    "\n",
    "Do not select the greedy action with `self.Q[state, :].argmax()` but `rng.random.choice(np.where(self.Q[state, :] == self.Q[state, :].max())[0])`: at the beginning of learning, where the Q-values are all 0, you would otherwise always take the first action (south).\n",
    "\n",
    "The `update()` method should take a complete episode as argument, using a list of (state, action, reward) transitions. It should be called at the end of an episode only, not after every step.\n",
    "\n",
    "A bit tricky is the calculation of the returns for each visited state. The naive approach would look like:\n",
    "\n",
    "```python\n",
    "T = len(episode)\n",
    "for t in range(T):\n",
    "    state, action, reward = episode[t]\n",
    "    return_state = 0.0\n",
    "    for k in range(t, T): # rewards coming after t\n",
    "        next_state, next_action, next_reward = episode[k]\n",
    "        return_state += gamma**k * reward\n",
    "    self.Q[state, action] += alpha * (return_state - self.Q[state, action])\n",
    "```\n",
    "\n",
    "The double for loop can be computationally expensive for long episodes (complexity T log T). It is much more efficient to iterate **backwards** on the episode, starting from the last transition and iterating until the first one, and using the fact that:\n",
    "\n",
    "$$R_{t} = r_{t+1} + \\gamma \\, R_{t+1}$$\n",
    "\n",
    "The terminal state $s_T$ has a return of 0 by definition. The last transition $s_{T-1} \\rightarrow s_{T}$ has therefore a return of $R_{T-1} = r_T$. The transition before that has a return of $R_{T-2} = r_{T-1}  + \\gamma \\, R_{T-1}$, and so on. You can then compute the returns of each action taken in the episode (and update its Q-value) in **linear time**.\n",
    "\n",
    "To iterate backwards over the list of transitions, use the `reversed()` operator:\n",
    "\n",
    "```python\n",
    "l = [1, 2, 3, 4, 5, 6, 7, 8, 9, 10]\n",
    "\n",
    "for a in reversed(l):\n",
    "    print(a)\n",
    "```"
   ]
  },
  {
   "cell_type": "code",
   "execution_count": null,
   "metadata": {},
   "outputs": [],
   "source": []
  },
  {
   "cell_type": "markdown",
   "metadata": {},
   "source": [
    "As you may observe, the returns have a huge variance due to the exploration, what makes the plot quite ugly and unreadable. The following function allows to smooth the returns using a sliding average over the last $N$ epochs:"
   ]
  },
  {
   "cell_type": "code",
   "execution_count": null,
   "metadata": {},
   "outputs": [],
   "source": [
    "def running_average(x, N):\n",
    "    cumsum = np.cumsum(np.insert(np.array(x), 0, 0)) \n",
    "    return (cumsum[N:] - cumsum[:-N]) / N"
   ]
  },
  {
   "cell_type": "markdown",
   "metadata": {},
   "source": [
    "**Q:** Plot the returns as well as their sliding average. Comment on the influence of exploration. "
   ]
  },
  {
   "cell_type": "code",
   "execution_count": null,
   "metadata": {},
   "outputs": [],
   "source": []
  },
  {
   "cell_type": "markdown",
   "metadata": {},
   "source": [
    "**Q:** Extend the agent with a `test(self, render)` method that performs a single episode on the environment without exploration, optionally renders each state but does **not** learn. You will have to re-train the agent, because the definition of its class has changed. Backup the previous value of `epsilon` in a temporary variable and reset it at the end of the episode. Have the method return the **undiscounted** sum of rewards in the episode, as well as the number of steps until termination.\n",
    "\n",
    "After training (you can reduce the number of episodes), first observe a couple of test episodes with rendering on. Is the policy any good?\n",
    "\n",
    "Perform 1000 test episodes without rendering and report the mean return over these 1000 episodes as the final performance of your agent."
   ]
  },
  {
   "cell_type": "code",
   "execution_count": null,
   "metadata": {},
   "outputs": [],
   "source": []
  },
  {
   "cell_type": "markdown",
   "metadata": {},
   "source": [
    "## Experiments\n",
    "\n",
    "### Early stopping\n",
    "\n",
    "**Q:** Train the agent for the smallest number of episodes where the returns seem to have stabilized (e.g. 2000 episodes). Test the agent. Does it work? Why?"
   ]
  },
  {
   "cell_type": "code",
   "execution_count": null,
   "metadata": {},
   "outputs": [],
   "source": []
  },
  {
   "cell_type": "markdown",
   "metadata": {},
   "source": [
    "### Discount rate\n",
    "\n",
    "**Q:** Change the value of the discount factor $\\gamma$. As the task is episodic (maximum 200 steps), try a discount rate of 1. What happens? Conclude."
   ]
  },
  {
   "cell_type": "code",
   "execution_count": null,
   "metadata": {},
   "outputs": [],
   "source": []
  },
  {
   "cell_type": "markdown",
   "metadata": {},
   "source": [
    "### Learning rate\n",
    "\n",
    "**Q:** Vary the learning rate `alpha`. What happens?"
   ]
  },
  {
   "cell_type": "code",
   "execution_count": null,
   "metadata": {},
   "outputs": [],
   "source": []
  },
  {
   "cell_type": "markdown",
   "metadata": {},
   "source": [
    "### Exploration parameter\n",
    "\n",
    "**Q:** Vary the exploration parameter `epsilon` and observe its impact on learning."
   ]
  },
  {
   "cell_type": "code",
   "execution_count": null,
   "metadata": {},
   "outputs": [],
   "source": []
  },
  {
   "cell_type": "markdown",
   "metadata": {},
   "source": [
    "### Exploration scheduling\n",
    "\n",
    "Even with a good learning rate (0.01) and a discount factor of 0.9, the exploration parameter as a huge impact on the performance: too low and the agent does not find the optimal policy, too high and the agent is inefficient at the end of learning. \n",
    "\n",
    "**Q:** Implement scheduling for epsilon. You can use exponential scheduling as in the bandits exercise:\n",
    "\n",
    "$$\\epsilon = \\epsilon \\times (1 - \\epsilon_\\text{decay})$$\n",
    "\n",
    "at the end of each episode, with $\\epsilon_\\text{decay}$ being a small decay parameter (`1e-5` or so).\n",
    "\n",
    "Find a correct value for $\\epsilon_\\text{decay}$. Do not hesitate to fine-tune alpha at the same time.\n",
    "\n",
    "*Tip:* Prepare and visualize the scheduling in a different cell, and use the initial value of $\\epsilon$ and $\\epsilon_\\text{decay}$ that seem to make sense. "
   ]
  },
  {
   "cell_type": "code",
   "execution_count": null,
   "metadata": {},
   "outputs": [],
   "source": []
  }
 ],
 "metadata": {
  "kernelspec": {
   "display_name": "Python 3",
   "language": "python",
   "name": "python3"
  },
  "language_info": {
   "codemirror_mode": {
    "name": "ipython",
    "version": 3
   },
   "file_extension": ".py",
   "mimetype": "text/x-python",
   "name": "python",
   "nbconvert_exporter": "python",
   "pygments_lexer": "ipython3",
   "version": "3.8.6"
  }
 },
 "nbformat": 4,
 "nbformat_minor": 4
}
