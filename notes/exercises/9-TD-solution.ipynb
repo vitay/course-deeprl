{
 "cells": [
  {
   "cell_type": "markdown",
   "metadata": {},
   "source": [
    "# Q-learning "
   ]
  },
  {
   "cell_type": "code",
   "execution_count": 1,
   "metadata": {},
   "outputs": [],
   "source": [
    "import numpy as np\n",
    "import matplotlib.pyplot as plt\n",
    "rng = np.random.default_rng()\n",
    "import time\n",
    "\n",
    "from IPython.display import clear_output\n",
    "\n",
    "try:\n",
    "    import google.colab\n",
    "    IN_COLAB = True\n",
    "except:\n",
    "    IN_COLAB = False\n",
    "\n",
    "if IN_COLAB:\n",
    "    !pip install gym > /dev/null 2>&1\n",
    "    \n",
    "import gym\n",
    "\n",
    "def running_average(x, N):\n",
    "    cumsum = np.cumsum(np.insert(np.array(x), 0, 0)) \n",
    "    return (cumsum[N:] - cumsum[:-N]) / N"
   ]
  },
  {
   "cell_type": "markdown",
   "metadata": {},
   "source": [
    "In this short exercise, we are going to apply **Q-learning** on the Taxi environment used last time for MC control.\n",
    "\n",
    "As a reminder, Q-learning updates the Q-value of a state-action pair **after each transition**, using the update rule:\n",
    "\n",
    "$$\\Delta Q(s_t, a_t) = \\alpha \\, (r_{t+1} + \\gamma \\, \\max_{a'} \\, Q(s_{t+1}, a') - Q(s_t, a_t))$$\n",
    "\n",
    "**Q:** Update the class you designed for online MC in the last exercise so that it implements Q-learning. \n",
    "\n",
    "The main difference is that the `update()` method has to be called after each step of the episode, not at the end. It simplifies a lot the code too (no need to iterate backwards on the episode).\n",
    "\n",
    "You can use the following parameters at the beginning, but feel free to change them:\n",
    "\n",
    "* Discount factor $\\gamma = 0.9$. \n",
    "* Learning rate $\\alpha = 0.1$.\n",
    "* Epsilon-greedy action selection, with an initial exploration parameter of 1.0 and an exponential decay of $10^{-5}$ after each update (i.e. every step!).\n",
    "* A total number of episodes of 20000.\n",
    "\n",
    "Keep the general structure of the class: `train()` for the main loop, `test()` to run one episode without exploration, etc. Add a method to compute the discounted return of each episode, as it will not be done automatically by the `update()` method anymore. Plot the training and test performance in the end and render the learned deterministic policy for 10 episodes.\n",
    "\n",
    "*Note:* if $s_{t+1}$ is terminal (`done` is true after the transition), the target should not be $r_{t+1} + \\gamma \\, \\max_{a'} \\, Q(s_{t+1}, a')$, but simply $r_{t+1}$ as there is no next action."
   ]
  },
  {
   "cell_type": "code",
   "execution_count": 2,
   "metadata": {},
   "outputs": [],
   "source": [
    "class QLearningAgent:\n",
    "    \"\"\"\n",
    "    Q-learning agent.\n",
    "    \"\"\"\n",
    "    \n",
    "    def __init__(self, env, gamma, epsilon, decay_epsilon, alpha):\n",
    "        \"\"\"\n",
    "        :param env: gym-like environment\n",
    "        :param gamma: discount factor\n",
    "        :param epsilon: exploration parameter\n",
    "        :param decay_epsilon: exploration decay parameter\n",
    "        :param alpha: learning rate\n",
    "        \"\"\"\n",
    "        self.env = env\n",
    "        self.gamma = gamma\n",
    "        self.epsilon = epsilon\n",
    "        self.decay_epsilon = decay_epsilon\n",
    "        self.alpha = alpha\n",
    "        \n",
    "        # Q_table\n",
    "        self.Q = np.zeros([self.env.observation_space.n, self.env.action_space.n])\n",
    "    \n",
    "    def act(self, state):\n",
    "        \"Returns an action using epsilon-greedy action selection.\"\n",
    "        \n",
    "        action = rng.choice(np.where(self.Q[state, :] == self.Q[state, :].max())[0])\n",
    "        \n",
    "        if rng.random() < self.epsilon:\n",
    "            action = self.env.action_space.sample() \n",
    "        \n",
    "        return action\n",
    "    \n",
    "    def update(self, state, action, reward, next_state, done):\n",
    "        \"Updates the agent using a single transition.\"\n",
    "        \n",
    "        # Bellman target\n",
    "        target = reward\n",
    "        \n",
    "        if not done:\n",
    "            target += self.gamma * self.Q[next_state, :].max()\n",
    "        \n",
    "        # Update the Q-value\n",
    "        self.Q[state, action] += self.alpha * (target - self.Q[state, action])\n",
    "            \n",
    "        # Decay epsilon\n",
    "        self.epsilon = self.epsilon * (1 - self.decay_epsilon)\n",
    "            \n",
    "    \n",
    "    def train(self, nb_episodes, render=False):\n",
    "        \"Runs the agent on the environment for nb_episodes. Returns the list of obtained returns.\"\n",
    "\n",
    "        # Returns\n",
    "        returns = []\n",
    "\n",
    "        # Fixed number of episodes\n",
    "        for episode in range(nb_episodes):\n",
    "\n",
    "            # Reset\n",
    "            state = self.env.reset()\n",
    "            done = False\n",
    "            nb_steps = 0\n",
    "\n",
    "            # Store rewards\n",
    "            rewards = []\n",
    "\n",
    "            # Sample the episode\n",
    "            while not done:\n",
    "                \n",
    "                # Render the current state\n",
    "                if render:\n",
    "                    clear_output(wait=True)\n",
    "                    self.env.render()\n",
    "                    time.sleep(0.1)\n",
    "\n",
    "                # Select an action \n",
    "                action = self.act(state)\n",
    "\n",
    "                # Perform the action\n",
    "                next_state, reward, done, info = self.env.step(action)\n",
    "                \n",
    "                # Append reward\n",
    "                rewards.append(reward)\n",
    "\n",
    "                # Learn from the transition\n",
    "                self.update(state, action, reward, next_state, done)\n",
    "\n",
    "                # Go in the next state\n",
    "                state = next_state\n",
    "\n",
    "                # Increment time\n",
    "                nb_steps += 1\n",
    "\n",
    "            # Compute the discounted return of the episode.\n",
    "            return_episode = self.discounted_return(rewards)    \n",
    "\n",
    "            # Store info\n",
    "            returns.append(return_episode)\n",
    "            \n",
    "            # Print info\n",
    "            if episode % 100 == 0:\n",
    "                clear_output(wait=True)\n",
    "                print('Episode', episode, ':')\n",
    "                print(' return:', return_episode)\n",
    "                print(' steps:', nb_steps)\n",
    "                print(' epsilon:', self.epsilon)\n",
    "            \n",
    "        return returns\n",
    "    \n",
    "    def test(self, render=True):\n",
    "        \"Performs a test episode without exploration.\"\n",
    "        previous_epsilon = self.epsilon\n",
    "        self.epsilon = 0.0\n",
    "        \n",
    "        # Reset\n",
    "        state = self.env.reset()\n",
    "        done = False\n",
    "        nb_steps = 0\n",
    "        rewards= 0\n",
    "\n",
    "        # Sample the episode\n",
    "        while not done:\n",
    "            if render:\n",
    "                clear_output(wait=True)\n",
    "                self.env.render()\n",
    "                time.sleep(0.1)\n",
    "            action = self.act(state)\n",
    "            next_state, reward, done, info = self.env.step(action)\n",
    "            rewards += reward\n",
    "            state = next_state\n",
    "            nb_steps += 1\n",
    "            \n",
    "        self.epsilon = previous_epsilon\n",
    "            \n",
    "        return rewards, nb_steps\n",
    "    \n",
    "    def discounted_return(self, rewards):\n",
    "        \"Computes the discounted return of an episode based on the list of rewards.\"\n",
    "        ret = 0.0\n",
    "        for reward in reversed(rewards):\n",
    "            ret = reward + self.gamma*ret\n",
    "        return ret"
   ]
  },
  {
   "cell_type": "code",
   "execution_count": 3,
   "metadata": {},
   "outputs": [
    {
     "name": "stdout",
     "output_type": "stream",
     "text": [
      "Episode 19900 :\n",
      " return: 5.9432300000000025\n",
      " steps: 7\n",
      " epsilon: 0.0190286448954996\n"
     ]
    },
    {
     "data": {
      "image/png": "[encoded data removed]",
      "text/plain": [
       "<Figure size 720x432 with 1 Axes>"
      ]
     },
     "metadata": {
      "needs_background": "light"
     },
     "output_type": "display_data"
    },
    {
     "name": "stdout",
     "output_type": "stream",
     "text": [
      "Test performance 7.787\n"
     ]
    },
    {
     "data": {
      "image/png": "[encoded data removed]",
      "text/plain": [
       "<Figure size 1080x432 with 2 Axes>"
      ]
     },
     "metadata": {
      "needs_background": "light"
     },
     "output_type": "display_data"
    }
   ],
   "source": [
    "# Parameters\n",
    "gamma = 0.9\n",
    "epsilon = 1.0\n",
    "decay_epsilon = 1e-5\n",
    "alpha = 0.1\n",
    "nb_episodes = 20000\n",
    "\n",
    "# Create the environment\n",
    "env = gym.make(\"Taxi-v3\")\n",
    "\n",
    "# Create the agent\n",
    "agent = QLearningAgent(env, gamma, epsilon, decay_epsilon, alpha)\n",
    "\n",
    "# Train the agent \n",
    "returns = agent.train(nb_episodes)\n",
    "\n",
    "# Plot training returns\n",
    "plt.figure(figsize=(10, 6))\n",
    "plt.plot(returns)\n",
    "plt.plot(running_average(returns, 1000))\n",
    "plt.xlabel(\"Episodes\")\n",
    "plt.ylabel(\"Returns\")\n",
    "plt.show()\n",
    "\n",
    "# Test the agent for 1000 episodes\n",
    "test_returns = []\n",
    "test_steps = []\n",
    "for episode in range(1000):\n",
    "    return_episode, nb_steps = agent.test(render=False)\n",
    "    test_returns.append(return_episode)\n",
    "    test_steps.append(nb_steps)\n",
    "print(\"Test performance\", np.mean(test_returns))\n",
    "\n",
    "plt.figure(figsize=(15, 6))\n",
    "plt.subplot(121)\n",
    "plt.hist(test_returns)\n",
    "plt.xlabel(\"Returns\")\n",
    "plt.subplot(122)\n",
    "plt.hist(test_steps)\n",
    "plt.xlabel(\"Number of steps\")\n",
    "plt.show()"
   ]
  },
  {
   "cell_type": "code",
   "execution_count": 4,
   "metadata": {},
   "outputs": [
    {
     "name": "stdout",
     "output_type": "stream",
     "text": [
      "+---------+\n",
      "|\u001b[35m\u001b[42mR\u001b[0m\u001b[0m: | : :G|\n",
      "| : | : : |\n",
      "| : : : : |\n",
      "| | : | : |\n",
      "|Y| : |B: |\n",
      "+---------+\n",
      "  (North)\n",
      "Returns: [6, 8, 9, 9, 12]\n",
      "Number of steps [15, 13, 12, 12, 9]\n"
     ]
    }
   ],
   "source": [
    "# Visualize some episodes\n",
    "returns = []\n",
    "length_episode = []\n",
    "\n",
    "for episode in range(5):\n",
    "    \n",
    "    # Perform one episode\n",
    "    return_episode, nb_steps = agent.test(render=True)\n",
    "    \n",
    "    # Store info\n",
    "    returns.append(return_episode)\n",
    "    length_episode.append(nb_steps)\n",
    "\n",
    "\n",
    "print(\"Returns:\", returns)\n",
    "print(\"Number of steps\", length_episode)"
   ]
  },
  {
   "cell_type": "markdown",
   "metadata": {},
   "source": [
    "**Q:** Compare the performance of Q-learning to online MC. Experiment with parameters (gamma, epsilon, alpha, etc.)."
   ]
  },
  {
   "cell_type": "code",
   "execution_count": 5,
   "metadata": {},
   "outputs": [
    {
     "name": "stdout",
     "output_type": "stream",
     "text": [
      "Episode 19900 :\n",
      " return: 4.0\n",
      " steps: 17\n",
      " epsilon: 0.012511064005448906\n"
     ]
    },
    {
     "data": {
      "image/png": "[encoded data removed]",
      "text/plain": [
       "<Figure size 720x432 with 1 Axes>"
      ]
     },
     "metadata": {
      "needs_background": "light"
     },
     "output_type": "display_data"
    },
    {
     "name": "stdout",
     "output_type": "stream",
     "text": [
      "Test performance 7.962\n"
     ]
    },
    {
     "data": {
      "image/png": "[encoded data removed]",
      "text/plain": [
       "<Figure size 1080x432 with 2 Axes>"
      ]
     },
     "metadata": {
      "needs_background": "light"
     },
     "output_type": "display_data"
    }
   ],
   "source": [
    "# Parameters\n",
    "gamma = 1.0\n",
    "epsilon = 1.0\n",
    "decay_epsilon = 1e-5\n",
    "alpha = 0.05\n",
    "nb_episodes = 20000\n",
    "\n",
    "# Create the environment\n",
    "env = gym.make(\"Taxi-v3\")\n",
    "\n",
    "# Create the agent\n",
    "agent = QLearningAgent(env, gamma, epsilon, decay_epsilon, alpha)\n",
    "\n",
    "# Train the agent \n",
    "returns = agent.train(nb_episodes)\n",
    "\n",
    "# Plot training returns\n",
    "plt.figure(figsize=(10, 6))\n",
    "plt.plot(returns)\n",
    "plt.plot(running_average(returns, 1000))\n",
    "plt.xlabel(\"Episodes\")\n",
    "plt.ylabel(\"Returns\")\n",
    "plt.show()\n",
    "\n",
    "# Test the agent for 1000 episodes\n",
    "test_returns = []\n",
    "test_steps = []\n",
    "for episode in range(1000):\n",
    "    return_episode, nb_steps = agent.test(render=False)\n",
    "    test_returns.append(return_episode)\n",
    "    test_steps.append(nb_steps)\n",
    "print(\"Test performance\", np.mean(test_returns))\n",
    "\n",
    "plt.figure(figsize=(15, 6))\n",
    "plt.subplot(121)\n",
    "plt.hist(test_returns)\n",
    "plt.xlabel(\"Returns\")\n",
    "plt.subplot(122)\n",
    "plt.hist(test_steps)\n",
    "plt.xlabel(\"Number of steps\")\n",
    "plt.show()"
   ]
  },
  {
   "cell_type": "code",
   "execution_count": 6,
   "metadata": {},
   "outputs": [
    {
     "name": "stdout",
     "output_type": "stream",
     "text": [
      "+---------+\n",
      "|\u001b[35m\u001b[42mR\u001b[0m\u001b[0m: | : :G|\n",
      "| : | : : |\n",
      "| : : : : |\n",
      "| | : | : |\n",
      "|Y| : |B: |\n",
      "+---------+\n",
      "  (North)\n",
      "Returns: [6, 12, 4, 8, 5]\n",
      "Number of steps [15, 9, 17, 13, 16]\n"
     ]
    }
   ],
   "source": [
    "# Visualize some episodes\n",
    "returns = []\n",
    "length_episode = []\n",
    "\n",
    "for episode in range(5):\n",
    "    \n",
    "    # Perform one episode\n",
    "    return_episode, nb_steps = agent.test(render=True)\n",
    "    \n",
    "    # Store info\n",
    "    returns.append(return_episode)\n",
    "    length_episode.append(nb_steps)\n",
    "\n",
    "\n",
    "print(\"Returns:\", returns)\n",
    "print(\"Number of steps\", length_episode)"
   ]
  },
  {
   "cell_type": "markdown",
   "metadata": {},
   "source": [
    "**A:** Q-learning accepts much higher values of gamma than MC, because the returns have a much lower variance. With the right parameters, Q-learning can learn much faster than MC."
   ]
  }
 ],
 "metadata": {
  "kernelspec": {
   "display_name": "Python 3",
   "language": "python",
   "name": "python3"
  },
  "language_info": {
   "codemirror_mode": {
    "name": "ipython",
    "version": 3
   },
   "file_extension": ".py",
   "mimetype": "text/x-python",
   "name": "python",
   "nbconvert_exporter": "python",
   "pygments_lexer": "ipython3",
   "version": "3.8.6"
  }
 },
 "nbformat": 4,
 "nbformat_minor": 4
}
