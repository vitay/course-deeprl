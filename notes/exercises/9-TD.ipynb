{
 "cells": [
  {
   "cell_type": "markdown",
   "metadata": {},
   "source": [
    "# Q-learning "
   ]
  },
  {
   "cell_type": "code",
   "execution_count": 1,
   "metadata": {},
   "outputs": [],
   "source": [
    "import numpy as np\n",
    "import matplotlib.pyplot as plt\n",
    "rng = np.random.default_rng()\n",
    "import time\n",
    "\n",
    "from IPython.display import clear_output\n",
    "\n",
    "try:\n",
    "    import google.colab\n",
    "    IN_COLAB = True\n",
    "except:\n",
    "    IN_COLAB = False\n",
    "\n",
    "if IN_COLAB:\n",
    "    !pip install gym > /dev/null 2>&1\n",
    "    \n",
    "import gym\n",
    "\n",
    "def running_average(x, N):\n",
    "    cumsum = np.cumsum(np.insert(np.array(x), 0, 0)) \n",
    "    return (cumsum[N:] - cumsum[:-N]) / N"
   ]
  },
  {
   "cell_type": "markdown",
   "metadata": {},
   "source": [
    "In this short exercise, we are going to apply **Q-learning** on the Taxi environment used last time for MC control.\n",
    "\n",
    "As a reminder, Q-learning updates the Q-value of a state-action pair **after each transition**, using the update rule:\n",
    "\n",
    "$$\\Delta Q(s_t, a_t) = \\alpha \\, (r_{t+1} + \\gamma \\, \\max_{a'} \\, Q(s_{t+1}, a') - Q(s_t, a_t))$$\n",
    "\n",
    "**Q:** Update the class you designed for online MC in the last exercise so that it implements Q-learning. \n",
    "\n",
    "The main difference is that the `update()` method has to be called after each step of the episode, not at the end. It simplifies a lot the code too (no need to iterate backwards on the episode).\n",
    "\n",
    "You can use the following parameters at the beginning, but feel free to change them:\n",
    "\n",
    "* Discount factor $\\gamma = 0.9$. \n",
    "* Learning rate $\\alpha = 0.1$.\n",
    "* Epsilon-greedy action selection, with an initial exploration parameter of 1.0 and an exponential decay of $10^{-5}$ after each update (i.e. every step!).\n",
    "* A total number of episodes of 20000.\n",
    "\n",
    "Keep the general structure of the class: `train()` for the main loop, `test()` to run one episode without exploration, etc. Add a method to compute the discounted return of each episode, as it will not be done automatically by the `update()` method anymore. Plot the training and test performance in the end and render the learned deterministic policy for 10 episodes.\n",
    "\n",
    "*Note:* if $s_{t+1}$ is terminal (`done` is true after the transition), the target should not be $r_{t+1} + \\gamma \\, \\max_{a'} \\, Q(s_{t+1}, a')$, but simply $r_{t+1}$ as there is no next action."
   ]
  },
  {
   "cell_type": "code",
   "execution_count": null,
   "metadata": {},
   "outputs": [],
   "source": []
  },
  {
   "cell_type": "markdown",
   "metadata": {},
   "source": [
    "**Q:** Compare the performance of Q-learning to online MC. Experiment with parameters (gamma, epsilon, alpha, etc.)."
   ]
  },
  {
   "cell_type": "code",
   "execution_count": null,
   "metadata": {},
   "outputs": [],
   "source": []
  }
 ],
 "metadata": {
  "kernelspec": {
   "display_name": "Python 3",
   "language": "python",
   "name": "python3"
  },
  "language_info": {
   "codemirror_mode": {
    "name": "ipython",
    "version": 3
   },
   "file_extension": ".py",
   "mimetype": "text/x-python",
   "name": "python",
   "nbconvert_exporter": "python",
   "pygments_lexer": "ipython3",
   "version": "3.8.6"
  }
 },
 "nbformat": 4,
 "nbformat_minor": 4
}
